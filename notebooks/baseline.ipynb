{
 "cells": [
  {
   "cell_type": "code",
   "execution_count": null,
   "metadata": {
    "_cell_guid": "b1076dfc-b9ad-4769-8c92-a6c4dae69d19",
    "_uuid": "8f2839f25d086af736a60e9eeb907d3b93b6e0e5",
    "execution": {
     "iopub.execute_input": "2023-07-31T16:22:40.553205Z",
     "iopub.status.busy": "2023-07-31T16:22:40.552732Z",
     "iopub.status.idle": "2023-07-31T16:22:55.218086Z",
     "shell.execute_reply": "2023-07-31T16:22:55.216356Z",
     "shell.execute_reply.started": "2023-07-31T16:22:40.553169Z"
    }
   },
   "outputs": [],
   "source": [
    "%autosave 60\n",
    "\n",
    "# This Python 3 environment comes with many helpful analytics libraries installed\n",
    "# It is defined by the kaggle/python Docker image: https://github.com/kaggle/docker-python\n",
    "# For example, here's several helpful packages to load\n",
    "! pip install pandarallel\n",
    "import numpy as np # linear algebra\n",
    "import pandas as pd # data processing, CSV file I/O (e.g. pd.read_csv)\n",
    "import re\n",
    "from matplotlib import pyplot as plt\n",
    "from tqdm.auto import tqdm, trange\n",
    "# Input data files are available in the read-only \"../input/\" directory\n",
    "# For example, running this (by clicking run or pressing Shift+Enter) will list all files under the input directory\n",
    "tqdm.pandas()\n",
    "import os\n",
    "# for dirname, _, filenames in os.walk('/kaggle/input'):\n",
    "#     for filename in filenames:\n",
    "#         print(os.path.join(dirname, filename))\n",
    "\n",
    "# You can write up to 20GB to the current directory (/kaggle/working/) that gets preserved as output when you create a version using \"Save & Run All\" \n",
    "# You can also write temporary files to /kaggle/temp/, but they won't be saved outside of the current session"
   ]
  },
  {
   "cell_type": "code",
   "execution_count": null,
   "metadata": {},
   "outputs": [],
   "source": [
    "from IPython.core.interactiveshell import InteractiveShell\n",
    "InteractiveShell.ast_node_interactivity = \"all\""
   ]
  },
  {
   "cell_type": "code",
   "execution_count": null,
   "metadata": {
    "execution": {
     "iopub.execute_input": "2023-07-31T16:22:55.222323Z",
     "iopub.status.busy": "2023-07-31T16:22:55.221890Z",
     "iopub.status.idle": "2023-07-31T16:22:55.232771Z",
     "shell.execute_reply": "2023-07-31T16:22:55.230766Z",
     "shell.execute_reply.started": "2023-07-31T16:22:55.222285Z"
    }
   },
   "outputs": [],
   "source": [
    "def get_text_and_score(pathes):\n",
    "    text_score = []\n",
    "    for path in pathes:\n",
    "        file_names = os.listdir(path)\n",
    "        for file_name in file_names:\n",
    "            with open(f'{path}/{file_name}', 'r') as file:\n",
    "                text = file.read()\n",
    "                score = int(file_name.split('.')[0].split('_')[-1])\n",
    "            text_score.append([text, score])\n",
    "    return text_score"
   ]
  },
  {
   "cell_type": "code",
   "execution_count": null,
   "metadata": {
    "execution": {
     "iopub.execute_input": "2023-07-31T16:31:06.356690Z",
     "iopub.status.busy": "2023-07-31T16:31:06.356234Z",
     "iopub.status.idle": "2023-07-31T16:31:36.723525Z",
     "shell.execute_reply": "2023-07-31T16:31:36.722565Z",
     "shell.execute_reply.started": "2023-07-31T16:31:06.356654Z"
    }
   },
   "outputs": [],
   "source": [
    "path = r'../data/aclImdb'\n",
    "corpus = get_text_and_score([f'{path}/train/pos/', f'{path}/train/neg/', \n",
    "                             f'{path}/test/pos/', f'{path}/test/neg/'])\n"
   ]
  },
  {
   "cell_type": "code",
   "execution_count": null,
   "metadata": {
    "execution": {
     "iopub.execute_input": "2023-07-31T17:01:30.688753Z",
     "iopub.status.busy": "2023-07-31T17:01:30.687923Z",
     "iopub.status.idle": "2023-07-31T17:01:30.824944Z",
     "shell.execute_reply": "2023-07-31T17:01:30.823635Z",
     "shell.execute_reply.started": "2023-07-31T17:01:30.688708Z"
    }
   },
   "outputs": [],
   "source": [
    "dataset = pd.DataFrame(corpus, columns=('data', 'target'))"
   ]
  },
  {
   "cell_type": "code",
   "execution_count": null,
   "metadata": {
    "execution": {
     "iopub.execute_input": "2023-07-31T17:01:32.184066Z",
     "iopub.status.busy": "2023-07-31T17:01:32.183640Z",
     "iopub.status.idle": "2023-07-31T17:01:32.216528Z",
     "shell.execute_reply": "2023-07-31T17:01:32.215521Z",
     "shell.execute_reply.started": "2023-07-31T17:01:32.184031Z"
    }
   },
   "outputs": [],
   "source": [
    "dataset.isnull().sum()"
   ]
  },
  {
   "cell_type": "code",
   "execution_count": null,
   "metadata": {
    "execution": {
     "iopub.execute_input": "2023-07-31T17:01:33.436634Z",
     "iopub.status.busy": "2023-07-31T17:01:33.435998Z",
     "iopub.status.idle": "2023-07-31T17:01:33.441119Z",
     "shell.execute_reply": "2023-07-31T17:01:33.440099Z",
     "shell.execute_reply.started": "2023-07-31T17:01:33.436600Z"
    }
   },
   "outputs": [],
   "source": [
    "texts_count = 50000\n",
    "dataset = dataset.iloc[:texts_count]"
   ]
  },
  {
   "cell_type": "code",
   "execution_count": null,
   "metadata": {
    "execution": {
     "iopub.execute_input": "2023-07-31T17:01:54.731926Z",
     "iopub.status.busy": "2023-07-31T17:01:54.731482Z",
     "iopub.status.idle": "2023-07-31T17:01:54.761560Z",
     "shell.execute_reply": "2023-07-31T17:01:54.760280Z",
     "shell.execute_reply.started": "2023-07-31T17:01:54.731892Z"
    }
   },
   "outputs": [],
   "source": [
    "dataset.dropna(inplace=True)"
   ]
  },
  {
   "cell_type": "code",
   "execution_count": null,
   "metadata": {
    "execution": {
     "iopub.execute_input": "2023-07-31T17:01:54.988209Z",
     "iopub.status.busy": "2023-07-31T17:01:54.987801Z",
     "iopub.status.idle": "2023-07-31T17:01:55.577859Z",
     "shell.execute_reply": "2023-07-31T17:01:55.576799Z",
     "shell.execute_reply.started": "2023-07-31T17:01:54.988176Z"
    }
   },
   "outputs": [],
   "source": [
    "text_lenth = dataset['data'].apply(len)\n",
    "\n",
    "fig, axs = plt.subplots(1, 2, figsize=(12, 6))\n",
    "\n",
    "axs[0].hist(text_lenth, 30, label='Гистограмма распределения длин текстов')\n",
    "axs[1].boxplot(text_lenth, vert=False)"
   ]
  },
  {
   "cell_type": "code",
   "execution_count": null,
   "metadata": {
    "execution": {
     "iopub.execute_input": "2023-07-31T17:01:55.580397Z",
     "iopub.status.busy": "2023-07-31T17:01:55.580076Z",
     "iopub.status.idle": "2023-07-31T17:01:55.587911Z",
     "shell.execute_reply": "2023-07-31T17:01:55.586996Z",
     "shell.execute_reply.started": "2023-07-31T17:01:55.580370Z"
    }
   },
   "outputs": [],
   "source": [
    "def clean_regex(text):\n",
    "    text = re.sub('\\\"{2,3}', '', text)\n",
    "    text = re.sub(r'[\\\"\\#\\$\\%\\&\\'\\(\\)\\*\\+\\/\\:\\;\\<\\=\\>\\@\\[\\\\\\]\\^\\_\\`\\{\\|\\}\\~]', ' ', text)\n",
    "    text = re.sub(r'[.,!?-]', '', text)\n",
    "    text = re.sub(r'<[^>]+>', '', text)\n",
    "    text = re.sub(r'\\d+', '', text)\n",
    "    text = re.sub(r' +', ' ', text)\n",
    "    text = re.sub(r'[^\\x00-\\x7f]', r'', text)\n",
    "    \n",
    "    return text"
   ]
  },
  {
   "cell_type": "code",
   "execution_count": null,
   "metadata": {
    "execution": {
     "iopub.execute_input": "2023-07-31T17:01:55.589840Z",
     "iopub.status.busy": "2023-07-31T17:01:55.589033Z",
     "iopub.status.idle": "2023-07-31T17:01:55.719414Z",
     "shell.execute_reply": "2023-07-31T17:01:55.718335Z",
     "shell.execute_reply.started": "2023-07-31T17:01:55.589809Z"
    }
   },
   "outputs": [],
   "source": [
    "import nltk\n",
    "from nltk.tokenize import word_tokenize, sent_tokenize\n",
    "from nltk.corpus import stopwords\n",
    "from nltk.stem.wordnet import WordNetLemmatizer\n",
    "from tensorflow.keras.utils import pad_sequences\n",
    "from collections import Counter\n",
    "from pandarallel import pandarallel\n",
    "\n",
    "pandarallel.initialize(progress_bar=True, nb_workers = 8)\n",
    "\n",
    "nltk.download('stopwords')\n",
    "nltk.download('wordnet')\n",
    "stopwords = [word for word in set(stopwords.words('english')) if word not in ('no', 'not')]"
   ]
  },
  {
   "cell_type": "code",
   "execution_count": null,
   "metadata": {
    "execution": {
     "iopub.execute_input": "2023-07-31T17:01:55.721891Z",
     "iopub.status.busy": "2023-07-31T17:01:55.721412Z",
     "iopub.status.idle": "2023-07-31T17:01:55.729126Z",
     "shell.execute_reply": "2023-07-31T17:01:55.728018Z",
     "shell.execute_reply.started": "2023-07-31T17:01:55.721860Z"
    }
   },
   "outputs": [],
   "source": [
    "max_lenth = 1000"
   ]
  },
  {
   "cell_type": "code",
   "execution_count": null,
   "metadata": {},
   "outputs": [],
   "source": [
    "dataset"
   ]
  },
  {
   "cell_type": "code",
   "execution_count": null,
   "metadata": {},
   "outputs": [],
   "source": [
    "rex_to_rem_stopwords = '|'.join(f'\\s{word}\\s' for word in stopwords)"
   ]
  },
  {
   "cell_type": "code",
   "execution_count": null,
   "metadata": {
    "execution": {
     "iopub.execute_input": "2023-07-31T17:01:55.853927Z",
     "iopub.status.busy": "2023-07-31T17:01:55.852619Z",
     "iopub.status.idle": "2023-07-31T17:01:55.864310Z",
     "shell.execute_reply": "2023-07-31T17:01:55.863196Z",
     "shell.execute_reply.started": "2023-07-31T17:01:55.853876Z"
    }
   },
   "outputs": [],
   "source": [
    "def tokenize_text(text):\n",
    "    return word_tokenize(text)\n",
    "\n",
    "def split_words_by_space(text):\n",
    "    return text.split()\n",
    "\n",
    "def make_lower(word_list):\n",
    "    return list(map(lambda t: t.lower(), word_list))\n",
    "\n",
    "def lemmatize(word_list):\n",
    "    return list(map(lemmatizer.lemmatize, word_list))\n",
    "\n",
    "def remove_stop_words1(word_list):\n",
    "    text = join_word_list(word_list)\n",
    "    text = re.sub(rex_to_rem_stopwords, ' ', text)\n",
    "    return split_words_by_space(text)\n",
    "\n",
    "\n",
    "def add_bos_tag(word_list):\n",
    "    word_list.insert(0, '<bos>')\n",
    "    return word_list\n",
    "\n",
    "def limit_sequence(word_list, max_lenth):\n",
    "    return word_list[:max_lenth]\n",
    "\n",
    "def join_word_list(word_list):\n",
    "    return ' '.join(word_list)\n",
    "\n",
    "def preprocess_text(text):\n",
    "    word_list = tokenize_text(text)\n",
    "    lower_word_list = make_lower(word_list)\n",
    "    lemmatized_word_list = make_lower(lower_word_list)\n",
    "    word_list_with_bos = add_bos_tag(remove_stop_words1(lemmatized_word_list))\n",
    "    preprocessed_text = join_word_list(limit_sequence(word_list_with_bos, 1000))\n",
    "    \n",
    "    return preprocessed_text"
   ]
  },
  {
   "cell_type": "code",
   "execution_count": null,
   "metadata": {
    "execution": {
     "iopub.execute_input": "2023-07-31T17:01:55.956085Z",
     "iopub.status.busy": "2023-07-31T17:01:55.955657Z",
     "iopub.status.idle": "2023-07-31T17:06:43.439726Z",
     "shell.execute_reply": "2023-07-31T17:06:43.438238Z",
     "shell.execute_reply.started": "2023-07-31T17:01:55.956051Z"
    }
   },
   "outputs": [],
   "source": [
    "threshold_count = 15\n",
    "count_words = Counter(nltk.flatten(list(dataset['data'].parallel_apply(clean_regex).parallel_apply(tokenize_text).parallel_apply(make_lower))))\n",
    "\n",
    "stopwords = set(stopwords)\n",
    "for word in count_words:\n",
    "    count = count_words[word]\n",
    "    if count <= threshold_count:\n",
    "        stopwords.add(word)\n",
    "        \n",
    "stopwords = sorted(list(stopwords))\n",
    "vocabulary = [word for word in count_words if count_words[word] > threshold_count and word not in stopwords]"
   ]
  },
  {
   "cell_type": "code",
   "execution_count": null,
   "metadata": {
    "execution": {
     "iopub.execute_input": "2023-07-31T17:06:43.443116Z",
     "iopub.status.busy": "2023-07-31T17:06:43.442758Z",
     "iopub.status.idle": "2023-08-01T00:22:03.876884Z",
     "shell.execute_reply": "2023-08-01T00:22:03.874201Z",
     "shell.execute_reply.started": "2023-07-31T17:06:43.443078Z"
    }
   },
   "outputs": [],
   "source": [
    "# !unzip /usr/share/nltk_data/corpora/wordnet.zip -d /usr/share/nltk_data/corpora/\n",
    "# %script false\n",
    "lemmatizer = WordNetLemmatizer()\n",
    "dataset['cleaned text'] = dataset['data'].parallel_apply(clean_regex)\n",
    "dataset['preprocessed text'] = dataset['cleaned text'].parallel_apply(preprocess_text)\n",
    "dataset['preprocessed text']"
   ]
  },
  {
   "cell_type": "code",
   "execution_count": null,
   "metadata": {
    "execution": {
     "iopub.status.busy": "2023-08-01T00:22:03.879407Z",
     "iopub.status.idle": "2023-08-01T00:22:03.880713Z",
     "shell.execute_reply": "2023-08-01T00:22:03.880453Z",
     "shell.execute_reply.started": "2023-08-01T00:22:03.880420Z"
    }
   },
   "outputs": [],
   "source": [
    "# text_lenth = dataset['preprocessed text'].parallel_apply(len)"
   ]
  },
  {
   "cell_type": "code",
   "execution_count": null,
   "metadata": {
    "execution": {
     "iopub.status.busy": "2023-08-01T00:22:03.882115Z",
     "iopub.status.idle": "2023-08-01T00:22:03.882832Z",
     "shell.execute_reply": "2023-08-01T00:22:03.882563Z",
     "shell.execute_reply.started": "2023-08-01T00:22:03.882539Z"
    }
   },
   "outputs": [],
   "source": [
    "dataset"
   ]
  },
  {
   "cell_type": "code",
   "execution_count": null,
   "metadata": {
    "execution": {
     "iopub.status.busy": "2023-08-01T00:22:03.886464Z",
     "iopub.status.idle": "2023-08-01T00:22:03.887219Z",
     "shell.execute_reply": "2023-08-01T00:22:03.887032Z",
     "shell.execute_reply.started": "2023-08-01T00:22:03.887011Z"
    }
   },
   "outputs": [],
   "source": [
    "# %%script false\n",
    "# dataset.to_csv('processed_data.csv')"
   ]
  },
  {
   "cell_type": "code",
   "execution_count": null,
   "metadata": {},
   "outputs": [],
   "source": [
    "dataset = pd.read_csv('../data/processed_data copy.csv')"
   ]
  },
  {
   "cell_type": "code",
   "execution_count": null,
   "metadata": {},
   "outputs": [],
   "source": [
    "print(dataset.head())"
   ]
  },
  {
   "cell_type": "code",
   "execution_count": null,
   "metadata": {
    "execution": {
     "iopub.execute_input": "2023-07-31T16:25:40.313171Z",
     "iopub.status.busy": "2023-07-31T16:25:40.312750Z",
     "iopub.status.idle": "2023-07-31T16:25:40.324666Z",
     "shell.execute_reply": "2023-07-31T16:25:40.323553Z",
     "shell.execute_reply.started": "2023-07-31T16:25:40.313133Z"
    }
   },
   "outputs": [],
   "source": [
    "def get_vocabulary(data_column):\n",
    "    word_list_column = list(data_column.parallel_apply(split_words_by_space))\n",
    "    vocabulary = sorted(list(set(nltk.flatten(word_list_column))))\n",
    "    return vocabulary"
   ]
  },
  {
   "cell_type": "code",
   "execution_count": null,
   "metadata": {
    "execution": {
     "iopub.execute_input": "2023-07-31T16:25:40.329018Z",
     "iopub.status.busy": "2023-07-31T16:25:40.328549Z",
     "iopub.status.idle": "2023-07-31T16:25:41.070019Z",
     "shell.execute_reply": "2023-07-31T16:25:41.068657Z",
     "shell.execute_reply.started": "2023-07-31T16:25:40.328974Z"
    }
   },
   "outputs": [],
   "source": [
    "vocabulary = get_vocabulary(dataset['preprocessed text'])"
   ]
  },
  {
   "cell_type": "code",
   "execution_count": null,
   "metadata": {
    "execution": {
     "iopub.execute_input": "2023-07-31T16:25:41.103737Z",
     "iopub.status.busy": "2023-07-31T16:25:41.103384Z",
     "iopub.status.idle": "2023-07-31T16:25:41.115918Z",
     "shell.execute_reply": "2023-07-31T16:25:41.114251Z",
     "shell.execute_reply.started": "2023-07-31T16:25:41.103708Z"
    }
   },
   "outputs": [],
   "source": [
    "def word2int(vocabulary):\n",
    "    word2int_dict = {word : i for i, word in enumerate(vocabulary, 1)}\n",
    "    int2word_dict = {i : word for word, i in word2int_dict.items()}\n",
    "    return (word2int_dict, int2word_dict)\n",
    "        \n",
    "word2int_dict, int2word_dict = word2int(vocabulary)"
   ]
  },
  {
   "cell_type": "code",
   "execution_count": null,
   "metadata": {
    "execution": {
     "iopub.execute_input": "2023-07-31T16:25:41.118144Z",
     "iopub.status.busy": "2023-07-31T16:25:41.117824Z",
     "iopub.status.idle": "2023-07-31T16:25:41.141038Z",
     "shell.execute_reply": "2023-07-31T16:25:41.139640Z",
     "shell.execute_reply.started": "2023-07-31T16:25:41.118118Z"
    },
    "scrolled": true
   },
   "outputs": [],
   "source": [
    "vocabulary"
   ]
  },
  {
   "cell_type": "code",
   "execution_count": null,
   "metadata": {
    "execution": {
     "iopub.execute_input": "2023-07-31T16:25:41.143673Z",
     "iopub.status.busy": "2023-07-31T16:25:41.142854Z",
     "iopub.status.idle": "2023-07-31T16:25:41.857476Z",
     "shell.execute_reply": "2023-07-31T16:25:41.856190Z",
     "shell.execute_reply.started": "2023-07-31T16:25:41.143629Z"
    }
   },
   "outputs": [],
   "source": [
    "def encode_sequence(sequence):\n",
    "    sequence = split_words_by_space(sequence)\n",
    "    return [word2int_dict[word] for word in sequence]\n",
    "\n",
    "dataset['encoded sequences'] = dataset['preprocessed text'].parallel_apply(encode_sequence)\n",
    "dataset['encoded sequences']"
   ]
  },
  {
   "cell_type": "code",
   "execution_count": null,
   "metadata": {
    "execution": {
     "iopub.execute_input": "2023-07-31T16:25:41.859614Z",
     "iopub.status.busy": "2023-07-31T16:25:41.859232Z",
     "iopub.status.idle": "2023-07-31T16:25:41.899932Z",
     "shell.execute_reply": "2023-07-31T16:25:41.899102Z",
     "shell.execute_reply.started": "2023-07-31T16:25:41.859579Z"
    },
    "scrolled": true
   },
   "outputs": [],
   "source": [
    "maxlen = max(text_lenth)\n",
    "dataset['padded sequences'] = list(pad_sequences(dataset['encoded sequences'], max_lenth, padding='pre', value=0))\n",
    "dataset['padded sequences']"
   ]
  },
  {
   "cell_type": "code",
   "execution_count": null,
   "metadata": {},
   "outputs": [],
   "source": [
    "dataset"
   ]
  },
  {
   "cell_type": "code",
   "execution_count": null,
   "metadata": {
    "execution": {
     "iopub.execute_input": "2023-07-31T16:25:41.901318Z",
     "iopub.status.busy": "2023-07-31T16:25:41.901009Z",
     "iopub.status.idle": "2023-07-31T16:25:41.908413Z",
     "shell.execute_reply": "2023-07-31T16:25:41.907423Z",
     "shell.execute_reply.started": "2023-07-31T16:25:41.901292Z"
    }
   },
   "outputs": [],
   "source": [
    "one_hot_vector_lenth = len(vocabulary) + 1\n",
    "# one_hot_vector_lenth"
   ]
  },
  {
   "cell_type": "code",
   "execution_count": null,
   "metadata": {
    "execution": {
     "iopub.execute_input": "2023-07-31T16:25:41.910310Z",
     "iopub.status.busy": "2023-07-31T16:25:41.909916Z",
     "iopub.status.idle": "2023-07-31T16:25:41.919794Z",
     "shell.execute_reply": "2023-07-31T16:25:41.918844Z",
     "shell.execute_reply.started": "2023-07-31T16:25:41.910282Z"
    }
   },
   "outputs": [],
   "source": [
    "def get_one_hot_vector_by_index(index, lenth):\n",
    "    vector = np.zeros((lenth))\n",
    "    vector[index] = 1\n",
    "    return vector\n",
    "\n",
    "def get_one_hot_vector_by_word(word, lenth):\n",
    "    index = word2int_dict[word]\n",
    "    return get_one_hot_vector_by_index(index, lenth)\n",
    "\n",
    "def get_index_by_one_hot_vector(vector):\n",
    "    return np.argmax(vector)\n",
    "\n",
    "def get_word_by_index_one_hot(index):\n",
    "    return int2word_dict[index]\n",
    "\n",
    "def encode_secquence_one_hot(sequence):\n",
    "    return np.array(list(map(lambda a: get_one_hot_vector_by_index(a, one_hot_vector_lenth), sequence)))"
   ]
  },
  {
   "cell_type": "code",
   "execution_count": null,
   "metadata": {
    "execution": {
     "iopub.execute_input": "2023-07-31T16:25:41.928068Z",
     "iopub.status.busy": "2023-07-31T16:25:41.927729Z",
     "iopub.status.idle": "2023-07-31T16:25:43.288082Z",
     "shell.execute_reply": "2023-07-31T16:25:43.286434Z",
     "shell.execute_reply.started": "2023-07-31T16:25:41.928041Z"
    }
   },
   "outputs": [],
   "source": [
    "# dataset['one hot'] = dataset['padded sequences'].parallel_apply(encode_secquence_one_hot)\n",
    "# dataset['one hot']"
   ]
  },
  {
   "cell_type": "markdown",
   "metadata": {},
   "source": [
    "# WORD2VEC"
   ]
  },
  {
   "cell_type": "code",
   "execution_count": null,
   "metadata": {},
   "outputs": [],
   "source": [
    "! pip install torch gensim scikit-learn"
   ]
  },
  {
   "cell_type": "code",
   "execution_count": null,
   "metadata": {
    "execution": {
     "iopub.status.busy": "2023-07-31T16:25:43.289010Z",
     "iopub.status.idle": "2023-07-31T16:25:43.289486Z",
     "shell.execute_reply": "2023-07-31T16:25:43.289291Z",
     "shell.execute_reply.started": "2023-07-31T16:25:43.289269Z"
    }
   },
   "outputs": [],
   "source": [
    "from gensim.test.utils import common_texts\n",
    "from gensim.models import Word2Vec\n",
    "\n",
    "import torch.nn as nn\n",
    "from torch.utils.data import Dataset, DataLoader\n",
    "import torch\n",
    "\n",
    "\n",
    "from sklearn.model_selection import train_test_split\n",
    "from sklearn.metrics import accuracy_score"
   ]
  },
  {
   "cell_type": "code",
   "execution_count": null,
   "metadata": {
    "execution": {
     "iopub.status.busy": "2023-07-31T16:25:43.291336Z",
     "iopub.status.idle": "2023-07-31T16:25:43.291815Z",
     "shell.execute_reply": "2023-07-31T16:25:43.291618Z",
     "shell.execute_reply.started": "2023-07-31T16:25:43.291589Z"
    }
   },
   "outputs": [],
   "source": [
    "corpus = dataset['encoded sequences']"
   ]
  },
  {
   "cell_type": "code",
   "execution_count": null,
   "metadata": {},
   "outputs": [],
   "source": [
    "corpus"
   ]
  },
  {
   "cell_type": "code",
   "execution_count": null,
   "metadata": {
    "execution": {
     "iopub.status.busy": "2023-07-31T16:25:43.293176Z",
     "iopub.status.idle": "2023-07-31T16:25:43.293655Z",
     "shell.execute_reply": "2023-07-31T16:25:43.293438Z",
     "shell.execute_reply.started": "2023-07-31T16:25:43.293419Z"
    }
   },
   "outputs": [],
   "source": [
    "embed_dim = 300\n",
    "w2v_model = Word2Vec(sentences=corpus, vector_size=embed_dim, window=3, min_count=0, workers=4)"
   ]
  },
  {
   "cell_type": "code",
   "execution_count": null,
   "metadata": {
    "execution": {
     "iopub.status.busy": "2023-07-31T16:25:43.296441Z",
     "iopub.status.idle": "2023-07-31T16:25:43.297035Z",
     "shell.execute_reply": "2023-07-31T16:25:43.296833Z",
     "shell.execute_reply.started": "2023-07-31T16:25:43.296812Z"
    },
    "scrolled": true
   },
   "outputs": [],
   "source": [
    "w2v_matrix = np.zeros((one_hot_vector_lenth, embed_dim))\n",
    "for index, word in enumerate(sorted(w2v_model.wv.index_to_key), 1):\n",
    "    vec = torch.FloatTensor(w2v_model.wv.get_vector(word)).view((embed_dim))\n",
    "\n",
    "    w2v_matrix[index] = vec"
   ]
  },
  {
   "cell_type": "code",
   "execution_count": null,
   "metadata": {
    "execution": {
     "iopub.status.busy": "2023-07-31T16:25:43.299102Z",
     "iopub.status.idle": "2023-07-31T16:25:43.299561Z",
     "shell.execute_reply": "2023-07-31T16:25:43.299373Z",
     "shell.execute_reply.started": "2023-07-31T16:25:43.299352Z"
    }
   },
   "outputs": [],
   "source": [
    "def split_data(data, labels, test_size=0.2, random_state=None):\n",
    "    train_data, test_data, train_labels, test_labels = train_test_split(\n",
    "        data, labels, test_size=test_size, random_state=random_state\n",
    "    )\n",
    "    return train_data, test_data, train_labels, test_labels\n"
   ]
  },
  {
   "cell_type": "code",
   "execution_count": null,
   "metadata": {
    "execution": {
     "iopub.status.busy": "2023-07-31T16:25:43.302109Z",
     "iopub.status.idle": "2023-07-31T16:25:43.302666Z",
     "shell.execute_reply": "2023-07-31T16:25:43.302426Z",
     "shell.execute_reply.started": "2023-07-31T16:25:43.302405Z"
    }
   },
   "outputs": [],
   "source": [
    "class TextDataset(Dataset):\n",
    "    def __init__(self, data, labels):\n",
    "        self.data = data\n",
    "        self.labels = labels\n",
    "        \n",
    "    def __len__(self):\n",
    "        return len(self.data)\n",
    "    \n",
    "    def __getitem__(self, index):\n",
    "        text = self.data[index]\n",
    "        label = self.labels[index]\n",
    "        return torch.tensor(text), torch.tensor(label)\n"
   ]
  },
  {
   "cell_type": "code",
   "execution_count": null,
   "metadata": {},
   "outputs": [],
   "source": [
    "device = 'cuda' if torch.cuda.is_available() else 'cpu'"
   ]
  },
  {
   "cell_type": "code",
   "execution_count": null,
   "metadata": {},
   "outputs": [],
   "source": [
    "df = dataset.sample(frac=1)"
   ]
  },
  {
   "cell_type": "code",
   "execution_count": null,
   "metadata": {
    "execution": {
     "iopub.status.busy": "2023-07-31T16:25:43.304036Z",
     "iopub.status.idle": "2023-07-31T16:25:43.304506Z",
     "shell.execute_reply": "2023-07-31T16:25:43.304315Z",
     "shell.execute_reply.started": "2023-07-31T16:25:43.304295Z"
    }
   },
   "outputs": [],
   "source": [
    "data = np.array(df['padded sequences'])\n",
    "labels = np.array(df['target'] > 5).astype(int)\n",
    "\n",
    "train_data, test_data, train_labels, test_labels = split_data(data[:], labels[:], test_size=0.2, random_state=42)"
   ]
  },
  {
   "cell_type": "code",
   "execution_count": 493,
   "metadata": {
    "execution": {
     "iopub.status.busy": "2023-07-31T16:25:43.307530Z",
     "iopub.status.idle": "2023-07-31T16:25:43.308055Z",
     "shell.execute_reply": "2023-07-31T16:25:43.307862Z",
     "shell.execute_reply.started": "2023-07-31T16:25:43.307841Z"
    }
   },
   "outputs": [],
   "source": [
    "batch_size = 64\n",
    "hidden_dim1 = 300\n",
    "hidden_dim2 = 100\n",
    "output_labels = 1\n",
    "n_epochs = 10\n",
    "learning_rate = 0.001\n"
   ]
  },
  {
   "cell_type": "code",
   "execution_count": 494,
   "metadata": {
    "execution": {
     "iopub.status.busy": "2023-07-31T16:25:43.309936Z",
     "iopub.status.idle": "2023-07-31T16:25:43.310471Z",
     "shell.execute_reply": "2023-07-31T16:25:43.310278Z",
     "shell.execute_reply.started": "2023-07-31T16:25:43.310257Z"
    }
   },
   "outputs": [],
   "source": [
    "train_dataset = TextDataset(train_data, train_labels)\n",
    "test_dataset = TextDataset(test_data, test_labels)\n",
    "train_dataloader = DataLoader(train_dataset, batch_size=batch_size, shuffle=True)\n",
    "test_dataloader = DataLoader(test_dataset, batch_size=1, shuffle=True)"
   ]
  },
  {
   "cell_type": "code",
   "execution_count": 525,
   "metadata": {
    "execution": {
     "iopub.status.busy": "2023-07-31T16:25:43.312789Z",
     "iopub.status.idle": "2023-07-31T16:25:43.313247Z",
     "shell.execute_reply": "2023-07-31T16:25:43.313056Z",
     "shell.execute_reply.started": "2023-07-31T16:25:43.313035Z"
    }
   },
   "outputs": [],
   "source": [
    "class BinaryTextClassifier(nn.Module):\n",
    "    def __init__(self, embedding_matrix, hidden_dim1, num_layers, output_labels=1):\n",
    "        super(BinaryTextClassifier, self).__init__()\n",
    "        self.embedding = nn.Embedding.from_pretrained(torch.FloatTensor(embedding_matrix), freeze=True)\n",
    "        self.lstm = nn.LSTM(input_size=embed_dim, hidden_size=hidden_dim, num_layers=num_layers, batch_first=True)\n",
    "        self.fc = nn.Linear(hidden_dim, 1)\n",
    "        \n",
    "    def forward(self, text):\n",
    "        embedded = self.embedding(text) \n",
    "        lstm_out, _ = self.lstm(embedded)\n",
    "        lstm_avg = torch.mean(lstm_out, dim=1)\n",
    "        output = self.fc(lstm_avg).squeeze(1)  # Squeeze to make the shape (batch_size,)\n",
    "\n",
    "        return output"
   ]
  },
  {
   "cell_type": "code",
   "execution_count": 529,
   "metadata": {
    "execution": {
     "iopub.status.busy": "2023-07-31T16:25:43.315301Z",
     "iopub.status.idle": "2023-07-31T16:25:43.315838Z",
     "shell.execute_reply": "2023-07-31T16:25:43.315641Z",
     "shell.execute_reply.started": "2023-07-31T16:25:43.315619Z"
    },
    "scrolled": true
   },
   "outputs": [],
   "source": [
    "device = torch.device(\"cuda:0\" if torch.cuda.is_available() else \"cpu\")\n",
    "model = BinaryTextClassifier(w2v_matrix, hidden_dim, num_layers=2, output_labels=1)\n",
    "model = model.to(device)\n",
    "\n",
    "\n",
    "criterion = nn.BCEWithLogitsLoss()\n",
    "optimizer = torch.optim.Adam(model.parameters(), lr=learning_rate)\n"
   ]
  },
  {
   "cell_type": "code",
   "execution_count": 530,
   "metadata": {},
   "outputs": [
    {
     "name": "stdout",
     "output_type": "stream",
     "text": [
      "torch.Size([1, 1000])\n"
     ]
    },
    {
     "data": {
      "text/plain": [
       "tensor([-0.0193], device='cuda:0', grad_fn=<SqueezeBackward1>)"
      ]
     },
     "execution_count": 530,
     "metadata": {},
     "output_type": "execute_result"
    }
   ],
   "source": [
    "model(next(iter(test_dataloader))[0].to(device))"
   ]
  },
  {
   "cell_type": "code",
   "execution_count": 476,
   "metadata": {},
   "outputs": [],
   "source": [
    "def get_accuracy(preds, labels) -> float:\n",
    "    preds = (torch.sigmoid(preds) > 0.5).float() \n",
    "    accuracy = accuracy_score(labels.cpu(), preds.cpu())\n",
    "    return accuracy"
   ]
  },
  {
   "cell_type": "code",
   "execution_count": 477,
   "metadata": {},
   "outputs": [],
   "source": [
    "def train_step(model, texts, labels, optimizer, criterion) -> tuple:\n",
    "    texts, labels = texts.to(device), labels.to(device)\n",
    "\n",
    "    optimizer.zero_grad()\n",
    "\n",
    "    preds = model(texts)\n",
    "    # print(labels.float())\n",
    "    # print(preds)\n",
    "    # print(preds.float())\n",
    "    # print()\n",
    "    loss = criterion(preds, labels.float())\n",
    "    loss.backward()\n",
    "    acc = get_accuracy(preds, labels)\n",
    "\n",
    "    optimizer.step()\n",
    "    return float(loss.cpu().detach().numpy()), float(acc)"
   ]
  },
  {
   "cell_type": "code",
   "execution_count": 478,
   "metadata": {},
   "outputs": [],
   "source": [
    "def test_step(model, texts, labels, optimizer, criterion) -> tuple:\n",
    "    texts, labels = texts.to(device), labels.to(device)\n",
    "\n",
    "    preds = model(texts)\n",
    "    loss = criterion(preds, labels.float())\n",
    "    # print(texts)\n",
    "\n",
    "    acc = get_accuracy(preds, labels)\n",
    "\n",
    "    return float(loss.cpu().detach().numpy()), float(acc)"
   ]
  },
  {
   "cell_type": "code",
   "execution_count": 479,
   "metadata": {},
   "outputs": [],
   "source": [
    "def train_epoch(model, optimizer, criterion, data):\n",
    "    model.train()\n",
    "    epoch_loss = []\n",
    "    epoch_acc = []\n",
    "    \n",
    "    for texts, labels in data:\n",
    "        loss, acc = train_step(model, texts.to(device), labels.to(device), optimizer, criterion)\n",
    "        epoch_loss.append(loss)\n",
    "        epoch_acc.append(acc)\n",
    "        train_str = f\"Train Loss: {np.mean(epoch_loss):.4f} \" +f\"Train Accuracy: {np.mean(epoch_acc):.4f}\" \n",
    "        data.set_description(train_str)\n",
    "    return epoch_loss, epoch_acc    "
   ]
  },
  {
   "cell_type": "code",
   "execution_count": 480,
   "metadata": {},
   "outputs": [],
   "source": [
    "def test_epoch(model, optimizer, criterion, data):\n",
    "    model.eval()\n",
    "    \n",
    "    epoch_loss = []\n",
    "    epoch_acc = []\n",
    "    \n",
    "    with torch.no_grad():\n",
    "        for texts, labels in data:\n",
    "            loss, acc = test_step(model, texts, labels, optimizer, criterion)\n",
    "            epoch_loss.append(loss)\n",
    "            epoch_acc.append(acc)\n",
    "            train_str = f\"Test Loss: {np.mean(epoch_loss):.4f} \" +f\"Test Accuracy: {np.mean(epoch_acc):.4f}\" \n",
    "            data.set_description(train_str)\n",
    "    return epoch_loss, epoch_acc"
   ]
  },
  {
   "cell_type": "code",
   "execution_count": 481,
   "metadata": {},
   "outputs": [],
   "source": [
    "def loop(model, optimizer, criterion, train_dataloader, test_dataloader, n_epochs):\n",
    "    train_epoch_losses = []\n",
    "    test_epoch_losses = []\n",
    "    train_epoch_acces = []\n",
    "    test_epoch_acces = []\n",
    "    \n",
    "    pbar = trange(n_epochs)\n",
    "    for epoch in pbar:\n",
    "        for loader, is_train in zip([train_dataloader, test_dataloader], [True, False]):\n",
    "            batch_iterator = tqdm(loader, unit=\"batch\", leave=False)\n",
    "            # исправить обучение я забыл теститрование\n",
    "\n",
    "            if is_train:\n",
    "                epoch_loss, epoch_acc = train_epoch(model, optimizer, criterion, batch_iterator)\n",
    "                \n",
    "                train_epoch_losses.append(epoch_loss)\n",
    "                train_epoch_acces.append(epoch_acc)\n",
    "            else: \n",
    "                epoch_loss, epoch_acc = test_epoch(model, optimizer, criterion, batch_iterator)\n",
    "                test_epoch_losses.append(epoch_loss)\n",
    "                test_epoch_acces.append(epoch_acc)\n",
    "\n",
    "#                 )\n",
    "\n",
    "            train_str = f\"Epoch {epoch+1}/{n_epochs} \" + f\"{'Train' if is_train else 'Test'} Loss: {np.mean(epoch_loss):.4f} \" +f\"{'Train' if is_train else 'Test'} Accuracy: {np.mean(epoch_acc):.4f}\" \n",
    "            batch_iterator.set_description(train_str)\n",
    "\n",
    "            batch_iterator.update()\n",
    "#               break\n",
    "        pbar.set_description(train_str)\n",
    "        pbar.update()\n",
    "#         break\n",
    "    history = [\n",
    "        train_epoch_losses, test_epoch_losses, train_epoch_acces, test_epoch_acces\n",
    "    ]\n",
    "    return history   "
   ]
  },
  {
   "cell_type": "code",
   "execution_count": null,
   "metadata": {
    "scrolled": false
   },
   "outputs": [],
   "source": [
    "history = loop(model, optimizer, criterion, train_dataloader, test_dataloader, n_epochs)"
   ]
  },
  {
   "cell_type": "code",
   "execution_count": 469,
   "metadata": {},
   "outputs": [
    {
     "data": {
      "application/vnd.jupyter.widget-view+json": {
       "model_id": "10a237e433024765ab58229e5bcecc2b",
       "version_major": 2,
       "version_minor": 0
      },
      "text/plain": [
       "  0%|          | 0/10 [00:00<?, ?it/s]"
      ]
     },
     "metadata": {},
     "output_type": "display_data"
    },
    {
     "data": {
      "application/vnd.jupyter.widget-view+json": {
       "model_id": "c9d241a2dbbb43cc924526ee482bde1f",
       "version_major": 2,
       "version_minor": 0
      },
      "text/plain": [
       "  0%|          | 0/625 [00:00<?, ?batch/s]"
      ]
     },
     "metadata": {},
     "output_type": "display_data"
    },
    {
     "data": {
      "application/vnd.jupyter.widget-view+json": {
       "model_id": "33d38c5e06ab406a967115449c6c7835",
       "version_major": 2,
       "version_minor": 0
      },
      "text/plain": [
       "  0%|          | 0/10000 [00:00<?, ?batch/s]"
      ]
     },
     "metadata": {},
     "output_type": "display_data"
    },
    {
     "data": {
      "application/vnd.jupyter.widget-view+json": {
       "model_id": "5100410040b64c86a29d97efed555e56",
       "version_major": 2,
       "version_minor": 0
      },
      "text/plain": [
       "  0%|          | 0/625 [00:00<?, ?batch/s]"
      ]
     },
     "metadata": {},
     "output_type": "display_data"
    },
    {
     "data": {
      "application/vnd.jupyter.widget-view+json": {
       "model_id": "29dc758a7d2844d2a64c96005b6438a5",
       "version_major": 2,
       "version_minor": 0
      },
      "text/plain": [
       "  0%|          | 0/10000 [00:00<?, ?batch/s]"
      ]
     },
     "metadata": {},
     "output_type": "display_data"
    },
    {
     "data": {
      "application/vnd.jupyter.widget-view+json": {
       "model_id": "99f052bca1e144849125ada60b2ff9e4",
       "version_major": 2,
       "version_minor": 0
      },
      "text/plain": [
       "  0%|          | 0/625 [00:00<?, ?batch/s]"
      ]
     },
     "metadata": {},
     "output_type": "display_data"
    },
    {
     "data": {
      "application/vnd.jupyter.widget-view+json": {
       "model_id": "6f07e5c84f314604a7b270c9e5084e29",
       "version_major": 2,
       "version_minor": 0
      },
      "text/plain": [
       "  0%|          | 0/10000 [00:00<?, ?batch/s]"
      ]
     },
     "metadata": {},
     "output_type": "display_data"
    },
    {
     "data": {
      "application/vnd.jupyter.widget-view+json": {
       "model_id": "65311bbc9c164eb79a0e506221adb309",
       "version_major": 2,
       "version_minor": 0
      },
      "text/plain": [
       "  0%|          | 0/625 [00:00<?, ?batch/s]"
      ]
     },
     "metadata": {},
     "output_type": "display_data"
    },
    {
     "data": {
      "application/vnd.jupyter.widget-view+json": {
       "model_id": "d5b967fc79e94032bb0b2a2d14034a1c",
       "version_major": 2,
       "version_minor": 0
      },
      "text/plain": [
       "  0%|          | 0/10000 [00:00<?, ?batch/s]"
      ]
     },
     "metadata": {},
     "output_type": "display_data"
    },
    {
     "data": {
      "application/vnd.jupyter.widget-view+json": {
       "model_id": "2c9ff44b71e2452a888acf8ef6ae689f",
       "version_major": 2,
       "version_minor": 0
      },
      "text/plain": [
       "  0%|          | 0/625 [00:00<?, ?batch/s]"
      ]
     },
     "metadata": {},
     "output_type": "display_data"
    },
    {
     "data": {
      "application/vnd.jupyter.widget-view+json": {
       "model_id": "6266a4ff30f74a038f70ddeae5e0305a",
       "version_major": 2,
       "version_minor": 0
      },
      "text/plain": [
       "  0%|          | 0/10000 [00:00<?, ?batch/s]"
      ]
     },
     "metadata": {},
     "output_type": "display_data"
    },
    {
     "data": {
      "application/vnd.jupyter.widget-view+json": {
       "model_id": "5a772b9df2d444b4a243ed09808bf6e5",
       "version_major": 2,
       "version_minor": 0
      },
      "text/plain": [
       "  0%|          | 0/625 [00:00<?, ?batch/s]"
      ]
     },
     "metadata": {},
     "output_type": "display_data"
    },
    {
     "data": {
      "application/vnd.jupyter.widget-view+json": {
       "model_id": "d670812848804931a1d47d4e31739831",
       "version_major": 2,
       "version_minor": 0
      },
      "text/plain": [
       "  0%|          | 0/10000 [00:00<?, ?batch/s]"
      ]
     },
     "metadata": {},
     "output_type": "display_data"
    },
    {
     "data": {
      "application/vnd.jupyter.widget-view+json": {
       "model_id": "2f7c847d6c7f4fadbc2085ec1971d096",
       "version_major": 2,
       "version_minor": 0
      },
      "text/plain": [
       "  0%|          | 0/625 [00:00<?, ?batch/s]"
      ]
     },
     "metadata": {},
     "output_type": "display_data"
    },
    {
     "data": {
      "application/vnd.jupyter.widget-view+json": {
       "model_id": "149abbfc517c4c729f83429ce7cafb14",
       "version_major": 2,
       "version_minor": 0
      },
      "text/plain": [
       "  0%|          | 0/10000 [00:00<?, ?batch/s]"
      ]
     },
     "metadata": {},
     "output_type": "display_data"
    },
    {
     "data": {
      "application/vnd.jupyter.widget-view+json": {
       "model_id": "7c500858d6b74d8a98ea8e820c19feab",
       "version_major": 2,
       "version_minor": 0
      },
      "text/plain": [
       "  0%|          | 0/625 [00:00<?, ?batch/s]"
      ]
     },
     "metadata": {},
     "output_type": "display_data"
    },
    {
     "data": {
      "application/vnd.jupyter.widget-view+json": {
       "model_id": "b087c146d33144078ab4cb9fbaedcd62",
       "version_major": 2,
       "version_minor": 0
      },
      "text/plain": [
       "  0%|          | 0/10000 [00:00<?, ?batch/s]"
      ]
     },
     "metadata": {},
     "output_type": "display_data"
    },
    {
     "data": {
      "application/vnd.jupyter.widget-view+json": {
       "model_id": "37124050ba2a4f0d8c91aad82841ef19",
       "version_major": 2,
       "version_minor": 0
      },
      "text/plain": [
       "  0%|          | 0/625 [00:00<?, ?batch/s]"
      ]
     },
     "metadata": {},
     "output_type": "display_data"
    },
    {
     "data": {
      "application/vnd.jupyter.widget-view+json": {
       "model_id": "c7b2b3c803ab4076863164acb02abed1",
       "version_major": 2,
       "version_minor": 0
      },
      "text/plain": [
       "  0%|          | 0/10000 [00:00<?, ?batch/s]"
      ]
     },
     "metadata": {},
     "output_type": "display_data"
    },
    {
     "data": {
      "application/vnd.jupyter.widget-view+json": {
       "model_id": "20bf555322734c50952541265ba15536",
       "version_major": 2,
       "version_minor": 0
      },
      "text/plain": [
       "  0%|          | 0/625 [00:00<?, ?batch/s]"
      ]
     },
     "metadata": {},
     "output_type": "display_data"
    },
    {
     "data": {
      "application/vnd.jupyter.widget-view+json": {
       "model_id": "d3066ec298c34a0084bc711fd890d7ee",
       "version_major": 2,
       "version_minor": 0
      },
      "text/plain": [
       "  0%|          | 0/10000 [00:00<?, ?batch/s]"
      ]
     },
     "metadata": {},
     "output_type": "display_data"
    },
    {
     "data": {
      "application/vnd.jupyter.widget-view+json": {
       "model_id": "82f82167689d4227bc9e3cd369abb3c5",
       "version_major": 2,
       "version_minor": 0
      },
      "text/plain": [
       "  0%|          | 0/10 [00:00<?, ?it/s]"
      ]
     },
     "metadata": {},
     "output_type": "display_data"
    },
    {
     "data": {
      "application/vnd.jupyter.widget-view+json": {
       "model_id": "d337f5b94e1240099608bc7f7431c015",
       "version_major": 2,
       "version_minor": 0
      },
      "text/plain": [
       "  0%|          | 0/625 [00:00<?, ?batch/s]"
      ]
     },
     "metadata": {},
     "output_type": "display_data"
    },
    {
     "data": {
      "application/vnd.jupyter.widget-view+json": {
       "model_id": "1247fe2fccde45a98f8d810ab408073a",
       "version_major": 2,
       "version_minor": 0
      },
      "text/plain": [
       "  0%|          | 0/10000 [00:00<?, ?batch/s]"
      ]
     },
     "metadata": {},
     "output_type": "display_data"
    },
    {
     "data": {
      "application/vnd.jupyter.widget-view+json": {
       "model_id": "c73491e7f8ed40b19fd114475bd453be",
       "version_major": 2,
       "version_minor": 0
      },
      "text/plain": [
       "  0%|          | 0/625 [00:00<?, ?batch/s]"
      ]
     },
     "metadata": {},
     "output_type": "display_data"
    },
    {
     "data": {
      "application/vnd.jupyter.widget-view+json": {
       "model_id": "4386dda9b7744fa8a25897ab6f42ea2f",
       "version_major": 2,
       "version_minor": 0
      },
      "text/plain": [
       "  0%|          | 0/10000 [00:00<?, ?batch/s]"
      ]
     },
     "metadata": {},
     "output_type": "display_data"
    },
    {
     "data": {
      "application/vnd.jupyter.widget-view+json": {
       "model_id": "fa0f90319ba844fe932cbf2bdf3f5b33",
       "version_major": 2,
       "version_minor": 0
      },
      "text/plain": [
       "  0%|          | 0/625 [00:00<?, ?batch/s]"
      ]
     },
     "metadata": {},
     "output_type": "display_data"
    },
    {
     "data": {
      "application/vnd.jupyter.widget-view+json": {
       "model_id": "d61e4dcab27c45a7b3dd28ff13a2960a",
       "version_major": 2,
       "version_minor": 0
      },
      "text/plain": [
       "  0%|          | 0/10000 [00:00<?, ?batch/s]"
      ]
     },
     "metadata": {},
     "output_type": "display_data"
    },
    {
     "data": {
      "application/vnd.jupyter.widget-view+json": {
       "model_id": "4167e670ab684a389a4202f492b88dab",
       "version_major": 2,
       "version_minor": 0
      },
      "text/plain": [
       "  0%|          | 0/625 [00:00<?, ?batch/s]"
      ]
     },
     "metadata": {},
     "output_type": "display_data"
    },
    {
     "data": {
      "application/vnd.jupyter.widget-view+json": {
       "model_id": "cb0f7332457141b28b37fb635600fb32",
       "version_major": 2,
       "version_minor": 0
      },
      "text/plain": [
       "  0%|          | 0/10000 [00:00<?, ?batch/s]"
      ]
     },
     "metadata": {},
     "output_type": "display_data"
    },
    {
     "data": {
      "application/vnd.jupyter.widget-view+json": {
       "model_id": "830af8ddaf114ae1ba6e5ca3491c83e4",
       "version_major": 2,
       "version_minor": 0
      },
      "text/plain": [
       "  0%|          | 0/625 [00:00<?, ?batch/s]"
      ]
     },
     "metadata": {},
     "output_type": "display_data"
    },
    {
     "data": {
      "application/vnd.jupyter.widget-view+json": {
       "model_id": "a8e378913c3e47588183014e54904a7c",
       "version_major": 2,
       "version_minor": 0
      },
      "text/plain": [
       "  0%|          | 0/10000 [00:00<?, ?batch/s]"
      ]
     },
     "metadata": {},
     "output_type": "display_data"
    },
    {
     "data": {
      "application/vnd.jupyter.widget-view+json": {
       "model_id": "370ef04b03864f30a49e74a8ed276409",
       "version_major": 2,
       "version_minor": 0
      },
      "text/plain": [
       "  0%|          | 0/625 [00:00<?, ?batch/s]"
      ]
     },
     "metadata": {},
     "output_type": "display_data"
    },
    {
     "data": {
      "application/vnd.jupyter.widget-view+json": {
       "model_id": "7030a7ddf56840feaf0cefa1fdd14577",
       "version_major": 2,
       "version_minor": 0
      },
      "text/plain": [
       "  0%|          | 0/10000 [00:00<?, ?batch/s]"
      ]
     },
     "metadata": {},
     "output_type": "display_data"
    },
    {
     "data": {
      "application/vnd.jupyter.widget-view+json": {
       "model_id": "3b3166c59de243579b72286e9541933d",
       "version_major": 2,
       "version_minor": 0
      },
      "text/plain": [
       "  0%|          | 0/625 [00:00<?, ?batch/s]"
      ]
     },
     "metadata": {},
     "output_type": "display_data"
    },
    {
     "data": {
      "application/vnd.jupyter.widget-view+json": {
       "model_id": "a458aeadbd7e4da88c5035ab8f12e0a6",
       "version_major": 2,
       "version_minor": 0
      },
      "text/plain": [
       "  0%|          | 0/10000 [00:00<?, ?batch/s]"
      ]
     },
     "metadata": {},
     "output_type": "display_data"
    },
    {
     "data": {
      "application/vnd.jupyter.widget-view+json": {
       "model_id": "e8b25c964ade4ebabbfda8180ecd79c4",
       "version_major": 2,
       "version_minor": 0
      },
      "text/plain": [
       "  0%|          | 0/625 [00:00<?, ?batch/s]"
      ]
     },
     "metadata": {},
     "output_type": "display_data"
    },
    {
     "data": {
      "application/vnd.jupyter.widget-view+json": {
       "model_id": "e65f2928148746aaae9c2cff1478cdd3",
       "version_major": 2,
       "version_minor": 0
      },
      "text/plain": [
       "  0%|          | 0/10000 [00:00<?, ?batch/s]"
      ]
     },
     "metadata": {},
     "output_type": "display_data"
    },
    {
     "data": {
      "application/vnd.jupyter.widget-view+json": {
       "model_id": "63a20691173042669bfeccd282e8f57c",
       "version_major": 2,
       "version_minor": 0
      },
      "text/plain": [
       "  0%|          | 0/625 [00:00<?, ?batch/s]"
      ]
     },
     "metadata": {},
     "output_type": "display_data"
    },
    {
     "data": {
      "application/vnd.jupyter.widget-view+json": {
       "model_id": "e941dc2e55f04b23bba71ca6f9a833d9",
       "version_major": 2,
       "version_minor": 0
      },
      "text/plain": [
       "  0%|          | 0/10000 [00:00<?, ?batch/s]"
      ]
     },
     "metadata": {},
     "output_type": "display_data"
    },
    {
     "data": {
      "application/vnd.jupyter.widget-view+json": {
       "model_id": "96553d6cfe3744c0b5068795b17ebce3",
       "version_major": 2,
       "version_minor": 0
      },
      "text/plain": [
       "  0%|          | 0/625 [00:00<?, ?batch/s]"
      ]
     },
     "metadata": {},
     "output_type": "display_data"
    },
    {
     "data": {
      "application/vnd.jupyter.widget-view+json": {
       "model_id": "981a0908fdc54195aebbdeeb3caabd66",
       "version_major": 2,
       "version_minor": 0
      },
      "text/plain": [
       "  0%|          | 0/10000 [00:00<?, ?batch/s]"
      ]
     },
     "metadata": {},
     "output_type": "display_data"
    },
    {
     "data": {
      "application/vnd.jupyter.widget-view+json": {
       "model_id": "39557bffef094827be0375b808417f7f",
       "version_major": 2,
       "version_minor": 0
      },
      "text/plain": [
       "  0%|          | 0/10 [00:00<?, ?it/s]"
      ]
     },
     "metadata": {},
     "output_type": "display_data"
    },
    {
     "data": {
      "application/vnd.jupyter.widget-view+json": {
       "model_id": "dd1202b1dd8e4673a8ae3e61284026cd",
       "version_major": 2,
       "version_minor": 0
      },
      "text/plain": [
       "  0%|          | 0/625 [00:00<?, ?batch/s]"
      ]
     },
     "metadata": {},
     "output_type": "display_data"
    },
    {
     "data": {
      "application/vnd.jupyter.widget-view+json": {
       "model_id": "88bf5d4668fe47d39b56732971fda1f8",
       "version_major": 2,
       "version_minor": 0
      },
      "text/plain": [
       "  0%|          | 0/10000 [00:00<?, ?batch/s]"
      ]
     },
     "metadata": {},
     "output_type": "display_data"
    },
    {
     "data": {
      "application/vnd.jupyter.widget-view+json": {
       "model_id": "721ba4ca3bd14905aaaa06edc8cee9f2",
       "version_major": 2,
       "version_minor": 0
      },
      "text/plain": [
       "  0%|          | 0/625 [00:00<?, ?batch/s]"
      ]
     },
     "metadata": {},
     "output_type": "display_data"
    },
    {
     "data": {
      "application/vnd.jupyter.widget-view+json": {
       "model_id": "2c86f5e5fe0e4dc3bfa382a560114f0a",
       "version_major": 2,
       "version_minor": 0
      },
      "text/plain": [
       "  0%|          | 0/10000 [00:00<?, ?batch/s]"
      ]
     },
     "metadata": {},
     "output_type": "display_data"
    },
    {
     "data": {
      "application/vnd.jupyter.widget-view+json": {
       "model_id": "239f398660bc42a2a704fa7f3f38b823",
       "version_major": 2,
       "version_minor": 0
      },
      "text/plain": [
       "  0%|          | 0/625 [00:00<?, ?batch/s]"
      ]
     },
     "metadata": {},
     "output_type": "display_data"
    },
    {
     "data": {
      "application/vnd.jupyter.widget-view+json": {
       "model_id": "b5ca27eeb4984e3cacc5a737719d67b1",
       "version_major": 2,
       "version_minor": 0
      },
      "text/plain": [
       "  0%|          | 0/10000 [00:00<?, ?batch/s]"
      ]
     },
     "metadata": {},
     "output_type": "display_data"
    },
    {
     "data": {
      "application/vnd.jupyter.widget-view+json": {
       "model_id": "1dfefdd5ebbd4ebab8719621acfdf528",
       "version_major": 2,
       "version_minor": 0
      },
      "text/plain": [
       "  0%|          | 0/625 [00:00<?, ?batch/s]"
      ]
     },
     "metadata": {},
     "output_type": "display_data"
    },
    {
     "data": {
      "application/vnd.jupyter.widget-view+json": {
       "model_id": "f9630ce14cd240b798df7f054a2a9c97",
       "version_major": 2,
       "version_minor": 0
      },
      "text/plain": [
       "  0%|          | 0/10000 [00:00<?, ?batch/s]"
      ]
     },
     "metadata": {},
     "output_type": "display_data"
    },
    {
     "data": {
      "application/vnd.jupyter.widget-view+json": {
       "model_id": "da22a357845649d7a647a61cfff3878f",
       "version_major": 2,
       "version_minor": 0
      },
      "text/plain": [
       "  0%|          | 0/625 [00:00<?, ?batch/s]"
      ]
     },
     "metadata": {},
     "output_type": "display_data"
    },
    {
     "data": {
      "application/vnd.jupyter.widget-view+json": {
       "model_id": "97b869d5f4e248d9894011101e63e49e",
       "version_major": 2,
       "version_minor": 0
      },
      "text/plain": [
       "  0%|          | 0/10000 [00:00<?, ?batch/s]"
      ]
     },
     "metadata": {},
     "output_type": "display_data"
    },
    {
     "data": {
      "application/vnd.jupyter.widget-view+json": {
       "model_id": "91a762ade45b474dbd526120bccfe408",
       "version_major": 2,
       "version_minor": 0
      },
      "text/plain": [
       "  0%|          | 0/625 [00:00<?, ?batch/s]"
      ]
     },
     "metadata": {},
     "output_type": "display_data"
    },
    {
     "data": {
      "application/vnd.jupyter.widget-view+json": {
       "model_id": "5c82a323cfa4428fa47ef56278f5009a",
       "version_major": 2,
       "version_minor": 0
      },
      "text/plain": [
       "  0%|          | 0/10000 [00:00<?, ?batch/s]"
      ]
     },
     "metadata": {},
     "output_type": "display_data"
    },
    {
     "data": {
      "application/vnd.jupyter.widget-view+json": {
       "model_id": "df1dd0fd4df249a9ade34a2436819022",
       "version_major": 2,
       "version_minor": 0
      },
      "text/plain": [
       "  0%|          | 0/625 [00:00<?, ?batch/s]"
      ]
     },
     "metadata": {},
     "output_type": "display_data"
    },
    {
     "data": {
      "application/vnd.jupyter.widget-view+json": {
       "model_id": "5f164e9c11b745df84091bbdb0bb4028",
       "version_major": 2,
       "version_minor": 0
      },
      "text/plain": [
       "  0%|          | 0/10000 [00:00<?, ?batch/s]"
      ]
     },
     "metadata": {},
     "output_type": "display_data"
    },
    {
     "data": {
      "application/vnd.jupyter.widget-view+json": {
       "model_id": "8e009db04c674944a7601b6482356007",
       "version_major": 2,
       "version_minor": 0
      },
      "text/plain": [
       "  0%|          | 0/625 [00:00<?, ?batch/s]"
      ]
     },
     "metadata": {},
     "output_type": "display_data"
    },
    {
     "data": {
      "application/vnd.jupyter.widget-view+json": {
       "model_id": "26ecd59ab31e4975801278682df216e3",
       "version_major": 2,
       "version_minor": 0
      },
      "text/plain": [
       "  0%|          | 0/10000 [00:00<?, ?batch/s]"
      ]
     },
     "metadata": {},
     "output_type": "display_data"
    },
    {
     "data": {
      "application/vnd.jupyter.widget-view+json": {
       "model_id": "464a7f2fa58c4da88920226c80ce5035",
       "version_major": 2,
       "version_minor": 0
      },
      "text/plain": [
       "  0%|          | 0/625 [00:00<?, ?batch/s]"
      ]
     },
     "metadata": {},
     "output_type": "display_data"
    },
    {
     "data": {
      "application/vnd.jupyter.widget-view+json": {
       "model_id": "26aa188f7a7c45dd8aa49743b77936f4",
       "version_major": 2,
       "version_minor": 0
      },
      "text/plain": [
       "  0%|          | 0/10000 [00:00<?, ?batch/s]"
      ]
     },
     "metadata": {},
     "output_type": "display_data"
    },
    {
     "data": {
      "application/vnd.jupyter.widget-view+json": {
       "model_id": "c3662e191ae84e47876eb0eaeaad22ae",
       "version_major": 2,
       "version_minor": 0
      },
      "text/plain": [
       "  0%|          | 0/625 [00:00<?, ?batch/s]"
      ]
     },
     "metadata": {},
     "output_type": "display_data"
    },
    {
     "data": {
      "application/vnd.jupyter.widget-view+json": {
       "model_id": "1f7d6b22f26b49178e7df853928c7659",
       "version_major": 2,
       "version_minor": 0
      },
      "text/plain": [
       "  0%|          | 0/10000 [00:00<?, ?batch/s]"
      ]
     },
     "metadata": {},
     "output_type": "display_data"
    },
    {
     "data": {
      "application/vnd.jupyter.widget-view+json": {
       "model_id": "755c8a8eb8a24e528de7fb98471d8dca",
       "version_major": 2,
       "version_minor": 0
      },
      "text/plain": [
       "  0%|          | 0/10 [00:00<?, ?it/s]"
      ]
     },
     "metadata": {},
     "output_type": "display_data"
    },
    {
     "data": {
      "application/vnd.jupyter.widget-view+json": {
       "model_id": "c817dabe47414449a6a99efbbb03d998",
       "version_major": 2,
       "version_minor": 0
      },
      "text/plain": [
       "  0%|          | 0/625 [00:00<?, ?batch/s]"
      ]
     },
     "metadata": {},
     "output_type": "display_data"
    },
    {
     "data": {
      "application/vnd.jupyter.widget-view+json": {
       "model_id": "8d9897be0dd04b6e80491c721428f31b",
       "version_major": 2,
       "version_minor": 0
      },
      "text/plain": [
       "  0%|          | 0/10000 [00:00<?, ?batch/s]"
      ]
     },
     "metadata": {},
     "output_type": "display_data"
    },
    {
     "data": {
      "application/vnd.jupyter.widget-view+json": {
       "model_id": "e6b92ebfde1e451a86c2d8646fa013c2",
       "version_major": 2,
       "version_minor": 0
      },
      "text/plain": [
       "  0%|          | 0/625 [00:00<?, ?batch/s]"
      ]
     },
     "metadata": {},
     "output_type": "display_data"
    },
    {
     "data": {
      "application/vnd.jupyter.widget-view+json": {
       "model_id": "b5979887ce124bf4b5d7578c07a48cc1",
       "version_major": 2,
       "version_minor": 0
      },
      "text/plain": [
       "  0%|          | 0/10000 [00:00<?, ?batch/s]"
      ]
     },
     "metadata": {},
     "output_type": "display_data"
    },
    {
     "data": {
      "application/vnd.jupyter.widget-view+json": {
       "model_id": "84817b5c56cb4abab2b2a571fa5f8035",
       "version_major": 2,
       "version_minor": 0
      },
      "text/plain": [
       "  0%|          | 0/625 [00:00<?, ?batch/s]"
      ]
     },
     "metadata": {},
     "output_type": "display_data"
    },
    {
     "data": {
      "application/vnd.jupyter.widget-view+json": {
       "model_id": "613ea3931e7246d29832cd627005e0d9",
       "version_major": 2,
       "version_minor": 0
      },
      "text/plain": [
       "  0%|          | 0/10000 [00:00<?, ?batch/s]"
      ]
     },
     "metadata": {},
     "output_type": "display_data"
    },
    {
     "data": {
      "application/vnd.jupyter.widget-view+json": {
       "model_id": "7310d2ca3bdb40b29ccc76904bf5b7f2",
       "version_major": 2,
       "version_minor": 0
      },
      "text/plain": [
       "  0%|          | 0/625 [00:00<?, ?batch/s]"
      ]
     },
     "metadata": {},
     "output_type": "display_data"
    },
    {
     "data": {
      "application/vnd.jupyter.widget-view+json": {
       "model_id": "70afefcae8e34a02aef74272ccd7c8e6",
       "version_major": 2,
       "version_minor": 0
      },
      "text/plain": [
       "  0%|          | 0/10000 [00:00<?, ?batch/s]"
      ]
     },
     "metadata": {},
     "output_type": "display_data"
    },
    {
     "data": {
      "application/vnd.jupyter.widget-view+json": {
       "model_id": "be2faef31e8946f09607b2c517c6cb65",
       "version_major": 2,
       "version_minor": 0
      },
      "text/plain": [
       "  0%|          | 0/625 [00:00<?, ?batch/s]"
      ]
     },
     "metadata": {},
     "output_type": "display_data"
    },
    {
     "data": {
      "application/vnd.jupyter.widget-view+json": {
       "model_id": "a73385001f364f4695fc26dd41739b31",
       "version_major": 2,
       "version_minor": 0
      },
      "text/plain": [
       "  0%|          | 0/10000 [00:00<?, ?batch/s]"
      ]
     },
     "metadata": {},
     "output_type": "display_data"
    },
    {
     "data": {
      "application/vnd.jupyter.widget-view+json": {
       "model_id": "a1780a095beb4c2c83dc03db167e855a",
       "version_major": 2,
       "version_minor": 0
      },
      "text/plain": [
       "  0%|          | 0/625 [00:00<?, ?batch/s]"
      ]
     },
     "metadata": {},
     "output_type": "display_data"
    },
    {
     "data": {
      "application/vnd.jupyter.widget-view+json": {
       "model_id": "7fb2cd6e6ada46748ddcc99599ac5e61",
       "version_major": 2,
       "version_minor": 0
      },
      "text/plain": [
       "  0%|          | 0/10000 [00:00<?, ?batch/s]"
      ]
     },
     "metadata": {},
     "output_type": "display_data"
    },
    {
     "data": {
      "application/vnd.jupyter.widget-view+json": {
       "model_id": "cd096752aec44533b6b2de3411dc9e91",
       "version_major": 2,
       "version_minor": 0
      },
      "text/plain": [
       "  0%|          | 0/625 [00:00<?, ?batch/s]"
      ]
     },
     "metadata": {},
     "output_type": "display_data"
    },
    {
     "data": {
      "application/vnd.jupyter.widget-view+json": {
       "model_id": "1085754c029a4782af5cec260a09f239",
       "version_major": 2,
       "version_minor": 0
      },
      "text/plain": [
       "  0%|          | 0/10000 [00:00<?, ?batch/s]"
      ]
     },
     "metadata": {},
     "output_type": "display_data"
    },
    {
     "data": {
      "application/vnd.jupyter.widget-view+json": {
       "model_id": "c23e50e9850741e48397971bdf2952dc",
       "version_major": 2,
       "version_minor": 0
      },
      "text/plain": [
       "  0%|          | 0/625 [00:00<?, ?batch/s]"
      ]
     },
     "metadata": {},
     "output_type": "display_data"
    },
    {
     "data": {
      "application/vnd.jupyter.widget-view+json": {
       "model_id": "9865a2947f4f4a2a87717d135a1f8627",
       "version_major": 2,
       "version_minor": 0
      },
      "text/plain": [
       "  0%|          | 0/10000 [00:00<?, ?batch/s]"
      ]
     },
     "metadata": {},
     "output_type": "display_data"
    },
    {
     "data": {
      "application/vnd.jupyter.widget-view+json": {
       "model_id": "74a76b5aa58e4ba99cf69a85b0a3c231",
       "version_major": 2,
       "version_minor": 0
      },
      "text/plain": [
       "  0%|          | 0/625 [00:00<?, ?batch/s]"
      ]
     },
     "metadata": {},
     "output_type": "display_data"
    },
    {
     "data": {
      "application/vnd.jupyter.widget-view+json": {
       "model_id": "4a1aa3c45af54d748003b444f8a9aaf1",
       "version_major": 2,
       "version_minor": 0
      },
      "text/plain": [
       "  0%|          | 0/10000 [00:00<?, ?batch/s]"
      ]
     },
     "metadata": {},
     "output_type": "display_data"
    },
    {
     "data": {
      "application/vnd.jupyter.widget-view+json": {
       "model_id": "7d23aa33302f4176a9064f27f11a0d64",
       "version_major": 2,
       "version_minor": 0
      },
      "text/plain": [
       "  0%|          | 0/625 [00:00<?, ?batch/s]"
      ]
     },
     "metadata": {},
     "output_type": "display_data"
    },
    {
     "data": {
      "application/vnd.jupyter.widget-view+json": {
       "model_id": "5a6e8f5afa6041858ed2cf2fa147bbac",
       "version_major": 2,
       "version_minor": 0
      },
      "text/plain": [
       "  0%|          | 0/10000 [00:00<?, ?batch/s]"
      ]
     },
     "metadata": {},
     "output_type": "display_data"
    }
   ],
   "source": [
    "# models = [\n",
    "#     BinaryTextClassifier(w2v_matrix, hidden_dim, output_labels).to(device) for hidden_dim in [50, 100, 300, 1000]\n",
    "# ]\n",
    "\n",
    "# optimizers = [\n",
    "#     torch.optim.Adam(model.parameters(), lr=learning_rate) for model in models\n",
    "# ]\n",
    "\n",
    "# histories = [\n",
    "#     loop(model, optimizer, criterion, train_dataloader, test_dataloader, n_epochs) for model in models\n",
    "# ]\n",
    "import json\n",
    "for hidden_dim in [50, 100, 500, 1000]:\n",
    "    model = BinaryTextClassifier(w2v_matrix, hidden_dim, output_labels).to(device)\n",
    "    criterion = nn.BCEWithLogitsLoss()\n",
    "    optimizer = torch.optim.Adam(model.parameters(), lr=learning_rate)\n",
    "    history = loop(model, optimizer, criterion, train_dataloader, test_dataloader, n_epochs)\n",
    "    torch.save(model.state_dict(), f'../model/test{hidden_dim} 64batch.pt')\n",
    "    \n",
    "    with open(f'history{hidden_dim} 64batch.json', 'w', encoding='utf-8') as file:\n",
    "        json.dump(history, file, ensure_ascii=False, indent=4)\n",
    "    del model \n"
   ]
  },
  {
   "cell_type": "code",
   "execution_count": null,
   "metadata": {},
   "outputs": [],
   "source": [
    "# torch.save(model.state_dict(), '../model/test500.pt')"
   ]
  },
  {
   "cell_type": "code",
   "execution_count": 449,
   "metadata": {},
   "outputs": [],
   "source": [
    "import json\n",
    "with open('history100.json', 'r', encoding='utf-8') as file:\n",
    "    history = json.load(file)"
   ]
  },
  {
   "cell_type": "code",
   "execution_count": 450,
   "metadata": {},
   "outputs": [],
   "source": [
    "# model.load_state_dict(torch.load('../model/test1.pt'))\n",
    "# model.eval()"
   ]
  },
  {
   "cell_type": "code",
   "execution_count": 453,
   "metadata": {},
   "outputs": [],
   "source": [
    "def make_plots(history):\n",
    "    fig, axs = plt.subplots(2, 1)\n",
    "    fig.set_size_inches(10, 5)\n",
    "    for i, ((data1, data2), ax)  in enumerate(zip(list(zip(history, history[1:]))[::2], axs)):\n",
    "        for data, stage in zip((data1, data2), ('Train', 'Test')):\n",
    "            data = nltk.flatten([np.mean(i) for i in data])\n",
    "            ax.plot(data, label=f\"{stage} {'loss' if i == 0 else 'acc'}\")\n",
    "        ax.legend()\n",
    "    # for i, ((data1, data2), ax)  in enumerate(zip(list(zip(history, history[1:]))[::2], axs[1])):\n",
    "    #     for data, stage in zip((data1, data2), ('Train', 'Test')):\n",
    "    #         data = nltk.flatten(data)\n",
    "    #         ax.plot(data, label=f\"{stage} {'loss' if i == 0 else 'acc'}\")\n",
    "    #     ax.legend()\n",
    "    return fig"
   ]
  },
  {
   "cell_type": "code",
   "execution_count": 454,
   "metadata": {},
   "outputs": [
    {
     "data": {
      "image/png": "[encoded data removed]",
      "text/plain": [
       "<Figure size 1000x500 with 2 Axes>"
      ]
     },
     "execution_count": 454,
     "metadata": {},
     "output_type": "execute_result"
    },
    {
     "data": {
      "image/png": "[encoded data removed]",
      "text/plain": [
       "<Figure size 1000x500 with 2 Axes>"
      ]
     },
     "metadata": {},
     "output_type": "display_data"
    }
   ],
   "source": []
  },
  {
   "cell_type": "code",
   "execution_count": null,
   "metadata": {},
   "outputs": [],
   "source": [
    "nltk.flatten(np.mean(history))"
   ]
  },
  {
   "cell_type": "code",
   "execution_count": null,
   "metadata": {},
   "outputs": [],
   "source": [
    "[np.mean(i) for i in history[0]]"
   ]
  },
  {
   "cell_type": "code",
   "execution_count": null,
   "metadata": {},
   "outputs": [],
   "source": [
    "plt.figure(figsize=[20, 10])\n",
    "plt.plot(nltk.flatten(history[1]))\n",
    "# plt.plot(list(map(np.mean, history[0])))\n",
    "# plt.plot(history[3][0])"
   ]
  },
  {
   "cell_type": "code",
   "execution_count": null,
   "metadata": {},
   "outputs": [],
   "source": []
  },
  {
   "cell_type": "code",
   "execution_count": null,
   "metadata": {
    "execution": {
     "iopub.status.busy": "2023-07-31T16:25:43.319915Z",
     "iopub.status.idle": "2023-07-31T16:25:43.320336Z",
     "shell.execute_reply": "2023-07-31T16:25:43.320160Z",
     "shell.execute_reply.started": "2023-07-31T16:25:43.320140Z"
    }
   },
   "outputs": [],
   "source": [
    "from matplotlib import pyplot as plt"
   ]
  },
  {
   "cell_type": "code",
   "execution_count": null,
   "metadata": {
    "execution": {
     "iopub.status.busy": "2023-07-31T16:25:43.322330Z",
     "iopub.status.idle": "2023-07-31T16:25:43.322789Z",
     "shell.execute_reply": "2023-07-31T16:25:43.322585Z",
     "shell.execute_reply.started": "2023-07-31T16:25:43.322545Z"
    }
   },
   "outputs": [],
   "source": [
    "plt.plot(train_accuracies)\n",
    "plt.plot(test_accuracies)"
   ]
  },
  {
   "cell_type": "code",
   "execution_count": null,
   "metadata": {
    "execution": {
     "iopub.status.busy": "2023-07-31T16:25:43.324674Z",
     "iopub.status.idle": "2023-07-31T16:25:43.325091Z",
     "shell.execute_reply": "2023-07-31T16:25:43.324916Z",
     "shell.execute_reply.started": "2023-07-31T16:25:43.324897Z"
    }
   },
   "outputs": [],
   "source": [
    "plt.plot(train_losses)\n",
    "plt.plot(test_losses)"
   ]
  },
  {
   "cell_type": "code",
   "execution_count": null,
   "metadata": {
    "execution": {
     "iopub.status.busy": "2023-07-31T16:25:43.326997Z",
     "iopub.status.idle": "2023-07-31T16:25:43.327456Z",
     "shell.execute_reply": "2023-07-31T16:25:43.327244Z",
     "shell.execute_reply.started": "2023-07-31T16:25:43.327224Z"
    }
   },
   "outputs": [],
   "source": [
    "print(model(torch.tensor(dataset['Padded sequences'][0]).unsqueeze(0)), dataset['Sentiment'][0])"
   ]
  },
  {
   "cell_type": "code",
   "execution_count": null,
   "metadata": {
    "execution": {
     "iopub.status.busy": "2023-07-31T16:25:43.328675Z",
     "iopub.status.idle": "2023-07-31T16:25:43.329098Z",
     "shell.execute_reply": "2023-07-31T16:25:43.328916Z",
     "shell.execute_reply.started": "2023-07-31T16:25:43.328896Z"
    }
   },
   "outputs": [],
   "source": [
    "dataset['Padded sequences'][0]"
   ]
  }
 ],
 "metadata": {
  "kernelspec": {
   "display_name": "Python 3 (ipykernel)",
   "language": "python",
   "name": "python3"
  },
  "language_info": {
   "codemirror_mode": {
    "name": "ipython",
    "version": 3
   },
   "file_extension": ".py",
   "mimetype": "text/x-python",
   "name": "python",
   "nbconvert_exporter": "python",
   "pygments_lexer": "ipython3",
   "version": "3.10.6"
  },
  "widgets": {
   "application/vnd.jupyter.widget-state+json": {
    "state": {
     "0338f9ef15fd4d9ea7951cc651777ff3": {
      "model_module": "jupyter-js-widgets",
      "model_module_version": "~2.1.4",
      "model_name": "ProgressStyleModel",
      "state": {
       "_model_module_version": "~2.1.4",
       "_view_module_version": "~2.1.4"
      }
     },
     "04afa8f9986049e796a6a4aeae0c034e": {
      "model_module": "jupyter-js-widgets",
      "model_module_version": "~2.1.4",
      "model_name": "LayoutModel",
      "state": {
       "_model_module_version": "~2.1.4",
       "_view_module_version": "~2.1.4"
      }
     },
     "0524a42ef6574c02b07f17da3273e65c": {
      "model_module": "jupyter-js-widgets",
      "model_module_version": "~2.1.4",
      "model_name": "HBoxModel",
      "state": {
       "_model_module_version": "~2.1.4",
       "_view_module_version": "~2.1.4",
       "children": [
        "IPY_MODEL_3ed2f6d215444b53b8ba8bae399b4ac5",
        "IPY_MODEL_8cdce4c583ab4415807b4e705199ccb3"
       ],
       "layout": "IPY_MODEL_eeecc80cfa114f30a8b1a0c6d8df28f9"
      }
     },
     "062b66fa28194588aa719aa8ee2456f7": {
      "model_module": "jupyter-js-widgets",
      "model_module_version": "~2.1.4",
      "model_name": "HBoxModel",
      "state": {
       "_model_module_version": "~2.1.4",
       "_view_module_version": "~2.1.4",
       "children": [
        "IPY_MODEL_f5fddbcaa2b544b2b50cded4da15ec09",
        "IPY_MODEL_09cf87381f3c4f608ec562fdf743e1cc"
       ],
       "layout": "IPY_MODEL_0eb205ae650347b08d90eeb0be1793ab"
      }
     },
     "0661d7f1e5b7447199865b375c1351cd": {
      "model_module": "jupyter-js-widgets",
      "model_module_version": "~2.1.4",
      "model_name": "HBoxModel",
      "state": {
       "_model_module_version": "~2.1.4",
       "_view_module_version": "~2.1.4",
       "children": [
        "IPY_MODEL_dcc0bbc32e574e89ab1cfa0aa6cf7015",
        "IPY_MODEL_4554a4150ab44d62a0de894f0f08cae5"
       ],
       "layout": "IPY_MODEL_d28b7fd796f045a38969b7c2100b6184"
      }
     },
     "068291d3c7744970949b6435c8537b79": {
      "model_module": "jupyter-js-widgets",
      "model_module_version": "~2.1.4",
      "model_name": "ProgressStyleModel",
      "state": {
       "_model_module_version": "~2.1.4",
       "_view_module_version": "~2.1.4"
      }
     },
     "09cf87381f3c4f608ec562fdf743e1cc": {
      "model_module": "jupyter-js-widgets",
      "model_module_version": "~2.1.4",
      "model_name": "LabelModel",
      "state": {
       "_model_module_version": "~2.1.4",
       "_view_module_version": "~2.1.4",
       "layout": "IPY_MODEL_969a32d94f0a451aae31d7761154f60a",
       "value": "6250 / 6250"
      }
     },
     "0a22c79437334b9eb5c2ddfc09f78304": {
      "model_module": "jupyter-js-widgets",
      "model_module_version": "~2.1.4",
      "model_name": "LayoutModel",
      "state": {
       "_model_module_version": "~2.1.4",
       "_view_module_version": "~2.1.4"
      }
     },
     "0b6d84f78c71421eb90977db1308dd2c": {
      "model_module": "jupyter-js-widgets",
      "model_module_version": "~2.1.4",
      "model_name": "LayoutModel",
      "state": {
       "_model_module_version": "~2.1.4",
       "_view_module_version": "~2.1.4"
      }
     },
     "0bf918fab9f144e9ae1828bcb594050a": {
      "model_module": "jupyter-js-widgets",
      "model_module_version": "~2.1.4",
      "model_name": "HBoxModel",
      "state": {
       "_model_module_version": "~2.1.4",
       "_view_module_version": "~2.1.4",
       "children": [
        "IPY_MODEL_2b89f6b29d484292bdd3ae9689ba8c6a",
        "IPY_MODEL_d56ce66abfdf4035ad37bd6945e5b8ec"
       ],
       "layout": "IPY_MODEL_04afa8f9986049e796a6a4aeae0c034e"
      }
     },
     "0cfa8cd193d3496bb60f3a7b6c5387ab": {
      "model_module": "jupyter-js-widgets",
      "model_module_version": "~2.1.4",
      "model_name": "ProgressModel",
      "state": {
       "_model_module_version": "~2.1.4",
       "_view_module_version": "~2.1.4",
       "bar_style": "success",
       "description": "100.00%",
       "layout": "IPY_MODEL_8866d0177eae45088e830858b2f10d25",
       "max": 6250,
       "style": "IPY_MODEL_dd5de5ac8862494e82f82b0950997aa4",
       "value": 6250
      }
     },
     "0d40f7d1af3b460797a67b8a36645579": {
      "model_module": "jupyter-js-widgets",
      "model_module_version": "~2.1.4",
      "model_name": "LayoutModel",
      "state": {
       "_model_module_version": "~2.1.4",
       "_view_module_version": "~2.1.4"
      }
     },
     "0df171b06c3b4282904df6b4e3d8f249": {
      "model_module": "jupyter-js-widgets",
      "model_module_version": "~2.1.4",
      "model_name": "ProgressModel",
      "state": {
       "_model_module_version": "~2.1.4",
       "_view_module_version": "~2.1.4",
       "bar_style": "success",
       "description": "100.00%",
       "layout": "IPY_MODEL_552e63d85adc4803bdbf1553fbd5a37c",
       "max": 6250,
       "style": "IPY_MODEL_b94db27574824a37bf152f80aba6e94e",
       "value": 6250
      }
     },
     "0eb205ae650347b08d90eeb0be1793ab": {
      "model_module": "jupyter-js-widgets",
      "model_module_version": "~2.1.4",
      "model_name": "LayoutModel",
      "state": {
       "_model_module_version": "~2.1.4",
       "_view_module_version": "~2.1.4"
      }
     },
     "0eba65775eaa4d2e96df96a77314091d": {
      "model_module": "jupyter-js-widgets",
      "model_module_version": "~2.1.4",
      "model_name": "ProgressModel",
      "state": {
       "_model_module_version": "~2.1.4",
       "_view_module_version": "~2.1.4",
       "bar_style": "success",
       "description": "100.00%",
       "layout": "IPY_MODEL_229fc976993640059b560d63f1a9b0b2",
       "max": 6250,
       "style": "IPY_MODEL_c7c39906bebb4641a5cef99722d247e2",
       "value": 6250
      }
     },
     "11d74b1845f84a43aae9ae2c8c9be485": {
      "model_module": "jupyter-js-widgets",
      "model_module_version": "~2.1.4",
      "model_name": "ProgressStyleModel",
      "state": {
       "_model_module_version": "~2.1.4",
       "_view_module_version": "~2.1.4"
      }
     },
     "12f00b300c0e4e17a4e6382d9cff5e3e": {
      "model_module": "jupyter-js-widgets",
      "model_module_version": "~2.1.4",
      "model_name": "ProgressModel",
      "state": {
       "_model_module_version": "~2.1.4",
       "_view_module_version": "~2.1.4",
       "bar_style": "success",
       "description": "100.00%",
       "layout": "IPY_MODEL_68c15ac621c54ffe837dc1289263ae21",
       "max": 6250,
       "style": "IPY_MODEL_d3a668ad1cc9484e9bb4427fd9c78ca9",
       "value": 6250
      }
     },
     "1411f92127734f2b81daa1145b0ea8cc": {
      "model_module": "jupyter-js-widgets",
      "model_module_version": "~2.1.4",
      "model_name": "LabelModel",
      "state": {
       "_model_module_version": "~2.1.4",
       "_view_module_version": "~2.1.4",
       "layout": "IPY_MODEL_9cb25ba1467d40bb94b58867972905e7",
       "value": "6250 / 6250"
      }
     },
     "141899495de940d68797ea7eccd2d4cf": {
      "model_module": "jupyter-js-widgets",
      "model_module_version": "~2.1.4",
      "model_name": "HBoxModel",
      "state": {
       "_model_module_version": "~2.1.4",
       "_view_module_version": "~2.1.4",
       "children": [
        "IPY_MODEL_d736839efb8146c99d17ff6324b052a8",
        "IPY_MODEL_8f95a726e61a45c893a0120dde36d623"
       ],
       "layout": "IPY_MODEL_3097543e54464412b085d5b76cc4fc38"
      }
     },
     "157911e2dfb94b14b0ee2fe71d40002d": {
      "model_module": "jupyter-js-widgets",
      "model_module_version": "~2.1.4",
      "model_name": "ProgressModel",
      "state": {
       "_model_module_version": "~2.1.4",
       "_view_module_version": "~2.1.4",
       "bar_style": "success",
       "description": "100.00%",
       "layout": "IPY_MODEL_654a80decb934f4ca485298ad57a38f7",
       "max": 6250,
       "style": "IPY_MODEL_65c230c533b1424a929c4e1a165954e6",
       "value": 6250
      }
     },
     "1a41fdc522e84e1182f1e00eb918ad4c": {
      "model_module": "jupyter-js-widgets",
      "model_module_version": "~2.1.4",
      "model_name": "LabelModel",
      "state": {
       "_model_module_version": "~2.1.4",
       "_view_module_version": "~2.1.4",
       "layout": "IPY_MODEL_75af8daafbc649a0a27bf39e5a3739fc",
       "value": "6250 / 6250"
      }
     },
     "1a5408ddcc12464c8806f20d99d78af1": {
      "model_module": "jupyter-js-widgets",
      "model_module_version": "~2.1.4",
      "model_name": "LayoutModel",
      "state": {
       "_model_module_version": "~2.1.4",
       "_view_module_version": "~2.1.4"
      }
     },
     "1ab9ad9e5c3d40a7900d832f70f11c9c": {
      "model_module": "jupyter-js-widgets",
      "model_module_version": "~2.1.4",
      "model_name": "LayoutModel",
      "state": {
       "_model_module_version": "~2.1.4",
       "_view_module_version": "~2.1.4"
      }
     },
     "1da04d6e29164d3b9a2f98fa44b307f3": {
      "model_module": "jupyter-js-widgets",
      "model_module_version": "~2.1.4",
      "model_name": "LayoutModel",
      "state": {
       "_model_module_version": "~2.1.4",
       "_view_module_version": "~2.1.4"
      }
     },
     "2075bf7f9e66473f8c23e20dd8c4a802": {
      "model_module": "jupyter-js-widgets",
      "model_module_version": "~2.1.4",
      "model_name": "LayoutModel",
      "state": {
       "_model_module_version": "~2.1.4",
       "_view_module_version": "~2.1.4"
      }
     },
     "229fc976993640059b560d63f1a9b0b2": {
      "model_module": "jupyter-js-widgets",
      "model_module_version": "~2.1.4",
      "model_name": "LayoutModel",
      "state": {
       "_model_module_version": "~2.1.4",
       "_view_module_version": "~2.1.4"
      }
     },
     "23ebf8134b16476da683c3250cbed05e": {
      "model_module": "jupyter-js-widgets",
      "model_module_version": "~2.1.4",
      "model_name": "HBoxModel",
      "state": {
       "_model_module_version": "~2.1.4",
       "_view_module_version": "~2.1.4",
       "children": [
        "IPY_MODEL_0df171b06c3b4282904df6b4e3d8f249",
        "IPY_MODEL_44a32f70f39f464e950e112ed6a86c63"
       ],
       "layout": "IPY_MODEL_919377ce029b4d1184c0020b15b0d9c3"
      }
     },
     "2427dde2097c40cfa11c66bc669a37cc": {
      "model_module": "jupyter-js-widgets",
      "model_module_version": "~2.1.4",
      "model_name": "ProgressModel",
      "state": {
       "_model_module_version": "~2.1.4",
       "_view_module_version": "~2.1.4",
       "bar_style": "success",
       "description": "100.00%",
       "layout": "IPY_MODEL_b57c87ad607345c98297e041783f6603",
       "max": 6250,
       "style": "IPY_MODEL_4b3fe1713a4d410d9366ea6e401d958f",
       "value": 6250
      }
     },
     "260c2b82b9484b758c1a4263e8f74aba": {
      "model_module": "jupyter-js-widgets",
      "model_module_version": "~2.1.4",
      "model_name": "HBoxModel",
      "state": {
       "_model_module_version": "~2.1.4",
       "_view_module_version": "~2.1.4",
       "children": [
        "IPY_MODEL_33acaae9a33a4d549acd867e6e9c6fa8",
        "IPY_MODEL_1411f92127734f2b81daa1145b0ea8cc"
       ],
       "layout": "IPY_MODEL_87c98b75584744fabed97546db8c29ad"
      }
     },
     "268d5cc27cc5455e820c92def59874b7": {
      "model_module": "jupyter-js-widgets",
      "model_module_version": "~2.1.4",
      "model_name": "LayoutModel",
      "state": {
       "_model_module_version": "~2.1.4",
       "_view_module_version": "~2.1.4"
      }
     },
     "274c7ee834e141dbbf7b58bdd69fe6e2": {
      "model_module": "jupyter-js-widgets",
      "model_module_version": "~2.1.4",
      "model_name": "LayoutModel",
      "state": {
       "_model_module_version": "~2.1.4",
       "_view_module_version": "~2.1.4"
      }
     },
     "28941cda635442f0bc38a9274158ab5c": {
      "model_module": "jupyter-js-widgets",
      "model_module_version": "~2.1.4",
      "model_name": "ProgressModel",
      "state": {
       "_model_module_version": "~2.1.4",
       "_view_module_version": "~2.1.4",
       "bar_style": "success",
       "description": "100.00%",
       "layout": "IPY_MODEL_50e09d1b9a9f4483b5d663754155381e",
       "max": 6250,
       "style": "IPY_MODEL_d3e84870deb74eb3b6c8ef1b235f92b0",
       "value": 6250
      }
     },
     "2a2414bdc6dd4b35b2797303171a236c": {
      "model_module": "jupyter-js-widgets",
      "model_module_version": "~2.1.4",
      "model_name": "ProgressStyleModel",
      "state": {
       "_model_module_version": "~2.1.4",
       "_view_module_version": "~2.1.4"
      }
     },
     "2b89f6b29d484292bdd3ae9689ba8c6a": {
      "model_module": "jupyter-js-widgets",
      "model_module_version": "~2.1.4",
      "model_name": "ProgressModel",
      "state": {
       "_model_module_version": "~2.1.4",
       "_view_module_version": "~2.1.4",
       "bar_style": "success",
       "description": "100.00%",
       "layout": "IPY_MODEL_82ad48e039f248dabf1e52f28846c39a",
       "max": 6250,
       "style": "IPY_MODEL_f326f90ed32c4272b309816578204515",
       "value": 6250
      }
     },
     "2c7fd3dff787432aaf53648a21306768": {
      "model_module": "jupyter-js-widgets",
      "model_module_version": "~2.1.4",
      "model_name": "ProgressModel",
      "state": {
       "_model_module_version": "~2.1.4",
       "_view_module_version": "~2.1.4",
       "bar_style": "success",
       "description": "100.00%",
       "layout": "IPY_MODEL_e23f9cfbe8ec452bb306dbf75bc03307",
       "max": 6250,
       "style": "IPY_MODEL_f7e21433c2344523849d3e14633ce17b",
       "value": 6250
      }
     },
     "2d3211316e9f4537bd2dd364e9a98fe0": {
      "model_module": "jupyter-js-widgets",
      "model_module_version": "~2.1.4",
      "model_name": "LayoutModel",
      "state": {
       "_model_module_version": "~2.1.4",
       "_view_module_version": "~2.1.4"
      }
     },
     "2e11b860909043fc9dc1af187cade14b": {
      "model_module": "jupyter-js-widgets",
      "model_module_version": "~2.1.4",
      "model_name": "LayoutModel",
      "state": {
       "_model_module_version": "~2.1.4",
       "_view_module_version": "~2.1.4"
      }
     },
     "2f4abb13115f44ecb67770ad7dfda7ed": {
      "model_module": "jupyter-js-widgets",
      "model_module_version": "~2.1.4",
      "model_name": "LabelModel",
      "state": {
       "_model_module_version": "~2.1.4",
       "_view_module_version": "~2.1.4",
       "layout": "IPY_MODEL_e2ae1c4bbb734a6aa7e6c544b6fc1c62",
       "value": "6250 / 6250"
      }
     },
     "2fcfc80fb07840068ed3c1f6ffedfd90": {
      "model_module": "jupyter-js-widgets",
      "model_module_version": "~2.1.4",
      "model_name": "LayoutModel",
      "state": {
       "_model_module_version": "~2.1.4",
       "_view_module_version": "~2.1.4"
      }
     },
     "3097543e54464412b085d5b76cc4fc38": {
      "model_module": "jupyter-js-widgets",
      "model_module_version": "~2.1.4",
      "model_name": "LayoutModel",
      "state": {
       "_model_module_version": "~2.1.4",
       "_view_module_version": "~2.1.4"
      }
     },
     "32c3435522a249d0b630482c86cd8a29": {
      "model_module": "jupyter-js-widgets",
      "model_module_version": "~2.1.4",
      "model_name": "LayoutModel",
      "state": {
       "_model_module_version": "~2.1.4",
       "_view_module_version": "~2.1.4"
      }
     },
     "33685bfb8116406f93f1e716652296e3": {
      "model_module": "jupyter-js-widgets",
      "model_module_version": "~2.1.4",
      "model_name": "LayoutModel",
      "state": {
       "_model_module_version": "~2.1.4",
       "_view_module_version": "~2.1.4"
      }
     },
     "33acaae9a33a4d549acd867e6e9c6fa8": {
      "model_module": "jupyter-js-widgets",
      "model_module_version": "~2.1.4",
      "model_name": "ProgressModel",
      "state": {
       "_model_module_version": "~2.1.4",
       "_view_module_version": "~2.1.4",
       "bar_style": "success",
       "description": "100.00%",
       "layout": "IPY_MODEL_1ab9ad9e5c3d40a7900d832f70f11c9c",
       "max": 6250,
       "style": "IPY_MODEL_34c8bdfb8fa4436dbf1a2ace8ee9f6d7",
       "value": 6250
      }
     },
     "34c8bdfb8fa4436dbf1a2ace8ee9f6d7": {
      "model_module": "jupyter-js-widgets",
      "model_module_version": "~2.1.4",
      "model_name": "ProgressStyleModel",
      "state": {
       "_model_module_version": "~2.1.4",
       "_view_module_version": "~2.1.4"
      }
     },
     "35bd6fadd08c4a6a8ac51f6059fbf991": {
      "model_module": "jupyter-js-widgets",
      "model_module_version": "~2.1.4",
      "model_name": "LayoutModel",
      "state": {
       "_model_module_version": "~2.1.4",
       "_view_module_version": "~2.1.4"
      }
     },
     "35ce159e792248b992f688fcae686dab": {
      "model_module": "jupyter-js-widgets",
      "model_module_version": "~2.1.4",
      "model_name": "LayoutModel",
      "state": {
       "_model_module_version": "~2.1.4",
       "_view_module_version": "~2.1.4"
      }
     },
     "36266051c58945ecbfbce6d7e1d765a0": {
      "model_module": "jupyter-js-widgets",
      "model_module_version": "~2.1.4",
      "model_name": "ProgressModel",
      "state": {
       "_model_module_version": "~2.1.4",
       "_view_module_version": "~2.1.4",
       "bar_style": "success",
       "description": "100.00%",
       "layout": "IPY_MODEL_e4366c6ddb1e4aebb74c5d16647b5ff0",
       "max": 6250,
       "style": "IPY_MODEL_fdbfdade02574ed4b580e1921004d753",
       "value": 6250
      }
     },
     "36d6748182754aabbb9916289d9a894a": {
      "model_module": "jupyter-js-widgets",
      "model_module_version": "~2.1.4",
      "model_name": "LayoutModel",
      "state": {
       "_model_module_version": "~2.1.4",
       "_view_module_version": "~2.1.4"
      }
     },
     "37ed393f7bb747f99505c3e964ca0b98": {
      "model_module": "jupyter-js-widgets",
      "model_module_version": "~2.1.4",
      "model_name": "HBoxModel",
      "state": {
       "_model_module_version": "~2.1.4",
       "_view_module_version": "~2.1.4",
       "children": [
        "IPY_MODEL_a92c6a1c0b08487a8e0d587c2a216115",
        "IPY_MODEL_b99a31592d964f7bafc41d68cbc6f3c4"
       ],
       "layout": "IPY_MODEL_9222d886aad045b28fca6efd9bff58c8"
      }
     },
     "386dfc4378fa4a9b9e8dd99b9681ff0f": {
      "model_module": "jupyter-js-widgets",
      "model_module_version": "~2.1.4",
      "model_name": "LabelModel",
      "state": {
       "_model_module_version": "~2.1.4",
       "_view_module_version": "~2.1.4",
       "layout": "IPY_MODEL_35bd6fadd08c4a6a8ac51f6059fbf991",
       "value": "6250 / 6250"
      }
     },
     "3b29280d270443b7a61752ba410aee69": {
      "model_module": "jupyter-js-widgets",
      "model_module_version": "~2.1.4",
      "model_name": "LabelModel",
      "state": {
       "_model_module_version": "~2.1.4",
       "_view_module_version": "~2.1.4",
       "layout": "IPY_MODEL_48ae898a59da4faab736fbea084573e4",
       "value": "6250 / 6250"
      }
     },
     "3c996d645a91486199ebd00b638fe13d": {
      "model_module": "jupyter-js-widgets",
      "model_module_version": "~2.1.4",
      "model_name": "HBoxModel",
      "state": {
       "_model_module_version": "~2.1.4",
       "_view_module_version": "~2.1.4",
       "children": [
        "IPY_MODEL_596602baf27645f28cd8f9782659b284",
        "IPY_MODEL_aec2ad8d54bf4bb5be62b6eba4ecc472"
       ],
       "layout": "IPY_MODEL_86c448768f15462cbcf7f0d71d4a2bfe"
      }
     },
     "3ed2f6d215444b53b8ba8bae399b4ac5": {
      "model_module": "jupyter-js-widgets",
      "model_module_version": "~2.1.4",
      "model_name": "ProgressModel",
      "state": {
       "_model_module_version": "~2.1.4",
       "_view_module_version": "~2.1.4",
       "bar_style": "success",
       "description": "100.00%",
       "layout": "IPY_MODEL_36d6748182754aabbb9916289d9a894a",
       "max": 6250,
       "style": "IPY_MODEL_e0e64dd097304decbfd04ff97419bc34",
       "value": 6250
      }
     },
     "3ef28c48aed84c789936dc75b4164568": {
      "model_module": "jupyter-js-widgets",
      "model_module_version": "~2.1.4",
      "model_name": "ProgressModel",
      "state": {
       "_model_module_version": "~2.1.4",
       "_view_module_version": "~2.1.4",
       "bar_style": "success",
       "description": "100.00%",
       "layout": "IPY_MODEL_0d40f7d1af3b460797a67b8a36645579",
       "max": 6250,
       "style": "IPY_MODEL_5a733c91f47442a9b4852c0bcaa49532",
       "value": 6250
      }
     },
     "3f7e842b518e47d8bcdd8a2bfc71f44d": {
      "model_module": "jupyter-js-widgets",
      "model_module_version": "~2.1.4",
      "model_name": "LayoutModel",
      "state": {
       "_model_module_version": "~2.1.4",
       "_view_module_version": "~2.1.4"
      }
     },
     "404646b9af5948dab2c0e9f4b40692f3": {
      "model_module": "jupyter-js-widgets",
      "model_module_version": "~2.1.4",
      "model_name": "ProgressStyleModel",
      "state": {
       "_model_module_version": "~2.1.4",
       "_view_module_version": "~2.1.4"
      }
     },
     "430fd9862f5c413d86f2840acd9645df": {
      "model_module": "jupyter-js-widgets",
      "model_module_version": "~2.1.4",
      "model_name": "LayoutModel",
      "state": {
       "_model_module_version": "~2.1.4",
       "_view_module_version": "~2.1.4"
      }
     },
     "44a32f70f39f464e950e112ed6a86c63": {
      "model_module": "jupyter-js-widgets",
      "model_module_version": "~2.1.4",
      "model_name": "LabelModel",
      "state": {
       "_model_module_version": "~2.1.4",
       "_view_module_version": "~2.1.4",
       "layout": "IPY_MODEL_ad5d3027d3c649eab5d8075f312c9ad4",
       "value": "6250 / 6250"
      }
     },
     "4554a4150ab44d62a0de894f0f08cae5": {
      "model_module": "jupyter-js-widgets",
      "model_module_version": "~2.1.4",
      "model_name": "LabelModel",
      "state": {
       "_model_module_version": "~2.1.4",
       "_view_module_version": "~2.1.4",
       "layout": "IPY_MODEL_a43db2d4e7cc4c05a928986ad50a2b4d",
       "value": "6250 / 6250"
      }
     },
     "48ae898a59da4faab736fbea084573e4": {
      "model_module": "jupyter-js-widgets",
      "model_module_version": "~2.1.4",
      "model_name": "LayoutModel",
      "state": {
       "_model_module_version": "~2.1.4",
       "_view_module_version": "~2.1.4"
      }
     },
     "498f54246e234ed7ac6d5f898a5b2655": {
      "model_module": "jupyter-js-widgets",
      "model_module_version": "~2.1.4",
      "model_name": "HBoxModel",
      "state": {
       "_model_module_version": "~2.1.4",
       "_view_module_version": "~2.1.4",
       "children": [
        "IPY_MODEL_157911e2dfb94b14b0ee2fe71d40002d",
        "IPY_MODEL_1a41fdc522e84e1182f1e00eb918ad4c"
       ],
       "layout": "IPY_MODEL_35ce159e792248b992f688fcae686dab"
      }
     },
     "4af5b2d69b53415f8c8716307f60cf48": {
      "model_module": "jupyter-js-widgets",
      "model_module_version": "~2.1.4",
      "model_name": "LayoutModel",
      "state": {
       "_model_module_version": "~2.1.4",
       "_view_module_version": "~2.1.4"
      }
     },
     "4b3fe1713a4d410d9366ea6e401d958f": {
      "model_module": "jupyter-js-widgets",
      "model_module_version": "~2.1.4",
      "model_name": "ProgressStyleModel",
      "state": {
       "_model_module_version": "~2.1.4",
       "_view_module_version": "~2.1.4"
      }
     },
     "4e336f2499454458ae2b25061966a01d": {
      "model_module": "jupyter-js-widgets",
      "model_module_version": "~2.1.4",
      "model_name": "LayoutModel",
      "state": {
       "_model_module_version": "~2.1.4",
       "_view_module_version": "~2.1.4"
      }
     },
     "50e09d1b9a9f4483b5d663754155381e": {
      "model_module": "jupyter-js-widgets",
      "model_module_version": "~2.1.4",
      "model_name": "LayoutModel",
      "state": {
       "_model_module_version": "~2.1.4",
       "_view_module_version": "~2.1.4"
      }
     },
     "525d7cdea82d4e04aeef508b12d8ce4f": {
      "model_module": "jupyter-js-widgets",
      "model_module_version": "~2.1.4",
      "model_name": "LayoutModel",
      "state": {
       "_model_module_version": "~2.1.4",
       "_view_module_version": "~2.1.4"
      }
     },
     "552e63d85adc4803bdbf1553fbd5a37c": {
      "model_module": "jupyter-js-widgets",
      "model_module_version": "~2.1.4",
      "model_name": "LayoutModel",
      "state": {
       "_model_module_version": "~2.1.4",
       "_view_module_version": "~2.1.4"
      }
     },
     "55c6612945ee4715aed1167aee94ddb1": {
      "model_module": "jupyter-js-widgets",
      "model_module_version": "~2.1.4",
      "model_name": "LayoutModel",
      "state": {
       "_model_module_version": "~2.1.4",
       "_view_module_version": "~2.1.4"
      }
     },
     "596602baf27645f28cd8f9782659b284": {
      "model_module": "jupyter-js-widgets",
      "model_module_version": "~2.1.4",
      "model_name": "ProgressModel",
      "state": {
       "_model_module_version": "~2.1.4",
       "_view_module_version": "~2.1.4",
       "bar_style": "success",
       "description": "100.00%",
       "layout": "IPY_MODEL_55c6612945ee4715aed1167aee94ddb1",
       "max": 6250,
       "style": "IPY_MODEL_0338f9ef15fd4d9ea7951cc651777ff3",
       "value": 6250
      }
     },
     "59d248e16d1a45ac9efa367b0497d58e": {
      "model_module": "jupyter-js-widgets",
      "model_module_version": "~2.1.4",
      "model_name": "ProgressStyleModel",
      "state": {
       "_model_module_version": "~2.1.4",
       "_view_module_version": "~2.1.4"
      }
     },
     "5a733c91f47442a9b4852c0bcaa49532": {
      "model_module": "jupyter-js-widgets",
      "model_module_version": "~2.1.4",
      "model_name": "ProgressStyleModel",
      "state": {
       "_model_module_version": "~2.1.4",
       "_view_module_version": "~2.1.4"
      }
     },
     "5a9abc3936cc488296867a8f5bd6cb01": {
      "model_module": "jupyter-js-widgets",
      "model_module_version": "~2.1.4",
      "model_name": "HBoxModel",
      "state": {
       "_model_module_version": "~2.1.4",
       "_view_module_version": "~2.1.4",
       "children": [
        "IPY_MODEL_28941cda635442f0bc38a9274158ab5c",
        "IPY_MODEL_6a89a6a743254145b1529178ef0eabdc"
       ],
       "layout": "IPY_MODEL_ec29b896bdb64291b3a3a266c2378b36"
      }
     },
     "5c238e32ab05471da83cd0092ec36095": {
      "model_module": "jupyter-js-widgets",
      "model_module_version": "~2.1.4",
      "model_name": "LayoutModel",
      "state": {
       "_model_module_version": "~2.1.4",
       "_view_module_version": "~2.1.4"
      }
     },
     "5cd05136918d4edba8dcce338ab09cb3": {
      "model_module": "jupyter-js-widgets",
      "model_module_version": "~2.1.4",
      "model_name": "LayoutModel",
      "state": {
       "_model_module_version": "~2.1.4",
       "_view_module_version": "~2.1.4"
      }
     },
     "654a80decb934f4ca485298ad57a38f7": {
      "model_module": "jupyter-js-widgets",
      "model_module_version": "~2.1.4",
      "model_name": "LayoutModel",
      "state": {
       "_model_module_version": "~2.1.4",
       "_view_module_version": "~2.1.4"
      }
     },
     "65c230c533b1424a929c4e1a165954e6": {
      "model_module": "jupyter-js-widgets",
      "model_module_version": "~2.1.4",
      "model_name": "ProgressStyleModel",
      "state": {
       "_model_module_version": "~2.1.4",
       "_view_module_version": "~2.1.4"
      }
     },
     "67fdeb202dd64ec29279f4b2befdb893": {
      "model_module": "jupyter-js-widgets",
      "model_module_version": "~2.1.4",
      "model_name": "HBoxModel",
      "state": {
       "_model_module_version": "~2.1.4",
       "_view_module_version": "~2.1.4",
       "children": [
        "IPY_MODEL_3ef28c48aed84c789936dc75b4164568",
        "IPY_MODEL_386dfc4378fa4a9b9e8dd99b9681ff0f"
       ],
       "layout": "IPY_MODEL_6d489d32cf214b6a99929f5eb10fc32c"
      }
     },
     "68c15ac621c54ffe837dc1289263ae21": {
      "model_module": "jupyter-js-widgets",
      "model_module_version": "~2.1.4",
      "model_name": "LayoutModel",
      "state": {
       "_model_module_version": "~2.1.4",
       "_view_module_version": "~2.1.4"
      }
     },
     "68d8c29299c34e759ef3e2d99eb06e72": {
      "model_module": "jupyter-js-widgets",
      "model_module_version": "~2.1.4",
      "model_name": "HBoxModel",
      "state": {
       "_model_module_version": "~2.1.4",
       "_view_module_version": "~2.1.4",
       "children": [
        "IPY_MODEL_b9060efce7f74db4863a619894c852fe",
        "IPY_MODEL_89f0375df1e746b28e720c30951b082c"
       ],
       "layout": "IPY_MODEL_aa7763c2350547fcaea4a68884a2cb59"
      }
     },
     "69d31b3e0e654e3bb42223bee557d0b3": {
      "model_module": "jupyter-js-widgets",
      "model_module_version": "~2.1.4",
      "model_name": "VBoxModel",
      "state": {
       "_model_module_version": "~2.1.4",
       "_view_module_version": "~2.1.4",
       "children": [
        "IPY_MODEL_260c2b82b9484b758c1a4263e8f74aba",
        "IPY_MODEL_0661d7f1e5b7447199865b375c1351cd",
        "IPY_MODEL_b8bc0541007341f1b196666b09528ed8",
        "IPY_MODEL_5a9abc3936cc488296867a8f5bd6cb01",
        "IPY_MODEL_b5fbd07bb8604aae9ce3448dc5b90182",
        "IPY_MODEL_23ebf8134b16476da683c3250cbed05e",
        "IPY_MODEL_0524a42ef6574c02b07f17da3273e65c",
        "IPY_MODEL_498f54246e234ed7ac6d5f898a5b2655"
       ],
       "layout": "IPY_MODEL_2d3211316e9f4537bd2dd364e9a98fe0"
      }
     },
     "6a89a6a743254145b1529178ef0eabdc": {
      "model_module": "jupyter-js-widgets",
      "model_module_version": "~2.1.4",
      "model_name": "LabelModel",
      "state": {
       "_model_module_version": "~2.1.4",
       "_view_module_version": "~2.1.4",
       "layout": "IPY_MODEL_32c3435522a249d0b630482c86cd8a29",
       "value": "6250 / 6250"
      }
     },
     "6c7c985fef994ea6a20dd3b1b482aa40": {
      "model_module": "jupyter-js-widgets",
      "model_module_version": "~2.1.4",
      "model_name": "LabelModel",
      "state": {
       "_model_module_version": "~2.1.4",
       "_view_module_version": "~2.1.4",
       "layout": "IPY_MODEL_33685bfb8116406f93f1e716652296e3",
       "value": "6250 / 6250"
      }
     },
     "6d489d32cf214b6a99929f5eb10fc32c": {
      "model_module": "jupyter-js-widgets",
      "model_module_version": "~2.1.4",
      "model_name": "LayoutModel",
      "state": {
       "_model_module_version": "~2.1.4",
       "_view_module_version": "~2.1.4"
      }
     },
     "6e9dbbe6ccd841158f084e188bf49015": {
      "model_module": "jupyter-js-widgets",
      "model_module_version": "~2.1.4",
      "model_name": "LayoutModel",
      "state": {
       "_model_module_version": "~2.1.4",
       "_view_module_version": "~2.1.4"
      }
     },
     "75af8daafbc649a0a27bf39e5a3739fc": {
      "model_module": "jupyter-js-widgets",
      "model_module_version": "~2.1.4",
      "model_name": "LayoutModel",
      "state": {
       "_model_module_version": "~2.1.4",
       "_view_module_version": "~2.1.4"
      }
     },
     "77b6430527c041ddb39b2a79314c67b1": {
      "model_module": "jupyter-js-widgets",
      "model_module_version": "~2.1.4",
      "model_name": "ProgressStyleModel",
      "state": {
       "_model_module_version": "~2.1.4",
       "_view_module_version": "~2.1.4"
      }
     },
     "7e88c8c55943445d85a2481f6a658ecc": {
      "model_module": "jupyter-js-widgets",
      "model_module_version": "~2.1.4",
      "model_name": "LayoutModel",
      "state": {
       "_model_module_version": "~2.1.4",
       "_view_module_version": "~2.1.4"
      }
     },
     "82472874c2c848db87a1ae5e697a8d23": {
      "model_module": "jupyter-js-widgets",
      "model_module_version": "~2.1.4",
      "model_name": "HBoxModel",
      "state": {
       "_model_module_version": "~2.1.4",
       "_view_module_version": "~2.1.4",
       "children": [
        "IPY_MODEL_88d1f2d926bb434986977ca54ac0cab7",
        "IPY_MODEL_bc6d283270104e3a8f57dcbad208e26a"
       ],
       "layout": "IPY_MODEL_cb0f60d292f14c4c95c0e445b933492a"
      }
     },
     "82ad48e039f248dabf1e52f28846c39a": {
      "model_module": "jupyter-js-widgets",
      "model_module_version": "~2.1.4",
      "model_name": "LayoutModel",
      "state": {
       "_model_module_version": "~2.1.4",
       "_view_module_version": "~2.1.4"
      }
     },
     "862ca87a770741b8a5e09c17e2f4f059": {
      "model_module": "jupyter-js-widgets",
      "model_module_version": "~2.1.4",
      "model_name": "LabelModel",
      "state": {
       "_model_module_version": "~2.1.4",
       "_view_module_version": "~2.1.4",
       "layout": "IPY_MODEL_ffe7bdffcf844396aad21b53c2d30e44",
       "value": "6250 / 6250"
      }
     },
     "86c448768f15462cbcf7f0d71d4a2bfe": {
      "model_module": "jupyter-js-widgets",
      "model_module_version": "~2.1.4",
      "model_name": "LayoutModel",
      "state": {
       "_model_module_version": "~2.1.4",
       "_view_module_version": "~2.1.4"
      }
     },
     "87c98b75584744fabed97546db8c29ad": {
      "model_module": "jupyter-js-widgets",
      "model_module_version": "~2.1.4",
      "model_name": "LayoutModel",
      "state": {
       "_model_module_version": "~2.1.4",
       "_view_module_version": "~2.1.4"
      }
     },
     "8866d0177eae45088e830858b2f10d25": {
      "model_module": "jupyter-js-widgets",
      "model_module_version": "~2.1.4",
      "model_name": "LayoutModel",
      "state": {
       "_model_module_version": "~2.1.4",
       "_view_module_version": "~2.1.4"
      }
     },
     "88d1f2d926bb434986977ca54ac0cab7": {
      "model_module": "jupyter-js-widgets",
      "model_module_version": "~2.1.4",
      "model_name": "ProgressModel",
      "state": {
       "_model_module_version": "~2.1.4",
       "_view_module_version": "~2.1.4",
       "bar_style": "success",
       "description": "100.00%",
       "layout": "IPY_MODEL_2fcfc80fb07840068ed3c1f6ffedfd90",
       "max": 6250,
       "style": "IPY_MODEL_404646b9af5948dab2c0e9f4b40692f3",
       "value": 6250
      }
     },
     "89f0375df1e746b28e720c30951b082c": {
      "model_module": "jupyter-js-widgets",
      "model_module_version": "~2.1.4",
      "model_name": "LabelModel",
      "state": {
       "_model_module_version": "~2.1.4",
       "_view_module_version": "~2.1.4",
       "layout": "IPY_MODEL_4e336f2499454458ae2b25061966a01d",
       "value": "6250 / 6250"
      }
     },
     "8c06e268d3bc49739105bafea2cfda60": {
      "model_module": "jupyter-js-widgets",
      "model_module_version": "~2.1.4",
      "model_name": "VBoxModel",
      "state": {
       "_model_module_version": "~2.1.4",
       "_view_module_version": "~2.1.4",
       "children": [
        "IPY_MODEL_b8d5822079e24170bcf8877553b22fb1",
        "IPY_MODEL_82472874c2c848db87a1ae5e697a8d23",
        "IPY_MODEL_e252c23cc1d34c69830ac0f3ddfc1275",
        "IPY_MODEL_37ed393f7bb747f99505c3e964ca0b98",
        "IPY_MODEL_0bf918fab9f144e9ae1828bcb594050a",
        "IPY_MODEL_141899495de940d68797ea7eccd2d4cf",
        "IPY_MODEL_ed086589e2104b949384f0981cb0ebbe",
        "IPY_MODEL_fcb9efaed25943a1a128fbace8e38f94"
       ],
       "layout": "IPY_MODEL_bf7557f1bf1e42c59d0405f380a9d2cf"
      }
     },
     "8cdce4c583ab4415807b4e705199ccb3": {
      "model_module": "jupyter-js-widgets",
      "model_module_version": "~2.1.4",
      "model_name": "LabelModel",
      "state": {
       "_model_module_version": "~2.1.4",
       "_view_module_version": "~2.1.4",
       "layout": "IPY_MODEL_d9f946d793a24721896b4fb43f65bc8c",
       "value": "6250 / 6250"
      }
     },
     "8f22b5b6a1a94280810593f7656d87bd": {
      "model_module": "jupyter-js-widgets",
      "model_module_version": "~2.1.4",
      "model_name": "LabelModel",
      "state": {
       "_model_module_version": "~2.1.4",
       "_view_module_version": "~2.1.4",
       "layout": "IPY_MODEL_b117a217a1b9466db75c8c145dc24d49",
       "value": "6250 / 6250"
      }
     },
     "8f95a726e61a45c893a0120dde36d623": {
      "model_module": "jupyter-js-widgets",
      "model_module_version": "~2.1.4",
      "model_name": "LabelModel",
      "state": {
       "_model_module_version": "~2.1.4",
       "_view_module_version": "~2.1.4",
       "layout": "IPY_MODEL_e19f0ad63d724c1cb09c7b495d51daef",
       "value": "6250 / 6250"
      }
     },
     "919377ce029b4d1184c0020b15b0d9c3": {
      "model_module": "jupyter-js-widgets",
      "model_module_version": "~2.1.4",
      "model_name": "LayoutModel",
      "state": {
       "_model_module_version": "~2.1.4",
       "_view_module_version": "~2.1.4"
      }
     },
     "9222d886aad045b28fca6efd9bff58c8": {
      "model_module": "jupyter-js-widgets",
      "model_module_version": "~2.1.4",
      "model_name": "LayoutModel",
      "state": {
       "_model_module_version": "~2.1.4",
       "_view_module_version": "~2.1.4"
      }
     },
     "93e8906276724bc7a4bdb1351c81209e": {
      "model_module": "jupyter-js-widgets",
      "model_module_version": "~2.1.4",
      "model_name": "ProgressStyleModel",
      "state": {
       "_model_module_version": "~2.1.4",
       "_view_module_version": "~2.1.4"
      }
     },
     "940d89a3c4e549659d5379181bed819d": {
      "model_module": "jupyter-js-widgets",
      "model_module_version": "~2.1.4",
      "model_name": "LayoutModel",
      "state": {
       "_model_module_version": "~2.1.4",
       "_view_module_version": "~2.1.4"
      }
     },
     "953ccaffccba45e89c88bcdf89b8dafd": {
      "model_module": "jupyter-js-widgets",
      "model_module_version": "~2.1.4",
      "model_name": "ProgressStyleModel",
      "state": {
       "_model_module_version": "~2.1.4",
       "_view_module_version": "~2.1.4"
      }
     },
     "969a32d94f0a451aae31d7761154f60a": {
      "model_module": "jupyter-js-widgets",
      "model_module_version": "~2.1.4",
      "model_name": "LayoutModel",
      "state": {
       "_model_module_version": "~2.1.4",
       "_view_module_version": "~2.1.4"
      }
     },
     "9cb25ba1467d40bb94b58867972905e7": {
      "model_module": "jupyter-js-widgets",
      "model_module_version": "~2.1.4",
      "model_name": "LayoutModel",
      "state": {
       "_model_module_version": "~2.1.4",
       "_view_module_version": "~2.1.4"
      }
     },
     "a43db2d4e7cc4c05a928986ad50a2b4d": {
      "model_module": "jupyter-js-widgets",
      "model_module_version": "~2.1.4",
      "model_name": "LayoutModel",
      "state": {
       "_model_module_version": "~2.1.4",
       "_view_module_version": "~2.1.4"
      }
     },
     "a8157c9961154f808791f8b48afd43c2": {
      "model_module": "jupyter-js-widgets",
      "model_module_version": "~2.1.4",
      "model_name": "LayoutModel",
      "state": {
       "_model_module_version": "~2.1.4",
       "_view_module_version": "~2.1.4"
      }
     },
     "a92c6a1c0b08487a8e0d587c2a216115": {
      "model_module": "jupyter-js-widgets",
      "model_module_version": "~2.1.4",
      "model_name": "ProgressModel",
      "state": {
       "_model_module_version": "~2.1.4",
       "_view_module_version": "~2.1.4",
       "bar_style": "success",
       "description": "100.00%",
       "layout": "IPY_MODEL_fc9d3b08b8aa4ab795db88d3be4a3a56",
       "max": 6250,
       "style": "IPY_MODEL_068291d3c7744970949b6435c8537b79",
       "value": 6250
      }
     },
     "a955ae3edd8b4883b432829e76c5c436": {
      "model_module": "jupyter-js-widgets",
      "model_module_version": "~2.1.4",
      "model_name": "LayoutModel",
      "state": {
       "_model_module_version": "~2.1.4",
       "_view_module_version": "~2.1.4"
      }
     },
     "aa7763c2350547fcaea4a68884a2cb59": {
      "model_module": "jupyter-js-widgets",
      "model_module_version": "~2.1.4",
      "model_name": "LayoutModel",
      "state": {
       "_model_module_version": "~2.1.4",
       "_view_module_version": "~2.1.4"
      }
     },
     "ad5d3027d3c649eab5d8075f312c9ad4": {
      "model_module": "jupyter-js-widgets",
      "model_module_version": "~2.1.4",
      "model_name": "LayoutModel",
      "state": {
       "_model_module_version": "~2.1.4",
       "_view_module_version": "~2.1.4"
      }
     },
     "aec2ad8d54bf4bb5be62b6eba4ecc472": {
      "model_module": "jupyter-js-widgets",
      "model_module_version": "~2.1.4",
      "model_name": "LabelModel",
      "state": {
       "_model_module_version": "~2.1.4",
       "_view_module_version": "~2.1.4",
       "layout": "IPY_MODEL_e1a5e1d85f3d411ebe89fa1bad92a2ea",
       "value": "6250 / 6250"
      }
     },
     "af9fa311c2664723ae2b96c97f6fc8d0": {
      "model_module": "jupyter-js-widgets",
      "model_module_version": "~2.1.4",
      "model_name": "VBoxModel",
      "state": {
       "_model_module_version": "~2.1.4",
       "_view_module_version": "~2.1.4",
       "children": [
        "IPY_MODEL_c431522cdf7d4d639ddf8ee823aa9b9e",
        "IPY_MODEL_ce38360f6f064c65a52da04db2ad33c8",
        "IPY_MODEL_67fdeb202dd64ec29279f4b2befdb893",
        "IPY_MODEL_68d8c29299c34e759ef3e2d99eb06e72",
        "IPY_MODEL_de790a9cd7174e3385e4c105904ab12c",
        "IPY_MODEL_e41484cf51464cfcb4f943d546d84f00",
        "IPY_MODEL_062b66fa28194588aa719aa8ee2456f7",
        "IPY_MODEL_3c996d645a91486199ebd00b638fe13d"
       ],
       "layout": "IPY_MODEL_e883736d5e94497089fded53fdd58563"
      }
     },
     "b117a217a1b9466db75c8c145dc24d49": {
      "model_module": "jupyter-js-widgets",
      "model_module_version": "~2.1.4",
      "model_name": "LayoutModel",
      "state": {
       "_model_module_version": "~2.1.4",
       "_view_module_version": "~2.1.4"
      }
     },
     "b2bc364a909d4f4b97489e911d729ea1": {
      "model_module": "jupyter-js-widgets",
      "model_module_version": "~2.1.4",
      "model_name": "LayoutModel",
      "state": {
       "_model_module_version": "~2.1.4",
       "_view_module_version": "~2.1.4"
      }
     },
     "b4e21d965b4a455c8ad675c0cb7cc0e7": {
      "model_module": "jupyter-js-widgets",
      "model_module_version": "~2.1.4",
      "model_name": "LayoutModel",
      "state": {
       "_model_module_version": "~2.1.4",
       "_view_module_version": "~2.1.4"
      }
     },
     "b57c87ad607345c98297e041783f6603": {
      "model_module": "jupyter-js-widgets",
      "model_module_version": "~2.1.4",
      "model_name": "LayoutModel",
      "state": {
       "_model_module_version": "~2.1.4",
       "_view_module_version": "~2.1.4"
      }
     },
     "b5d329b6728d452f9b33b49678c26a8e": {
      "model_module": "jupyter-js-widgets",
      "model_module_version": "~2.1.4",
      "model_name": "LayoutModel",
      "state": {
       "_model_module_version": "~2.1.4",
       "_view_module_version": "~2.1.4"
      }
     },
     "b5fbd07bb8604aae9ce3448dc5b90182": {
      "model_module": "jupyter-js-widgets",
      "model_module_version": "~2.1.4",
      "model_name": "HBoxModel",
      "state": {
       "_model_module_version": "~2.1.4",
       "_view_module_version": "~2.1.4",
       "children": [
        "IPY_MODEL_2c7fd3dff787432aaf53648a21306768",
        "IPY_MODEL_d20652e7d2694260a17811727d3b24ab"
       ],
       "layout": "IPY_MODEL_a8157c9961154f808791f8b48afd43c2"
      }
     },
     "b8bc0541007341f1b196666b09528ed8": {
      "model_module": "jupyter-js-widgets",
      "model_module_version": "~2.1.4",
      "model_name": "HBoxModel",
      "state": {
       "_model_module_version": "~2.1.4",
       "_view_module_version": "~2.1.4",
       "children": [
        "IPY_MODEL_0eba65775eaa4d2e96df96a77314091d",
        "IPY_MODEL_3b29280d270443b7a61752ba410aee69"
       ],
       "layout": "IPY_MODEL_b4e21d965b4a455c8ad675c0cb7cc0e7"
      }
     },
     "b8d5822079e24170bcf8877553b22fb1": {
      "model_module": "jupyter-js-widgets",
      "model_module_version": "~2.1.4",
      "model_name": "HBoxModel",
      "state": {
       "_model_module_version": "~2.1.4",
       "_view_module_version": "~2.1.4",
       "children": [
        "IPY_MODEL_d5eafa02c9b54ff9894e82c61c094382",
        "IPY_MODEL_cadec291e8254c0183bc391068bc1d28"
       ],
       "layout": "IPY_MODEL_525d7cdea82d4e04aeef508b12d8ce4f"
      }
     },
     "b9060efce7f74db4863a619894c852fe": {
      "model_module": "jupyter-js-widgets",
      "model_module_version": "~2.1.4",
      "model_name": "ProgressModel",
      "state": {
       "_model_module_version": "~2.1.4",
       "_view_module_version": "~2.1.4",
       "bar_style": "success",
       "description": "100.00%",
       "layout": "IPY_MODEL_a955ae3edd8b4883b432829e76c5c436",
       "max": 6250,
       "style": "IPY_MODEL_11d74b1845f84a43aae9ae2c8c9be485",
       "value": 6250
      }
     },
     "b94db27574824a37bf152f80aba6e94e": {
      "model_module": "jupyter-js-widgets",
      "model_module_version": "~2.1.4",
      "model_name": "ProgressStyleModel",
      "state": {
       "_model_module_version": "~2.1.4",
       "_view_module_version": "~2.1.4"
      }
     },
     "b99a31592d964f7bafc41d68cbc6f3c4": {
      "model_module": "jupyter-js-widgets",
      "model_module_version": "~2.1.4",
      "model_name": "LabelModel",
      "state": {
       "_model_module_version": "~2.1.4",
       "_view_module_version": "~2.1.4",
       "layout": "IPY_MODEL_1a5408ddcc12464c8806f20d99d78af1",
       "value": "6250 / 6250"
      }
     },
     "bbf44822d5ee41f084710304bb818edd": {
      "model_module": "jupyter-js-widgets",
      "model_module_version": "~2.1.4",
      "model_name": "ProgressModel",
      "state": {
       "_model_module_version": "~2.1.4",
       "_view_module_version": "~2.1.4",
       "bar_style": "success",
       "description": "100.00%",
       "layout": "IPY_MODEL_5c238e32ab05471da83cd0092ec36095",
       "max": 6250,
       "style": "IPY_MODEL_cf4e4a15c3874c51b871a5027f7faa36",
       "value": 6250
      }
     },
     "bc1c6fee2f6143fcb881369f66177bbd": {
      "model_module": "jupyter-js-widgets",
      "model_module_version": "~2.1.4",
      "model_name": "LabelModel",
      "state": {
       "_model_module_version": "~2.1.4",
       "_view_module_version": "~2.1.4",
       "layout": "IPY_MODEL_2075bf7f9e66473f8c23e20dd8c4a802",
       "value": "6250 / 6250"
      }
     },
     "bc6d283270104e3a8f57dcbad208e26a": {
      "model_module": "jupyter-js-widgets",
      "model_module_version": "~2.1.4",
      "model_name": "LabelModel",
      "state": {
       "_model_module_version": "~2.1.4",
       "_view_module_version": "~2.1.4",
       "layout": "IPY_MODEL_3f7e842b518e47d8bcdd8a2bfc71f44d",
       "value": "6250 / 6250"
      }
     },
     "bf7557f1bf1e42c59d0405f380a9d2cf": {
      "model_module": "jupyter-js-widgets",
      "model_module_version": "~2.1.4",
      "model_name": "LayoutModel",
      "state": {
       "_model_module_version": "~2.1.4",
       "_view_module_version": "~2.1.4"
      }
     },
     "c153877e2967428fb099303710d39e20": {
      "model_module": "jupyter-js-widgets",
      "model_module_version": "~2.1.4",
      "model_name": "LayoutModel",
      "state": {
       "_model_module_version": "~2.1.4",
       "_view_module_version": "~2.1.4"
      }
     },
     "c3bd2a7701d74594ab373944e21af3fc": {
      "model_module": "jupyter-js-widgets",
      "model_module_version": "~2.1.4",
      "model_name": "LabelModel",
      "state": {
       "_model_module_version": "~2.1.4",
       "_view_module_version": "~2.1.4",
       "layout": "IPY_MODEL_0b6d84f78c71421eb90977db1308dd2c",
       "value": "6250 / 6250"
      }
     },
     "c431522cdf7d4d639ddf8ee823aa9b9e": {
      "model_module": "jupyter-js-widgets",
      "model_module_version": "~2.1.4",
      "model_name": "HBoxModel",
      "state": {
       "_model_module_version": "~2.1.4",
       "_view_module_version": "~2.1.4",
       "children": [
        "IPY_MODEL_bbf44822d5ee41f084710304bb818edd",
        "IPY_MODEL_862ca87a770741b8a5e09c17e2f4f059"
       ],
       "layout": "IPY_MODEL_d9030bc776e74e4f80d861b774b9e41d"
      }
     },
     "c43bec418bee4dc9ab946dccee51608e": {
      "model_module": "jupyter-js-widgets",
      "model_module_version": "~2.1.4",
      "model_name": "LayoutModel",
      "state": {
       "_model_module_version": "~2.1.4",
       "_view_module_version": "~2.1.4"
      }
     },
     "c6208146b8974702870c8e7dee3c8c95": {
      "model_module": "jupyter-js-widgets",
      "model_module_version": "~2.1.4",
      "model_name": "LayoutModel",
      "state": {
       "_model_module_version": "~2.1.4",
       "_view_module_version": "~2.1.4"
      }
     },
     "c7c39906bebb4641a5cef99722d247e2": {
      "model_module": "jupyter-js-widgets",
      "model_module_version": "~2.1.4",
      "model_name": "ProgressStyleModel",
      "state": {
       "_model_module_version": "~2.1.4",
       "_view_module_version": "~2.1.4"
      }
     },
     "cadec291e8254c0183bc391068bc1d28": {
      "model_module": "jupyter-js-widgets",
      "model_module_version": "~2.1.4",
      "model_name": "LabelModel",
      "state": {
       "_model_module_version": "~2.1.4",
       "_view_module_version": "~2.1.4",
       "layout": "IPY_MODEL_2e11b860909043fc9dc1af187cade14b",
       "value": "6250 / 6250"
      }
     },
     "cb0f60d292f14c4c95c0e445b933492a": {
      "model_module": "jupyter-js-widgets",
      "model_module_version": "~2.1.4",
      "model_name": "LayoutModel",
      "state": {
       "_model_module_version": "~2.1.4",
       "_view_module_version": "~2.1.4"
      }
     },
     "ce38360f6f064c65a52da04db2ad33c8": {
      "model_module": "jupyter-js-widgets",
      "model_module_version": "~2.1.4",
      "model_name": "HBoxModel",
      "state": {
       "_model_module_version": "~2.1.4",
       "_view_module_version": "~2.1.4",
       "children": [
        "IPY_MODEL_eacf6570cd1b412c8ac43a5ed6fee63d",
        "IPY_MODEL_6c7c985fef994ea6a20dd3b1b482aa40"
       ],
       "layout": "IPY_MODEL_274c7ee834e141dbbf7b58bdd69fe6e2"
      }
     },
     "cf4e4a15c3874c51b871a5027f7faa36": {
      "model_module": "jupyter-js-widgets",
      "model_module_version": "~2.1.4",
      "model_name": "ProgressStyleModel",
      "state": {
       "_model_module_version": "~2.1.4",
       "_view_module_version": "~2.1.4"
      }
     },
     "d20652e7d2694260a17811727d3b24ab": {
      "model_module": "jupyter-js-widgets",
      "model_module_version": "~2.1.4",
      "model_name": "LabelModel",
      "state": {
       "_model_module_version": "~2.1.4",
       "_view_module_version": "~2.1.4",
       "layout": "IPY_MODEL_0a22c79437334b9eb5c2ddfc09f78304",
       "value": "6250 / 6250"
      }
     },
     "d28b7fd796f045a38969b7c2100b6184": {
      "model_module": "jupyter-js-widgets",
      "model_module_version": "~2.1.4",
      "model_name": "LayoutModel",
      "state": {
       "_model_module_version": "~2.1.4",
       "_view_module_version": "~2.1.4"
      }
     },
     "d3a668ad1cc9484e9bb4427fd9c78ca9": {
      "model_module": "jupyter-js-widgets",
      "model_module_version": "~2.1.4",
      "model_name": "ProgressStyleModel",
      "state": {
       "_model_module_version": "~2.1.4",
       "_view_module_version": "~2.1.4"
      }
     },
     "d3e84870deb74eb3b6c8ef1b235f92b0": {
      "model_module": "jupyter-js-widgets",
      "model_module_version": "~2.1.4",
      "model_name": "ProgressStyleModel",
      "state": {
       "_model_module_version": "~2.1.4",
       "_view_module_version": "~2.1.4"
      }
     },
     "d56ce66abfdf4035ad37bd6945e5b8ec": {
      "model_module": "jupyter-js-widgets",
      "model_module_version": "~2.1.4",
      "model_name": "LabelModel",
      "state": {
       "_model_module_version": "~2.1.4",
       "_view_module_version": "~2.1.4",
       "layout": "IPY_MODEL_c153877e2967428fb099303710d39e20",
       "value": "6250 / 6250"
      }
     },
     "d5eafa02c9b54ff9894e82c61c094382": {
      "model_module": "jupyter-js-widgets",
      "model_module_version": "~2.1.4",
      "model_name": "ProgressModel",
      "state": {
       "_model_module_version": "~2.1.4",
       "_view_module_version": "~2.1.4",
       "bar_style": "success",
       "description": "100.00%",
       "layout": "IPY_MODEL_268d5cc27cc5455e820c92def59874b7",
       "max": 6250,
       "style": "IPY_MODEL_93e8906276724bc7a4bdb1351c81209e",
       "value": 6250
      }
     },
     "d736839efb8146c99d17ff6324b052a8": {
      "model_module": "jupyter-js-widgets",
      "model_module_version": "~2.1.4",
      "model_name": "ProgressModel",
      "state": {
       "_model_module_version": "~2.1.4",
       "_view_module_version": "~2.1.4",
       "bar_style": "success",
       "description": "100.00%",
       "layout": "IPY_MODEL_b5d329b6728d452f9b33b49678c26a8e",
       "max": 6250,
       "style": "IPY_MODEL_953ccaffccba45e89c88bcdf89b8dafd",
       "value": 6250
      }
     },
     "d9030bc776e74e4f80d861b774b9e41d": {
      "model_module": "jupyter-js-widgets",
      "model_module_version": "~2.1.4",
      "model_name": "LayoutModel",
      "state": {
       "_model_module_version": "~2.1.4",
       "_view_module_version": "~2.1.4"
      }
     },
     "d9f946d793a24721896b4fb43f65bc8c": {
      "model_module": "jupyter-js-widgets",
      "model_module_version": "~2.1.4",
      "model_name": "LayoutModel",
      "state": {
       "_model_module_version": "~2.1.4",
       "_view_module_version": "~2.1.4"
      }
     },
     "dabb4a28c6a548789ff7ae9aca3e4246": {
      "model_module": "jupyter-js-widgets",
      "model_module_version": "~2.1.4",
      "model_name": "ProgressStyleModel",
      "state": {
       "_model_module_version": "~2.1.4",
       "_view_module_version": "~2.1.4"
      }
     },
     "dcc0bbc32e574e89ab1cfa0aa6cf7015": {
      "model_module": "jupyter-js-widgets",
      "model_module_version": "~2.1.4",
      "model_name": "ProgressModel",
      "state": {
       "_model_module_version": "~2.1.4",
       "_view_module_version": "~2.1.4",
       "bar_style": "success",
       "description": "100.00%",
       "layout": "IPY_MODEL_6e9dbbe6ccd841158f084e188bf49015",
       "max": 6250,
       "style": "IPY_MODEL_59d248e16d1a45ac9efa367b0497d58e",
       "value": 6250
      }
     },
     "dd5de5ac8862494e82f82b0950997aa4": {
      "model_module": "jupyter-js-widgets",
      "model_module_version": "~2.1.4",
      "model_name": "ProgressStyleModel",
      "state": {
       "_model_module_version": "~2.1.4",
       "_view_module_version": "~2.1.4"
      }
     },
     "de790a9cd7174e3385e4c105904ab12c": {
      "model_module": "jupyter-js-widgets",
      "model_module_version": "~2.1.4",
      "model_name": "HBoxModel",
      "state": {
       "_model_module_version": "~2.1.4",
       "_view_module_version": "~2.1.4",
       "children": [
        "IPY_MODEL_2427dde2097c40cfa11c66bc669a37cc",
        "IPY_MODEL_bc1c6fee2f6143fcb881369f66177bbd"
       ],
       "layout": "IPY_MODEL_b2bc364a909d4f4b97489e911d729ea1"
      }
     },
     "e0e64dd097304decbfd04ff97419bc34": {
      "model_module": "jupyter-js-widgets",
      "model_module_version": "~2.1.4",
      "model_name": "ProgressStyleModel",
      "state": {
       "_model_module_version": "~2.1.4",
       "_view_module_version": "~2.1.4"
      }
     },
     "e19f0ad63d724c1cb09c7b495d51daef": {
      "model_module": "jupyter-js-widgets",
      "model_module_version": "~2.1.4",
      "model_name": "LayoutModel",
      "state": {
       "_model_module_version": "~2.1.4",
       "_view_module_version": "~2.1.4"
      }
     },
     "e1a5e1d85f3d411ebe89fa1bad92a2ea": {
      "model_module": "jupyter-js-widgets",
      "model_module_version": "~2.1.4",
      "model_name": "LayoutModel",
      "state": {
       "_model_module_version": "~2.1.4",
       "_view_module_version": "~2.1.4"
      }
     },
     "e23f9cfbe8ec452bb306dbf75bc03307": {
      "model_module": "jupyter-js-widgets",
      "model_module_version": "~2.1.4",
      "model_name": "LayoutModel",
      "state": {
       "_model_module_version": "~2.1.4",
       "_view_module_version": "~2.1.4"
      }
     },
     "e252c23cc1d34c69830ac0f3ddfc1275": {
      "model_module": "jupyter-js-widgets",
      "model_module_version": "~2.1.4",
      "model_name": "HBoxModel",
      "state": {
       "_model_module_version": "~2.1.4",
       "_view_module_version": "~2.1.4",
       "children": [
        "IPY_MODEL_0cfa8cd193d3496bb60f3a7b6c5387ab",
        "IPY_MODEL_c3bd2a7701d74594ab373944e21af3fc"
       ],
       "layout": "IPY_MODEL_c6208146b8974702870c8e7dee3c8c95"
      }
     },
     "e2ae1c4bbb734a6aa7e6c544b6fc1c62": {
      "model_module": "jupyter-js-widgets",
      "model_module_version": "~2.1.4",
      "model_name": "LayoutModel",
      "state": {
       "_model_module_version": "~2.1.4",
       "_view_module_version": "~2.1.4"
      }
     },
     "e41484cf51464cfcb4f943d546d84f00": {
      "model_module": "jupyter-js-widgets",
      "model_module_version": "~2.1.4",
      "model_name": "HBoxModel",
      "state": {
       "_model_module_version": "~2.1.4",
       "_view_module_version": "~2.1.4",
       "children": [
        "IPY_MODEL_ea29456b8ff5432c9d27b34de9937338",
        "IPY_MODEL_2f4abb13115f44ecb67770ad7dfda7ed"
       ],
       "layout": "IPY_MODEL_940d89a3c4e549659d5379181bed819d"
      }
     },
     "e4366c6ddb1e4aebb74c5d16647b5ff0": {
      "model_module": "jupyter-js-widgets",
      "model_module_version": "~2.1.4",
      "model_name": "LayoutModel",
      "state": {
       "_model_module_version": "~2.1.4",
       "_view_module_version": "~2.1.4"
      }
     },
     "e883736d5e94497089fded53fdd58563": {
      "model_module": "jupyter-js-widgets",
      "model_module_version": "~2.1.4",
      "model_name": "LayoutModel",
      "state": {
       "_model_module_version": "~2.1.4",
       "_view_module_version": "~2.1.4"
      }
     },
     "ea29456b8ff5432c9d27b34de9937338": {
      "model_module": "jupyter-js-widgets",
      "model_module_version": "~2.1.4",
      "model_name": "ProgressModel",
      "state": {
       "_model_module_version": "~2.1.4",
       "_view_module_version": "~2.1.4",
       "bar_style": "success",
       "description": "100.00%",
       "layout": "IPY_MODEL_7e88c8c55943445d85a2481f6a658ecc",
       "max": 6250,
       "style": "IPY_MODEL_77b6430527c041ddb39b2a79314c67b1",
       "value": 6250
      }
     },
     "eacf6570cd1b412c8ac43a5ed6fee63d": {
      "model_module": "jupyter-js-widgets",
      "model_module_version": "~2.1.4",
      "model_name": "ProgressModel",
      "state": {
       "_model_module_version": "~2.1.4",
       "_view_module_version": "~2.1.4",
       "bar_style": "success",
       "description": "100.00%",
       "layout": "IPY_MODEL_1da04d6e29164d3b9a2f98fa44b307f3",
       "max": 6250,
       "style": "IPY_MODEL_2a2414bdc6dd4b35b2797303171a236c",
       "value": 6250
      }
     },
     "ec29b896bdb64291b3a3a266c2378b36": {
      "model_module": "jupyter-js-widgets",
      "model_module_version": "~2.1.4",
      "model_name": "LayoutModel",
      "state": {
       "_model_module_version": "~2.1.4",
       "_view_module_version": "~2.1.4"
      }
     },
     "ed086589e2104b949384f0981cb0ebbe": {
      "model_module": "jupyter-js-widgets",
      "model_module_version": "~2.1.4",
      "model_name": "HBoxModel",
      "state": {
       "_model_module_version": "~2.1.4",
       "_view_module_version": "~2.1.4",
       "children": [
        "IPY_MODEL_36266051c58945ecbfbce6d7e1d765a0",
        "IPY_MODEL_8f22b5b6a1a94280810593f7656d87bd"
       ],
       "layout": "IPY_MODEL_5cd05136918d4edba8dcce338ab09cb3"
      }
     },
     "eeecc80cfa114f30a8b1a0c6d8df28f9": {
      "model_module": "jupyter-js-widgets",
      "model_module_version": "~2.1.4",
      "model_name": "LayoutModel",
      "state": {
       "_model_module_version": "~2.1.4",
       "_view_module_version": "~2.1.4"
      }
     },
     "f326f90ed32c4272b309816578204515": {
      "model_module": "jupyter-js-widgets",
      "model_module_version": "~2.1.4",
      "model_name": "ProgressStyleModel",
      "state": {
       "_model_module_version": "~2.1.4",
       "_view_module_version": "~2.1.4"
      }
     },
     "f5fddbcaa2b544b2b50cded4da15ec09": {
      "model_module": "jupyter-js-widgets",
      "model_module_version": "~2.1.4",
      "model_name": "ProgressModel",
      "state": {
       "_model_module_version": "~2.1.4",
       "_view_module_version": "~2.1.4",
       "bar_style": "success",
       "description": "100.00%",
       "layout": "IPY_MODEL_c43bec418bee4dc9ab946dccee51608e",
       "max": 6250,
       "style": "IPY_MODEL_dabb4a28c6a548789ff7ae9aca3e4246",
       "value": 6250
      }
     },
     "f7e21433c2344523849d3e14633ce17b": {
      "model_module": "jupyter-js-widgets",
      "model_module_version": "~2.1.4",
      "model_name": "ProgressStyleModel",
      "state": {
       "_model_module_version": "~2.1.4",
       "_view_module_version": "~2.1.4"
      }
     },
     "fc9d3b08b8aa4ab795db88d3be4a3a56": {
      "model_module": "jupyter-js-widgets",
      "model_module_version": "~2.1.4",
      "model_name": "LayoutModel",
      "state": {
       "_model_module_version": "~2.1.4",
       "_view_module_version": "~2.1.4"
      }
     },
     "fcb9efaed25943a1a128fbace8e38f94": {
      "model_module": "jupyter-js-widgets",
      "model_module_version": "~2.1.4",
      "model_name": "HBoxModel",
      "state": {
       "_model_module_version": "~2.1.4",
       "_view_module_version": "~2.1.4",
       "children": [
        "IPY_MODEL_12f00b300c0e4e17a4e6382d9cff5e3e",
        "IPY_MODEL_ff2ec10f0a23473f8af4e78fd928e97c"
       ],
       "layout": "IPY_MODEL_4af5b2d69b53415f8c8716307f60cf48"
      }
     },
     "fdbfdade02574ed4b580e1921004d753": {
      "model_module": "jupyter-js-widgets",
      "model_module_version": "~2.1.4",
      "model_name": "ProgressStyleModel",
      "state": {
       "_model_module_version": "~2.1.4",
       "_view_module_version": "~2.1.4"
      }
     },
     "ff2ec10f0a23473f8af4e78fd928e97c": {
      "model_module": "jupyter-js-widgets",
      "model_module_version": "~2.1.4",
      "model_name": "LabelModel",
      "state": {
       "_model_module_version": "~2.1.4",
       "_view_module_version": "~2.1.4",
       "layout": "IPY_MODEL_430fd9862f5c413d86f2840acd9645df",
       "value": "6250 / 6250"
      }
     },
     "ffe7bdffcf844396aad21b53c2d30e44": {
      "model_module": "jupyter-js-widgets",
      "model_module_version": "~2.1.4",
      "model_name": "LayoutModel",
      "state": {
       "_model_module_version": "~2.1.4",
       "_view_module_version": "~2.1.4"
      }
     }
    },
    "version_major": 1,
    "version_minor": 0
   }
  }
 },
 "nbformat": 4,
 "nbformat_minor": 4
}
