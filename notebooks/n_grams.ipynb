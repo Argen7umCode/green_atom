{
 "cells": [
  {
   "cell_type": "code",
   "execution_count": 1,
   "metadata": {},
   "outputs": [
    {
     "name": "stderr",
     "output_type": "stream",
     "text": [
      "2023-08-12 23:28:43.995742: I tensorflow/tsl/cuda/cudart_stub.cc:28] Could not find cuda drivers on your machine, GPU will not be used.\n",
      "2023-08-12 23:28:44.066222: I tensorflow/tsl/cuda/cudart_stub.cc:28] Could not find cuda drivers on your machine, GPU will not be used.\n",
      "2023-08-12 23:28:45.439625: W tensorflow/compiler/tf2tensorrt/utils/py_utils.cc:38] TF-TRT Warning: Could not find TensorRT\n"
     ]
    }
   ],
   "source": [
    "import nltk\n",
    "from nltk.tokenize import word_tokenize, sent_tokenize\n",
    "from nltk.util import ngrams\n",
    "from nltk.corpus import stopwords\n",
    "from nltk.stem.wordnet import WordNetLemmatizer\n",
    "from tensorflow.keras.utils import pad_sequences\n",
    "from collections import Counter\n",
    "from pandarallel import pandarallel\n",
    "import pandas as pd\n",
    "import numpy as np"
   ]
  },
  {
   "cell_type": "code",
   "execution_count": 9,
   "metadata": {},
   "outputs": [],
   "source": [
    "seq = \"sunshine birds sing sky blue flowers bloom gently over green fields\".split()"
   ]
  },
  {
   "cell_type": "code",
   "execution_count": 60,
   "metadata": {},
   "outputs": [
    {
     "data": {
      "text/plain": [
       "{('birds',),\n",
       " ('bloom',),\n",
       " ('blue',),\n",
       " ('fields',),\n",
       " ('flowers',),\n",
       " ('gently',),\n",
       " ('green',),\n",
       " ('over',),\n",
       " ('sing',),\n",
       " ('sky',),\n",
       " ('sunshine',)}"
      ]
     },
     "execution_count": 60,
     "metadata": {},
     "output_type": "execute_result"
    }
   ],
   "source": [
    "vocabulary = set((word, ) for word in seq)\n",
    "vocabulary"
   ]
  },
  {
   "cell_type": "code",
   "execution_count": 61,
   "metadata": {},
   "outputs": [],
   "source": [
    "n_grams = set(list(ngrams(seq, 2)) + list(ngrams(seq, 3)))"
   ]
  },
  {
   "cell_type": "code",
   "execution_count": 63,
   "metadata": {},
   "outputs": [
    {
     "data": {
      "text/plain": [
       "[('birds', 'sing', 'sky'),\n",
       " ('flowers', 'bloom', 'gently'),\n",
       " ('sky', 'blue', 'flowers'),\n",
       " ('bloom', 'gently', 'over'),\n",
       " ('gently', 'over', 'green'),\n",
       " ('sunshine', 'birds', 'sing'),\n",
       " ('over', 'green', 'fields'),\n",
       " ('blue', 'flowers', 'bloom'),\n",
       " ('sing', 'sky', 'blue'),\n",
       " ('sing', 'sky'),\n",
       " ('birds', 'sing'),\n",
       " ('flowers', 'bloom'),\n",
       " ('green', 'fields'),\n",
       " ('gently', 'over'),\n",
       " ('over', 'green'),\n",
       " ('sunshine', 'birds'),\n",
       " ('blue', 'flowers'),\n",
       " ('bloom', 'gently'),\n",
       " ('sky', 'blue'),\n",
       " ('sing',),\n",
       " ('flowers',),\n",
       " ('fields',),\n",
       " ('sky',),\n",
       " ('gently',),\n",
       " ('birds',),\n",
       " ('sunshine',),\n",
       " ('bloom',),\n",
       " ('over',),\n",
       " ('green',),\n",
       " ('blue',)]"
      ]
     },
     "execution_count": 63,
     "metadata": {},
     "output_type": "execute_result"
    }
   ],
   "source": [
    "tokens = sorted(list(vocabulary.union(n_grams)), key=len, reverse=True)\n",
    "tokens"
   ]
  },
  {
   "cell_type": "code",
   "execution_count": 67,
   "metadata": {},
   "outputs": [
    {
     "data": {
      "text/plain": [
       "{('birds', 'sing', 'sky'): 0,\n",
       " ('flowers', 'bloom', 'gently'): 1,\n",
       " ('sky', 'blue', 'flowers'): 2,\n",
       " ('bloom', 'gently', 'over'): 3,\n",
       " ('gently', 'over', 'green'): 4,\n",
       " ('sunshine', 'birds', 'sing'): 5,\n",
       " ('over', 'green', 'fields'): 6,\n",
       " ('blue', 'flowers', 'bloom'): 7,\n",
       " ('sing', 'sky', 'blue'): 8,\n",
       " ('sing', 'sky'): 9,\n",
       " ('birds', 'sing'): 10,\n",
       " ('flowers', 'bloom'): 11,\n",
       " ('green', 'fields'): 12,\n",
       " ('gently', 'over'): 13,\n",
       " ('over', 'green'): 14,\n",
       " ('sunshine', 'birds'): 15,\n",
       " ('blue', 'flowers'): 16,\n",
       " ('bloom', 'gently'): 17,\n",
       " ('sky', 'blue'): 18,\n",
       " ('sing',): 19,\n",
       " ('flowers',): 20,\n",
       " ('fields',): 21,\n",
       " ('sky',): 22,\n",
       " ('gently',): 23,\n",
       " ('birds',): 24,\n",
       " ('sunshine',): 25,\n",
       " ('bloom',): 26,\n",
       " ('over',): 27,\n",
       " ('green',): 28,\n",
       " ('blue',): 29}"
      ]
     },
     "execution_count": 67,
     "metadata": {},
     "output_type": "execute_result"
    }
   ],
   "source": [
    "token_dict = {\n",
    "    token : i for i, token in enumerate(tokens)\n",
    "}\n",
    "token_dict"
   ]
  },
  {
   "cell_type": "code",
   "execution_count": 65,
   "metadata": {},
   "outputs": [
    {
     "data": {
      "text/plain": [
       "[3, 2, 1]"
      ]
     },
     "execution_count": 65,
     "metadata": {},
     "output_type": "execute_result"
    }
   ],
   "source": [
    "lengths_of_tokens = sorted(set(len(token) for token in tokens), reverse=True)\n",
    "for n_gram_length in lengths_of_tokens: \n",
    "    for win in \n",
    "    "
   ]
  },
  {
   "cell_type": "code",
   "execution_count": null,
   "metadata": {},
   "outputs": [],
   "source": []
  }
 ],
 "metadata": {
  "kernelspec": {
   "display_name": "venv",
   "language": "python",
   "name": "python3"
  },
  "language_info": {
   "codemirror_mode": {
    "name": "ipython",
    "version": 3
   },
   "file_extension": ".py",
   "mimetype": "text/x-python",
   "name": "python",
   "nbconvert_exporter": "python",
   "pygments_lexer": "ipython3",
   "version": "3.10.6"
  },
  "orig_nbformat": 4
 },
 "nbformat": 4,
 "nbformat_minor": 2
}
