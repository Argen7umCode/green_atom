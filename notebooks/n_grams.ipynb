{
 "cells": [
  {
   "cell_type": "code",
   "execution_count": 1,
   "metadata": {},
   "outputs": [
    {
     "name": "stderr",
     "output_type": "stream",
     "text": [
      "2023-08-13 14:52:33.611759: I tensorflow/tsl/cuda/cudart_stub.cc:28] Could not find cuda drivers on your machine, GPU will not be used.\n",
      "2023-08-13 14:52:34.174163: I tensorflow/tsl/cuda/cudart_stub.cc:28] Could not find cuda drivers on your machine, GPU will not be used.\n",
      "2023-08-13 14:52:35.883423: W tensorflow/compiler/tf2tensorrt/utils/py_utils.cc:38] TF-TRT Warning: Could not find TensorRT\n"
     ]
    },
    {
     "name": "stdout",
     "output_type": "stream",
     "text": [
      "INFO: Pandarallel will run on 8 workers.\n",
      "INFO: Pandarallel will use Memory file system to transfer data between the main process and workers.\n"
     ]
    }
   ],
   "source": [
    "import nltk\n",
    "from nltk.tokenize import word_tokenize, sent_tokenize\n",
    "from nltk.util import ngrams\n",
    "from nltk.corpus import stopwords\n",
    "from nltk.stem.wordnet import WordNetLemmatizer\n",
    "from nltk.util import everygrams\n",
    "from nltk.lm.preprocessing import padded_everygram_pipeline\n",
    "from collections import Counter\n",
    "\n",
    "from tensorflow.keras.utils import pad_sequences\n",
    "from collections import Counter\n",
    "from pandarallel import pandarallel\n",
    "pandarallel.initialize(progress_bar=False, nb_workers = 8)\n",
    "import pandas as pd\n",
    "import numpy as np\n",
    "from matplotlib import pyplot as plt"
   ]
  },
  {
   "cell_type": "code",
   "execution_count": 2,
   "metadata": {},
   "outputs": [],
   "source": [
    "df = pd.read_csv('../data/processed_data.csv')"
   ]
  },
  {
   "cell_type": "code",
   "execution_count": 4,
   "metadata": {},
   "outputs": [
    {
     "data": {
      "text/html": [
       "<div>\n",
       "<style scoped>\n",
       "    .dataframe tbody tr th:only-of-type {\n",
       "        vertical-align: middle;\n",
       "    }\n",
       "\n",
       "    .dataframe tbody tr th {\n",
       "        vertical-align: top;\n",
       "    }\n",
       "\n",
       "    .dataframe thead th {\n",
       "        text-align: right;\n",
       "    }\n",
       "</style>\n",
       "<table border=\"1\" class=\"dataframe\">\n",
       "  <thead>\n",
       "    <tr style=\"text-align: right;\">\n",
       "      <th></th>\n",
       "      <th>preprocessed text</th>\n",
       "    </tr>\n",
       "  </thead>\n",
       "  <tbody>\n",
       "    <tr>\n",
       "      <th>0</th>\n",
       "      <td>&lt;bos&gt; lowbudget film writer goes work london c...</td>\n",
       "    </tr>\n",
       "    <tr>\n",
       "      <th>1</th>\n",
       "      <td>&lt;bos&gt; loved movie scenery breathtaking plot ni...</td>\n",
       "    </tr>\n",
       "    <tr>\n",
       "      <th>2</th>\n",
       "      <td>&lt;bos&gt; march new york times article described c...</td>\n",
       "    </tr>\n",
       "    <tr>\n",
       "      <th>3</th>\n",
       "      <td>&lt;bos&gt; watched pretty damn awesome fights fanta...</td>\n",
       "    </tr>\n",
       "    <tr>\n",
       "      <th>4</th>\n",
       "      <td>&lt;bos&gt; cell fascinated first glance bit surpris...</td>\n",
       "    </tr>\n",
       "  </tbody>\n",
       "</table>\n",
       "</div>"
      ],
      "text/plain": [
       "                                   preprocessed text\n",
       "0  <bos> lowbudget film writer goes work london c...\n",
       "1  <bos> loved movie scenery breathtaking plot ni...\n",
       "2  <bos> march new york times article described c...\n",
       "3  <bos> watched pretty damn awesome fights fanta...\n",
       "4  <bos> cell fascinated first glance bit surpris..."
      ]
     },
     "execution_count": 4,
     "metadata": {},
     "output_type": "execute_result"
    }
   ],
   "source": [
    "sample_df = df.sample(frac=1).iloc[:].reset_index()\n",
    "sample_df.drop(sample_df.columns[:-1], axis=1, inplace=True)\n",
    "sample_df.head()"
   ]
  },
  {
   "cell_type": "code",
   "execution_count": 5,
   "metadata": {},
   "outputs": [],
   "source": [
    "n_grms = sample_df['preprocessed text'].parallel_apply(lambda a: list(everygrams(a.split(),  max_len=3)))"
   ]
  },
  {
   "cell_type": "code",
   "execution_count": 6,
   "metadata": {},
   "outputs": [],
   "source": [
    "ngrams = []\n",
    "for seq in n_grms.to_list():\n",
    "    ngrams += seq\n"
   ]
  },
  {
   "cell_type": "code",
   "execution_count": 7,
   "metadata": {},
   "outputs": [],
   "source": [
    "counter = Counter(ngrams)"
   ]
  },
  {
   "cell_type": "code",
   "execution_count": 38,
   "metadata": {},
   "outputs": [],
   "source": [
    "non_unigrams = list(filter(lambda a: len(a)>1, counter))\n",
    "non_unigrams_counter = {n_gram : counter[n_gram] for n_gram in non_unigrams}\n",
    "                                    \n",
    "non_unigrams_counter = pd.DataFrame(non_unigrams_counter.items(), \\\n",
    "                                    index=[' '.join(text) for text in non_unigrams_counter.keys()], columns=['ngram', 'count'])\\\n",
    "                                    .sort_values(by=['count'], ascending=False)\n",
    "non_unigrams_counter.reset_index(inplace=True)\n",
    "non_unigrams_counter.drop(columns=['index'], inplace=True)\n",
    "non_unigrams_counter['ngram_len'] = non_unigrams_counter['ngram'].apply(len)\n",
    "non_unigrams_counter['ngram'] = non_unigrams_counter['ngram'].parallel_apply(lambda a: ' '.join(a))"
   ]
  },
  {
   "cell_type": "code",
   "execution_count": 39,
   "metadata": {},
   "outputs": [
    {
     "data": {
      "text/html": [
       "<div>\n",
       "<style scoped>\n",
       "    .dataframe tbody tr th:only-of-type {\n",
       "        vertical-align: middle;\n",
       "    }\n",
       "\n",
       "    .dataframe tbody tr th {\n",
       "        vertical-align: top;\n",
       "    }\n",
       "\n",
       "    .dataframe thead th {\n",
       "        text-align: right;\n",
       "    }\n",
       "</style>\n",
       "<table border=\"1\" class=\"dataframe\">\n",
       "  <thead>\n",
       "    <tr style=\"text-align: right;\">\n",
       "      <th></th>\n",
       "      <th>ngram</th>\n",
       "      <th>count</th>\n",
       "      <th>ngram_len</th>\n",
       "    </tr>\n",
       "  </thead>\n",
       "  <tbody>\n",
       "    <tr>\n",
       "      <th>0</th>\n",
       "      <td>br br</td>\n",
       "      <td>101263</td>\n",
       "      <td>2</td>\n",
       "    </tr>\n",
       "    <tr>\n",
       "      <th>1</th>\n",
       "      <td>ever seen</td>\n",
       "      <td>2669</td>\n",
       "      <td>2</td>\n",
       "    </tr>\n",
       "    <tr>\n",
       "      <th>2</th>\n",
       "      <td>br film</td>\n",
       "      <td>2655</td>\n",
       "      <td>2</td>\n",
       "    </tr>\n",
       "    <tr>\n",
       "      <th>3</th>\n",
       "      <td>br br film</td>\n",
       "      <td>2655</td>\n",
       "      <td>3</td>\n",
       "    </tr>\n",
       "    <tr>\n",
       "      <th>4</th>\n",
       "      <td>br br movie</td>\n",
       "      <td>2511</td>\n",
       "      <td>3</td>\n",
       "    </tr>\n",
       "    <tr>\n",
       "      <th>...</th>\n",
       "      <td>...</td>\n",
       "      <td>...</td>\n",
       "      <td>...</td>\n",
       "    </tr>\n",
       "    <tr>\n",
       "      <th>7860175</th>\n",
       "      <td>matrix no idea</td>\n",
       "      <td>1</td>\n",
       "      <td>3</td>\n",
       "    </tr>\n",
       "    <tr>\n",
       "      <th>7860176</th>\n",
       "      <td>memento matrix no</td>\n",
       "      <td>1</td>\n",
       "      <td>3</td>\n",
       "    </tr>\n",
       "    <tr>\n",
       "      <th>7860177</th>\n",
       "      <td>memento matrix</td>\n",
       "      <td>1</td>\n",
       "      <td>2</td>\n",
       "    </tr>\n",
       "    <tr>\n",
       "      <th>7860178</th>\n",
       "      <td>seen memento matrix</td>\n",
       "      <td>1</td>\n",
       "      <td>3</td>\n",
       "    </tr>\n",
       "    <tr>\n",
       "      <th>7860179</th>\n",
       "      <td>god sake watch</td>\n",
       "      <td>1</td>\n",
       "      <td>3</td>\n",
       "    </tr>\n",
       "  </tbody>\n",
       "</table>\n",
       "<p>7860180 rows × 3 columns</p>\n",
       "</div>"
      ],
      "text/plain": [
       "                       ngram   count  ngram_len\n",
       "0                      br br  101263          2\n",
       "1                  ever seen    2669          2\n",
       "2                    br film    2655          2\n",
       "3                 br br film    2655          3\n",
       "4                br br movie    2511          3\n",
       "...                      ...     ...        ...\n",
       "7860175       matrix no idea       1          3\n",
       "7860176    memento matrix no       1          3\n",
       "7860177       memento matrix       1          2\n",
       "7860178  seen memento matrix       1          3\n",
       "7860179       god sake watch       1          3\n",
       "\n",
       "[7860180 rows x 3 columns]"
      ]
     },
     "execution_count": 39,
     "metadata": {},
     "output_type": "execute_result"
    }
   ],
   "source": [
    "non_unigrams_counter"
   ]
  },
  {
   "cell_type": "code",
   "execution_count": 40,
   "metadata": {},
   "outputs": [
    {
     "data": {
      "text/plain": [
       "11570026"
      ]
     },
     "execution_count": 40,
     "metadata": {},
     "output_type": "execute_result"
    }
   ],
   "source": [
    "non_unigrams_counter['count'].sum()"
   ]
  },
  {
   "cell_type": "code",
   "execution_count": 41,
   "metadata": {},
   "outputs": [],
   "source": [
    "non_unigrams_counter['freq'] = non_unigrams_counter['count'] / non_unigrams_counter['count'].sum()\n",
    "non_unigrams_counter['log_freq'] = non_unigrams_counter['freq'].parallel_apply(np.log10)\n",
    "non_unigrams_counter['log_abs_log_freq'] = non_unigrams_counter['log_freq'].parallel_apply(lambda a: np.log10(np.abs(a)))"
   ]
  },
  {
   "cell_type": "code",
   "execution_count": 43,
   "metadata": {},
   "outputs": [
    {
     "data": {
      "text/html": [
       "<div>\n",
       "<style scoped>\n",
       "    .dataframe tbody tr th:only-of-type {\n",
       "        vertical-align: middle;\n",
       "    }\n",
       "\n",
       "    .dataframe tbody tr th {\n",
       "        vertical-align: top;\n",
       "    }\n",
       "\n",
       "    .dataframe thead th {\n",
       "        text-align: right;\n",
       "    }\n",
       "</style>\n",
       "<table border=\"1\" class=\"dataframe\">\n",
       "  <thead>\n",
       "    <tr style=\"text-align: right;\">\n",
       "      <th></th>\n",
       "      <th>count</th>\n",
       "      <th>ngram_len</th>\n",
       "      <th>freq</th>\n",
       "      <th>log_freq</th>\n",
       "      <th>log_abs_log_freq</th>\n",
       "    </tr>\n",
       "  </thead>\n",
       "  <tbody>\n",
       "    <tr>\n",
       "      <th>count</th>\n",
       "      <td>7.860180e+06</td>\n",
       "      <td>7.860180e+06</td>\n",
       "      <td>7.860180e+06</td>\n",
       "      <td>7.860180e+06</td>\n",
       "      <td>7.860180e+06</td>\n",
       "    </tr>\n",
       "    <tr>\n",
       "      <th>mean</th>\n",
       "      <td>1.471980e+00</td>\n",
       "      <td>2.649180e+00</td>\n",
       "      <td>1.272235e-07</td>\n",
       "      <td>-7.008495e+00</td>\n",
       "      <td>8.454579e-01</td>\n",
       "    </tr>\n",
       "    <tr>\n",
       "      <th>std</th>\n",
       "      <td>3.676431e+01</td>\n",
       "      <td>4.772268e-01</td>\n",
       "      <td>3.177548e-06</td>\n",
       "      <td>1.854412e-01</td>\n",
       "      <td>1.233117e-02</td>\n",
       "    </tr>\n",
       "    <tr>\n",
       "      <th>min</th>\n",
       "      <td>1.000000e+00</td>\n",
       "      <td>2.000000e+00</td>\n",
       "      <td>8.643023e-08</td>\n",
       "      <td>-7.063334e+00</td>\n",
       "      <td>3.134208e-01</td>\n",
       "    </tr>\n",
       "    <tr>\n",
       "      <th>25%</th>\n",
       "      <td>1.000000e+00</td>\n",
       "      <td>2.000000e+00</td>\n",
       "      <td>8.643023e-08</td>\n",
       "      <td>-7.063334e+00</td>\n",
       "      <td>8.490098e-01</td>\n",
       "    </tr>\n",
       "    <tr>\n",
       "      <th>50%</th>\n",
       "      <td>1.000000e+00</td>\n",
       "      <td>3.000000e+00</td>\n",
       "      <td>8.643023e-08</td>\n",
       "      <td>-7.063334e+00</td>\n",
       "      <td>8.490098e-01</td>\n",
       "    </tr>\n",
       "    <tr>\n",
       "      <th>75%</th>\n",
       "      <td>1.000000e+00</td>\n",
       "      <td>3.000000e+00</td>\n",
       "      <td>8.643023e-08</td>\n",
       "      <td>-7.063334e+00</td>\n",
       "      <td>8.490098e-01</td>\n",
       "    </tr>\n",
       "    <tr>\n",
       "      <th>max</th>\n",
       "      <td>1.012630e+05</td>\n",
       "      <td>3.000000e+00</td>\n",
       "      <td>8.752184e-03</td>\n",
       "      <td>-2.057884e+00</td>\n",
       "      <td>8.490098e-01</td>\n",
       "    </tr>\n",
       "  </tbody>\n",
       "</table>\n",
       "</div>"
      ],
      "text/plain": [
       "              count     ngram_len          freq      log_freq  \\\n",
       "count  7.860180e+06  7.860180e+06  7.860180e+06  7.860180e+06   \n",
       "mean   1.471980e+00  2.649180e+00  1.272235e-07 -7.008495e+00   \n",
       "std    3.676431e+01  4.772268e-01  3.177548e-06  1.854412e-01   \n",
       "min    1.000000e+00  2.000000e+00  8.643023e-08 -7.063334e+00   \n",
       "25%    1.000000e+00  2.000000e+00  8.643023e-08 -7.063334e+00   \n",
       "50%    1.000000e+00  3.000000e+00  8.643023e-08 -7.063334e+00   \n",
       "75%    1.000000e+00  3.000000e+00  8.643023e-08 -7.063334e+00   \n",
       "max    1.012630e+05  3.000000e+00  8.752184e-03 -2.057884e+00   \n",
       "\n",
       "       log_abs_log_freq  \n",
       "count      7.860180e+06  \n",
       "mean       8.454579e-01  \n",
       "std        1.233117e-02  \n",
       "min        3.134208e-01  \n",
       "25%        8.490098e-01  \n",
       "50%        8.490098e-01  \n",
       "75%        8.490098e-01  \n",
       "max        8.490098e-01  "
      ]
     },
     "execution_count": 43,
     "metadata": {},
     "output_type": "execute_result"
    }
   ],
   "source": [
    "non_unigrams_counter.describe()"
   ]
  },
  {
   "cell_type": "code",
   "execution_count": 31,
   "metadata": {},
   "outputs": [],
   "source": [
    "def plot_ngram_stat(col_to_plot, data):\n",
    "    fig, axs = plt.subplots(1, 2)\n",
    "    fig.set_size_inches(15, 10)\n",
    "    for col in col_to_plot:\n",
    "        axs[0].hist(data[col].values, bins=50, label=col)\n",
    "\n",
    "    axs[1].boxplot(data[col_to_plot].values, labels = col_to_plot)\n",
    "    # axs[1].boxplot(non_unigrams_counter['count'].values)\n",
    "    axs[0].grid()\n",
    "    axs[0].legend()\n",
    "    axs[1].grid()"
   ]
  },
  {
   "cell_type": "code",
   "execution_count": 60,
   "metadata": {},
   "outputs": [
    {
     "data": {
      "image/png": "[encoded data removed]",
      "text/plain": [
       "<Figure size 1500x1000 with 2 Axes>"
      ]
     },
     "metadata": {},
     "output_type": "display_data"
    }
   ],
   "source": [
    "plot_ngram_stat(non_unigrams_counter.columns[5:], non_unigrams_counter)"
   ]
  },
  {
   "cell_type": "code",
   "execution_count": 44,
   "metadata": {},
   "outputs": [],
   "source": [
    "min_threshold_count_ngram, max_threshold_count_ngram = 50, 100_000"
   ]
  },
  {
   "cell_type": "code",
   "execution_count": 45,
   "metadata": {},
   "outputs": [],
   "source": [
    "ngrams_to_filter = non_unigrams_counter[(non_unigrams_counter['count'] < min_threshold_count_ngram) | (non_unigrams_counter['count'] > max_threshold_count_ngram )]\n",
    "filtred_non_unigrams_counter = non_unigrams_counter.drop(ngrams_to_filter.index,axis=0, inplace=False)\n"
   ]
  },
  {
   "cell_type": "code",
   "execution_count": 58,
   "metadata": {},
   "outputs": [
    {
     "data": {
      "image/png": "[encoded data removed]",
      "text/plain": [
       "<Figure size 1500x1000 with 2 Axes>"
      ]
     },
     "metadata": {},
     "output_type": "display_data"
    }
   ],
   "source": [
    "plot_ngram_stat(non_unigrams_counter.columns[5:], filtred_non_unigrams_counter)"
   ]
  },
  {
   "cell_type": "code",
   "execution_count": 54,
   "metadata": {},
   "outputs": [
    {
     "data": {
      "text/html": [
       "<div>\n",
       "<style scoped>\n",
       "    .dataframe tbody tr th:only-of-type {\n",
       "        vertical-align: middle;\n",
       "    }\n",
       "\n",
       "    .dataframe tbody tr th {\n",
       "        vertical-align: top;\n",
       "    }\n",
       "\n",
       "    .dataframe thead th {\n",
       "        text-align: right;\n",
       "    }\n",
       "</style>\n",
       "<table border=\"1\" class=\"dataframe\">\n",
       "  <thead>\n",
       "    <tr style=\"text-align: right;\">\n",
       "      <th></th>\n",
       "      <th>count</th>\n",
       "      <th>ngram_len</th>\n",
       "      <th>freq</th>\n",
       "      <th>log_freq</th>\n",
       "      <th>log_abs_log_freq</th>\n",
       "    </tr>\n",
       "  </thead>\n",
       "  <tbody>\n",
       "    <tr>\n",
       "      <th>count</th>\n",
       "      <td>7870.000000</td>\n",
       "      <td>7870.000000</td>\n",
       "      <td>7870.000000</td>\n",
       "      <td>7870.000000</td>\n",
       "      <td>7870.000000</td>\n",
       "    </tr>\n",
       "    <tr>\n",
       "      <th>mean</th>\n",
       "      <td>128.351715</td>\n",
       "      <td>2.119822</td>\n",
       "      <td>0.000011</td>\n",
       "      <td>-5.077601</td>\n",
       "      <td>0.704992</td>\n",
       "    </tr>\n",
       "    <tr>\n",
       "      <th>std</th>\n",
       "      <td>165.562955</td>\n",
       "      <td>0.324774</td>\n",
       "      <td>0.000014</td>\n",
       "      <td>0.272458</td>\n",
       "      <td>0.024473</td>\n",
       "    </tr>\n",
       "    <tr>\n",
       "      <th>min</th>\n",
       "      <td>50.000000</td>\n",
       "      <td>2.000000</td>\n",
       "      <td>0.000004</td>\n",
       "      <td>-5.364364</td>\n",
       "      <td>0.560742</td>\n",
       "    </tr>\n",
       "    <tr>\n",
       "      <th>25%</th>\n",
       "      <td>61.000000</td>\n",
       "      <td>2.000000</td>\n",
       "      <td>0.000005</td>\n",
       "      <td>-5.278004</td>\n",
       "      <td>0.695142</td>\n",
       "    </tr>\n",
       "    <tr>\n",
       "      <th>50%</th>\n",
       "      <td>80.000000</td>\n",
       "      <td>2.000000</td>\n",
       "      <td>0.000007</td>\n",
       "      <td>-5.160244</td>\n",
       "      <td>0.712670</td>\n",
       "    </tr>\n",
       "    <tr>\n",
       "      <th>75%</th>\n",
       "      <td>128.000000</td>\n",
       "      <td>2.000000</td>\n",
       "      <td>0.000011</td>\n",
       "      <td>-4.956124</td>\n",
       "      <td>0.722470</td>\n",
       "    </tr>\n",
       "    <tr>\n",
       "      <th>max</th>\n",
       "      <td>2669.000000</td>\n",
       "      <td>3.000000</td>\n",
       "      <td>0.000231</td>\n",
       "      <td>-3.636986</td>\n",
       "      <td>0.729518</td>\n",
       "    </tr>\n",
       "  </tbody>\n",
       "</table>\n",
       "</div>"
      ],
      "text/plain": [
       "             count    ngram_len         freq     log_freq  log_abs_log_freq\n",
       "count  7870.000000  7870.000000  7870.000000  7870.000000       7870.000000\n",
       "mean    128.351715     2.119822     0.000011    -5.077601          0.704992\n",
       "std     165.562955     0.324774     0.000014     0.272458          0.024473\n",
       "min      50.000000     2.000000     0.000004    -5.364364          0.560742\n",
       "25%      61.000000     2.000000     0.000005    -5.278004          0.695142\n",
       "50%      80.000000     2.000000     0.000007    -5.160244          0.712670\n",
       "75%     128.000000     2.000000     0.000011    -4.956124          0.722470\n",
       "max    2669.000000     3.000000     0.000231    -3.636986          0.729518"
      ]
     },
     "execution_count": 54,
     "metadata": {},
     "output_type": "execute_result"
    }
   ],
   "source": [
    "filtred_non_unigrams_counter.describe()"
   ]
  },
  {
   "cell_type": "markdown",
   "metadata": {},
   "source": [
    "# Написание фунций обработки текстов. Токенизация текста N-gram 1-3"
   ]
  },
  {
   "cell_type": "markdown",
   "metadata": {},
   "source": []
  }
 ],
 "metadata": {
  "kernelspec": {
   "display_name": "venv",
   "language": "python",
   "name": "python3"
  },
  "language_info": {
   "codemirror_mode": {
    "name": "ipython",
    "version": 3
   },
   "file_extension": ".py",
   "mimetype": "text/x-python",
   "name": "python",
   "nbconvert_exporter": "python",
   "pygments_lexer": "ipython3",
   "version": "3.10.6"
  },
  "orig_nbformat": 4
 },
 "nbformat": 4,
 "nbformat_minor": 2
}
