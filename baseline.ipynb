{
 "cells": [
  {
   "cell_type": "code",
   "execution_count": 1,
   "metadata": {
    "_cell_guid": "b1076dfc-b9ad-4769-8c92-a6c4dae69d19",
    "_uuid": "8f2839f25d086af736a60e9eeb907d3b93b6e0e5",
    "execution": {
     "iopub.execute_input": "2023-07-31T16:22:40.553205Z",
     "iopub.status.busy": "2023-07-31T16:22:40.552732Z",
     "iopub.status.idle": "2023-07-31T16:22:55.218086Z",
     "shell.execute_reply": "2023-07-31T16:22:55.216356Z",
     "shell.execute_reply.started": "2023-07-31T16:22:40.553169Z"
    }
   },
   "outputs": [
    {
     "data": {
      "application/javascript": "IPython.notebook.set_autosave_interval(60000)"
     },
     "metadata": {},
     "output_type": "display_data"
    },
    {
     "name": "stdout",
     "output_type": "stream",
     "text": [
      "Autosaving every 60 seconds\n",
      "Requirement already satisfied: pandarallel in ./venv/lib/python3.10/site-packages (1.6.5)\n",
      "Requirement already satisfied: psutil in ./venv/lib/python3.10/site-packages (from pandarallel) (5.9.5)\n",
      "Requirement already satisfied: pandas>=1 in ./venv/lib/python3.10/site-packages (from pandarallel) (2.0.3)\n",
      "Requirement already satisfied: dill>=0.3.1 in ./venv/lib/python3.10/site-packages (from pandarallel) (0.3.7)\n",
      "Requirement already satisfied: python-dateutil>=2.8.2 in ./venv/lib/python3.10/site-packages (from pandas>=1->pandarallel) (2.8.2)\n",
      "Requirement already satisfied: tzdata>=2022.1 in ./venv/lib/python3.10/site-packages (from pandas>=1->pandarallel) (2023.3)\n",
      "Requirement already satisfied: pytz>=2020.1 in ./venv/lib/python3.10/site-packages (from pandas>=1->pandarallel) (2023.3)\n",
      "Requirement already satisfied: numpy>=1.21.0 in ./venv/lib/python3.10/site-packages (from pandas>=1->pandarallel) (1.24.3)\n",
      "Requirement already satisfied: six>=1.5 in ./venv/lib/python3.10/site-packages (from python-dateutil>=2.8.2->pandas>=1->pandarallel) (1.16.0)\n"
     ]
    }
   ],
   "source": [
    "%autosave 60\n",
    "\n",
    "# This Python 3 environment comes with many helpful analytics libraries installed\n",
    "# It is defined by the kaggle/python Docker image: https://github.com/kaggle/docker-python\n",
    "# For example, here's several helpful packages to load\n",
    "! pip install pandarallel\n",
    "import numpy as np # linear algebra\n",
    "import pandas as pd # data processing, CSV file I/O (e.g. pd.read_csv)\n",
    "import re\n",
    "from matplotlib import pyplot as plt\n",
    "from tqdm import tqdm\n",
    "# Input data files are available in the read-only \"../input/\" directory\n",
    "# For example, running this (by clicking run or pressing Shift+Enter) will list all files under the input directory\n",
    "tqdm.pandas()\n",
    "import os\n",
    "# for dirname, _, filenames in os.walk('/kaggle/input'):\n",
    "#     for filename in filenames:\n",
    "#         print(os.path.join(dirname, filename))\n",
    "\n",
    "# You can write up to 20GB to the current directory (/kaggle/working/) that gets preserved as output when you create a version using \"Save & Run All\" \n",
    "# You can also write temporary files to /kaggle/temp/, but they won't be saved outside of the current session"
   ]
  },
  {
   "cell_type": "code",
   "execution_count": 2,
   "metadata": {},
   "outputs": [],
   "source": [
    "from IPython.core.interactiveshell import InteractiveShell\n",
    "InteractiveShell.ast_node_interactivity = \"all\""
   ]
  },
  {
   "cell_type": "code",
   "execution_count": 3,
   "metadata": {
    "execution": {
     "iopub.execute_input": "2023-07-31T16:22:55.222323Z",
     "iopub.status.busy": "2023-07-31T16:22:55.221890Z",
     "iopub.status.idle": "2023-07-31T16:22:55.232771Z",
     "shell.execute_reply": "2023-07-31T16:22:55.230766Z",
     "shell.execute_reply.started": "2023-07-31T16:22:55.222285Z"
    }
   },
   "outputs": [],
   "source": [
    "def get_text_and_score(pathes):\n",
    "    text_score = []\n",
    "    for path in pathes:\n",
    "        file_names = os.listdir(path)\n",
    "        for file_name in file_names:\n",
    "            with open(f'{path}/{file_name}', 'r') as file:\n",
    "                text = file.read()\n",
    "                score = int(file_name.split('.')[0].split('_')[-1])\n",
    "            text_score.append([text, score])\n",
    "    return text_score"
   ]
  },
  {
   "cell_type": "code",
   "execution_count": 4,
   "metadata": {
    "execution": {
     "iopub.execute_input": "2023-07-31T16:31:06.356690Z",
     "iopub.status.busy": "2023-07-31T16:31:06.356234Z",
     "iopub.status.idle": "2023-07-31T16:31:36.723525Z",
     "shell.execute_reply": "2023-07-31T16:31:36.722565Z",
     "shell.execute_reply.started": "2023-07-31T16:31:06.356654Z"
    }
   },
   "outputs": [],
   "source": [
    "path = r'data/aclImdb'\n",
    "corpus = get_text_and_score([f'{path}/train/pos/', f'{path}/train/neg/', \n",
    "                             f'{path}/test/pos/', f'{path}/test/neg/'])\n"
   ]
  },
  {
   "cell_type": "code",
   "execution_count": 5,
   "metadata": {
    "execution": {
     "iopub.execute_input": "2023-07-31T17:01:30.688753Z",
     "iopub.status.busy": "2023-07-31T17:01:30.687923Z",
     "iopub.status.idle": "2023-07-31T17:01:30.824944Z",
     "shell.execute_reply": "2023-07-31T17:01:30.823635Z",
     "shell.execute_reply.started": "2023-07-31T17:01:30.688708Z"
    }
   },
   "outputs": [],
   "source": [
    "dataset = pd.DataFrame(corpus, columns=('data', 'target'))"
   ]
  },
  {
   "cell_type": "code",
   "execution_count": 6,
   "metadata": {
    "execution": {
     "iopub.execute_input": "2023-07-31T17:01:32.184066Z",
     "iopub.status.busy": "2023-07-31T17:01:32.183640Z",
     "iopub.status.idle": "2023-07-31T17:01:32.216528Z",
     "shell.execute_reply": "2023-07-31T17:01:32.215521Z",
     "shell.execute_reply.started": "2023-07-31T17:01:32.184031Z"
    }
   },
   "outputs": [
    {
     "data": {
      "text/plain": [
       "data      0\n",
       "target    0\n",
       "dtype: int64"
      ]
     },
     "execution_count": 6,
     "metadata": {},
     "output_type": "execute_result"
    }
   ],
   "source": [
    "dataset.isnull().sum()"
   ]
  },
  {
   "cell_type": "code",
   "execution_count": 7,
   "metadata": {
    "execution": {
     "iopub.execute_input": "2023-07-31T17:01:33.436634Z",
     "iopub.status.busy": "2023-07-31T17:01:33.435998Z",
     "iopub.status.idle": "2023-07-31T17:01:33.441119Z",
     "shell.execute_reply": "2023-07-31T17:01:33.440099Z",
     "shell.execute_reply.started": "2023-07-31T17:01:33.436600Z"
    }
   },
   "outputs": [],
   "source": [
    "texts_count = 50000\n",
    "dataset = dataset.iloc[:texts_count]"
   ]
  },
  {
   "cell_type": "code",
   "execution_count": 8,
   "metadata": {
    "execution": {
     "iopub.execute_input": "2023-07-31T17:01:54.731926Z",
     "iopub.status.busy": "2023-07-31T17:01:54.731482Z",
     "iopub.status.idle": "2023-07-31T17:01:54.761560Z",
     "shell.execute_reply": "2023-07-31T17:01:54.760280Z",
     "shell.execute_reply.started": "2023-07-31T17:01:54.731892Z"
    }
   },
   "outputs": [],
   "source": [
    "dataset.dropna(inplace=True)"
   ]
  },
  {
   "cell_type": "code",
   "execution_count": 9,
   "metadata": {
    "execution": {
     "iopub.execute_input": "2023-07-31T17:01:54.988209Z",
     "iopub.status.busy": "2023-07-31T17:01:54.987801Z",
     "iopub.status.idle": "2023-07-31T17:01:55.577859Z",
     "shell.execute_reply": "2023-07-31T17:01:55.576799Z",
     "shell.execute_reply.started": "2023-07-31T17:01:54.988176Z"
    }
   },
   "outputs": [
    {
     "data": {
      "text/plain": [
       "(array([4.7880e+03, 1.9264e+04, 1.0831e+04, 5.4310e+03, 3.3380e+03,\n",
       "        2.0760e+03, 1.3850e+03, 9.2400e+02, 6.1200e+02, 4.4900e+02,\n",
       "        3.2100e+02, 2.6300e+02, 2.4000e+02, 4.8000e+01, 5.0000e+00,\n",
       "        8.0000e+00, 3.0000e+00, 3.0000e+00, 0.0000e+00, 2.0000e+00,\n",
       "        2.0000e+00, 1.0000e+00, 2.0000e+00, 0.0000e+00, 0.0000e+00,\n",
       "        0.0000e+00, 1.0000e+00, 0.0000e+00, 2.0000e+00, 1.0000e+00]),\n",
       " array([   32.        ,   487.73333333,   943.46666667,  1399.2       ,\n",
       "         1854.93333333,  2310.66666667,  2766.4       ,  3222.13333333,\n",
       "         3677.86666667,  4133.6       ,  4589.33333333,  5045.06666667,\n",
       "         5500.8       ,  5956.53333333,  6412.26666667,  6868.        ,\n",
       "         7323.73333333,  7779.46666667,  8235.2       ,  8690.93333333,\n",
       "         9146.66666667,  9602.4       , 10058.13333333, 10513.86666667,\n",
       "        10969.6       , 11425.33333333, 11881.06666667, 12336.8       ,\n",
       "        12792.53333333, 13248.26666667, 13704.        ]),\n",
       " <BarContainer object of 30 artists>)"
      ]
     },
     "execution_count": 9,
     "metadata": {},
     "output_type": "execute_result"
    },
    {
     "data": {
      "text/plain": [
       "{'whiskers': [<matplotlib.lines.Line2D at 0x7fcd34e949d0>,\n",
       "  <matplotlib.lines.Line2D at 0x7fcd34e94c70>],\n",
       " 'caps': [<matplotlib.lines.Line2D at 0x7fcd34e94f10>,\n",
       "  <matplotlib.lines.Line2D at 0x7fcd34e951b0>],\n",
       " 'boxes': [<matplotlib.lines.Line2D at 0x7fcd34e946a0>],\n",
       " 'medians': [<matplotlib.lines.Line2D at 0x7fcd34e95450>],\n",
       " 'fliers': [<matplotlib.lines.Line2D at 0x7fcd34e956f0>],\n",
       " 'means': []}"
      ]
     },
     "execution_count": 9,
     "metadata": {},
     "output_type": "execute_result"
    },
    {
     "data": {
      "image/png": "[encoded data removed]",
      "text/plain": [
       "<Figure size 1200x600 with 2 Axes>"
      ]
     },
     "metadata": {},
     "output_type": "display_data"
    }
   ],
   "source": [
    "text_lenth = dataset['data'].apply(len)\n",
    "\n",
    "fig, axs = plt.subplots(1, 2, figsize=(12, 6))\n",
    "\n",
    "axs[0].hist(text_lenth, 30, label='Гистограмма распределения длин текстов')\n",
    "axs[1].boxplot(text_lenth, vert=False)"
   ]
  },
  {
   "cell_type": "code",
   "execution_count": 10,
   "metadata": {
    "execution": {
     "iopub.execute_input": "2023-07-31T17:01:55.580397Z",
     "iopub.status.busy": "2023-07-31T17:01:55.580076Z",
     "iopub.status.idle": "2023-07-31T17:01:55.587911Z",
     "shell.execute_reply": "2023-07-31T17:01:55.586996Z",
     "shell.execute_reply.started": "2023-07-31T17:01:55.580370Z"
    }
   },
   "outputs": [],
   "source": [
    "def clean_regex(text):\n",
    "    text = re.sub('\\\"{2,3}', '', text)\n",
    "    text = re.sub(r'[\\\"\\#\\$\\%\\&\\'\\(\\)\\*\\+\\/\\:\\;\\<\\=\\>\\@\\[\\\\\\]\\^\\_\\`\\{\\|\\}\\~]', ' ', text)\n",
    "    text = re.sub(r'[.,!?-]', '', text)\n",
    "    text = re.sub(r'<[^>]+>', '', text)\n",
    "    text = re.sub(r'\\d+', '', text)\n",
    "    text = re.sub(r' +', ' ', text)\n",
    "    text = re.sub(r'[^\\x00-\\x7f]', r'', text)\n",
    "    \n",
    "    return text"
   ]
  },
  {
   "cell_type": "code",
   "execution_count": 12,
   "metadata": {
    "execution": {
     "iopub.execute_input": "2023-07-31T17:01:55.589840Z",
     "iopub.status.busy": "2023-07-31T17:01:55.589033Z",
     "iopub.status.idle": "2023-07-31T17:01:55.719414Z",
     "shell.execute_reply": "2023-07-31T17:01:55.718335Z",
     "shell.execute_reply.started": "2023-07-31T17:01:55.589809Z"
    }
   },
   "outputs": [
    {
     "name": "stderr",
     "output_type": "stream",
     "text": [
      "2023-08-06 16:25:21.597478: I tensorflow/tsl/cuda/cudart_stub.cc:28] Could not find cuda drivers on your machine, GPU will not be used.\n",
      "2023-08-06 16:25:22.228325: I tensorflow/tsl/cuda/cudart_stub.cc:28] Could not find cuda drivers on your machine, GPU will not be used.\n",
      "2023-08-06 16:25:23.471254: W tensorflow/compiler/tf2tensorrt/utils/py_utils.cc:38] TF-TRT Warning: Could not find TensorRT\n"
     ]
    },
    {
     "name": "stdout",
     "output_type": "stream",
     "text": [
      "INFO: Pandarallel will run on 8 workers.\n",
      "INFO: Pandarallel will use Memory file system to transfer data between the main process and workers.\n"
     ]
    },
    {
     "name": "stderr",
     "output_type": "stream",
     "text": [
      "[nltk_data] Downloading package stopwords to\n",
      "[nltk_data]     /home/argen7um/nltk_data...\n",
      "[nltk_data]   Package stopwords is already up-to-date!\n"
     ]
    },
    {
     "data": {
      "text/plain": [
       "True"
      ]
     },
     "execution_count": 12,
     "metadata": {},
     "output_type": "execute_result"
    },
    {
     "name": "stderr",
     "output_type": "stream",
     "text": [
      "[nltk_data] Downloading package wordnet to /home/argen7um/nltk_data...\n",
      "[nltk_data]   Package wordnet is already up-to-date!\n"
     ]
    },
    {
     "data": {
      "text/plain": [
       "True"
      ]
     },
     "execution_count": 12,
     "metadata": {},
     "output_type": "execute_result"
    }
   ],
   "source": [
    "import nltk\n",
    "from nltk.tokenize import word_tokenize, sent_tokenize\n",
    "from nltk.corpus import stopwords\n",
    "from nltk.stem.wordnet import WordNetLemmatizer\n",
    "from tensorflow.keras.utils import pad_sequences\n",
    "from collections import Counter\n",
    "from pandarallel import pandarallel\n",
    "\n",
    "pandarallel.initialize(progress_bar=True, nb_workers = 8)\n",
    "\n",
    "nltk.download('stopwords')\n",
    "nltk.download('wordnet')\n",
    "stopwords = [word for word in set(stopwords.words('english')) if word not in ('no', 'not')]"
   ]
  },
  {
   "cell_type": "code",
   "execution_count": 13,
   "metadata": {
    "execution": {
     "iopub.execute_input": "2023-07-31T17:01:55.721891Z",
     "iopub.status.busy": "2023-07-31T17:01:55.721412Z",
     "iopub.status.idle": "2023-07-31T17:01:55.729126Z",
     "shell.execute_reply": "2023-07-31T17:01:55.728018Z",
     "shell.execute_reply.started": "2023-07-31T17:01:55.721860Z"
    }
   },
   "outputs": [],
   "source": [
    "max_lenth = 1000"
   ]
  },
  {
   "cell_type": "code",
   "execution_count": 14,
   "metadata": {
    "execution": {
     "iopub.execute_input": "2023-07-31T17:01:55.853927Z",
     "iopub.status.busy": "2023-07-31T17:01:55.852619Z",
     "iopub.status.idle": "2023-07-31T17:01:55.864310Z",
     "shell.execute_reply": "2023-07-31T17:01:55.863196Z",
     "shell.execute_reply.started": "2023-07-31T17:01:55.853876Z"
    }
   },
   "outputs": [],
   "source": [
    "def tokenize_text(text):\n",
    "    return word_tokenize(text)\n",
    "\n",
    "def split_tords_by_space(text):\n",
    "    return text.split()\n",
    "\n",
    "def make_lower(word_list):\n",
    "    return list(map(lambda t: t.lower(), word_list))\n",
    "\n",
    "def lemmatize(word_list):\n",
    "    return list(map(lemmatizer.lemmatize, word_list))\n",
    "\n",
    "def remove_stop_words(word_list):\n",
    "    return [word for word in word_list if word not in stopwords]\n",
    "\n",
    "def add_bos_tag(word_list):\n",
    "    word_list.insert(0, '<bos>')\n",
    "    return word_list\n",
    "\n",
    "def limit_sequence(word_list, max_lenth):\n",
    "    return word_list[:max_lenth]\n",
    "\n",
    "def join_word_list(word_list):\n",
    "    return ' '.join(word_list)\n",
    "\n",
    "def preprocess_text(text):\n",
    "    word_list = tokenize_text(text)\n",
    "    lower_word_list = make_lower(word_list)\n",
    "    lemmatized_word_list = make_lower(lower_word_list)\n",
    "    word_list_with_bos = add_bos_tag(remove_stop_words(lemmatized_word_list))\n",
    "    preprocessed_text = join_word_list(limit_sequence(word_list_with_bos, 1000))\n",
    "    \n",
    "    return preprocessed_text"
   ]
  },
  {
   "cell_type": "code",
   "execution_count": 17,
   "metadata": {
    "execution": {
     "iopub.execute_input": "2023-07-31T17:01:55.956085Z",
     "iopub.status.busy": "2023-07-31T17:01:55.955657Z",
     "iopub.status.idle": "2023-07-31T17:06:43.439726Z",
     "shell.execute_reply": "2023-07-31T17:06:43.438238Z",
     "shell.execute_reply.started": "2023-07-31T17:01:55.956051Z"
    }
   },
   "outputs": [
    {
     "data": {
      "application/vnd.jupyter.widget-view+json": {
       "model_id": "b1a8af3ef841464b9c90c112f4fac303",
       "version_major": 2,
       "version_minor": 0
      },
      "text/plain": [
       "VBox(children=(HBox(children=(IntProgress(value=0, description='0.00%', max=6250), Label(value='0 / 6250'))), …"
      ]
     },
     "metadata": {},
     "output_type": "display_data"
    },
    {
     "data": {
      "application/vnd.jupyter.widget-view+json": {
       "model_id": "e160df66e520488282663bf93ba663e6",
       "version_major": 2,
       "version_minor": 0
      },
      "text/plain": [
       "VBox(children=(HBox(children=(IntProgress(value=0, description='0.00%', max=6250), Label(value='0 / 6250'))), …"
      ]
     },
     "metadata": {},
     "output_type": "display_data"
    },
    {
     "data": {
      "application/vnd.jupyter.widget-view+json": {
       "model_id": "e27a1c6935314e6d8d834e23b48d878a",
       "version_major": 2,
       "version_minor": 0
      },
      "text/plain": [
       "VBox(children=(HBox(children=(IntProgress(value=0, description='0.00%', max=6250), Label(value='0 / 6250'))), …"
      ]
     },
     "metadata": {},
     "output_type": "display_data"
    }
   ],
   "source": [
    "threshold_count = 15\n",
    "count_words = Counter(nltk.flatten(list(dataset['data'].parallel_apply(clean_regex).parallel_apply(tokenize_text).parallel_apply(make_lower))))\n",
    "\n",
    "stopwords = set(stopwords)\n",
    "for word in count_words:\n",
    "    count = count_words[word]\n",
    "    if count <= threshold_count:\n",
    "        stopwords.add(word)\n",
    "        \n",
    "stopwords = sorted(list(stopwords))\n",
    "vocabulary = [word for word in count_words if count_words[word] > threshold_count and word not in stopwords]"
   ]
  },
  {
   "cell_type": "code",
   "execution_count": 15,
   "metadata": {
    "execution": {
     "iopub.execute_input": "2023-07-31T17:06:43.443116Z",
     "iopub.status.busy": "2023-07-31T17:06:43.442758Z",
     "iopub.status.idle": "2023-08-01T00:22:03.876884Z",
     "shell.execute_reply": "2023-08-01T00:22:03.874201Z",
     "shell.execute_reply.started": "2023-07-31T17:06:43.443078Z"
    }
   },
   "outputs": [],
   "source": [
    "# # !unzip /usr/share/nltk_data/corpora/wordnet.zip -d /usr/share/nltk_data/corpora/\n",
    "# %% script false\n",
    "# lemmatizer = WordNetLemmatizer()\n",
    "# dataset['cleaned text'] = dataset['data'].parallel_apply(clean_regex)\n",
    "# dataset['preprocessed text'] = dataset['cleaned text'].parallel_apply(preprocess_text)\n",
    "# dataset['preprocessed text']"
   ]
  },
  {
   "cell_type": "code",
   "execution_count": 16,
   "metadata": {
    "execution": {
     "iopub.status.busy": "2023-08-01T00:22:03.879407Z",
     "iopub.status.idle": "2023-08-01T00:22:03.880713Z",
     "shell.execute_reply": "2023-08-01T00:22:03.880453Z",
     "shell.execute_reply.started": "2023-08-01T00:22:03.880420Z"
    }
   },
   "outputs": [],
   "source": [
    "# text_lenth = dataset['preprocessed text'].parallel_apply(len)"
   ]
  },
  {
   "cell_type": "code",
   "execution_count": 17,
   "metadata": {
    "execution": {
     "iopub.status.busy": "2023-08-01T00:22:03.882115Z",
     "iopub.status.idle": "2023-08-01T00:22:03.882832Z",
     "shell.execute_reply": "2023-08-01T00:22:03.882563Z",
     "shell.execute_reply.started": "2023-08-01T00:22:03.882539Z"
    }
   },
   "outputs": [
    {
     "data": {
      "text/html": [
       "<div>\n",
       "<style scoped>\n",
       "    .dataframe tbody tr th:only-of-type {\n",
       "        vertical-align: middle;\n",
       "    }\n",
       "\n",
       "    .dataframe tbody tr th {\n",
       "        vertical-align: top;\n",
       "    }\n",
       "\n",
       "    .dataframe thead th {\n",
       "        text-align: right;\n",
       "    }\n",
       "</style>\n",
       "<table border=\"1\" class=\"dataframe\">\n",
       "  <thead>\n",
       "    <tr style=\"text-align: right;\">\n",
       "      <th></th>\n",
       "      <th>data</th>\n",
       "      <th>target</th>\n",
       "    </tr>\n",
       "  </thead>\n",
       "  <tbody>\n",
       "    <tr>\n",
       "      <th>0</th>\n",
       "      <td>This show is a great history story. It's has e...</td>\n",
       "      <td>10</td>\n",
       "    </tr>\n",
       "    <tr>\n",
       "      <th>1</th>\n",
       "      <td>A few years ago, a friend got from one of his ...</td>\n",
       "      <td>10</td>\n",
       "    </tr>\n",
       "    <tr>\n",
       "      <th>2</th>\n",
       "      <td>I like this movie a lot, but it's a fact, that...</td>\n",
       "      <td>10</td>\n",
       "    </tr>\n",
       "    <tr>\n",
       "      <th>3</th>\n",
       "      <td>A brilliant movie about family, guilt, sacrifi...</td>\n",
       "      <td>9</td>\n",
       "    </tr>\n",
       "    <tr>\n",
       "      <th>4</th>\n",
       "      <td>One of the many Merrie Melodies cartoons that ...</td>\n",
       "      <td>7</td>\n",
       "    </tr>\n",
       "    <tr>\n",
       "      <th>...</th>\n",
       "      <td>...</td>\n",
       "      <td>...</td>\n",
       "    </tr>\n",
       "    <tr>\n",
       "      <th>49995</th>\n",
       "      <td>If you are a bit masochistic and like to waste...</td>\n",
       "      <td>1</td>\n",
       "    </tr>\n",
       "    <tr>\n",
       "      <th>49996</th>\n",
       "      <td>'R Xmas is one of the only films I've seen whe...</td>\n",
       "      <td>4</td>\n",
       "    </tr>\n",
       "    <tr>\n",
       "      <th>49997</th>\n",
       "      <td>Ruggero Deodato is often credited for inventin...</td>\n",
       "      <td>4</td>\n",
       "    </tr>\n",
       "    <tr>\n",
       "      <th>49998</th>\n",
       "      <td>\"Stick Around\" is one of the brief series of f...</td>\n",
       "      <td>4</td>\n",
       "    </tr>\n",
       "    <tr>\n",
       "      <th>49999</th>\n",
       "      <td>I can't believe I even tried to watch this fil...</td>\n",
       "      <td>1</td>\n",
       "    </tr>\n",
       "  </tbody>\n",
       "</table>\n",
       "<p>50000 rows × 2 columns</p>\n",
       "</div>"
      ],
      "text/plain": [
       "                                                    data  target\n",
       "0      This show is a great history story. It's has e...      10\n",
       "1      A few years ago, a friend got from one of his ...      10\n",
       "2      I like this movie a lot, but it's a fact, that...      10\n",
       "3      A brilliant movie about family, guilt, sacrifi...       9\n",
       "4      One of the many Merrie Melodies cartoons that ...       7\n",
       "...                                                  ...     ...\n",
       "49995  If you are a bit masochistic and like to waste...       1\n",
       "49996  'R Xmas is one of the only films I've seen whe...       4\n",
       "49997  Ruggero Deodato is often credited for inventin...       4\n",
       "49998  \"Stick Around\" is one of the brief series of f...       4\n",
       "49999  I can't believe I even tried to watch this fil...       1\n",
       "\n",
       "[50000 rows x 2 columns]"
      ]
     },
     "execution_count": 17,
     "metadata": {},
     "output_type": "execute_result"
    }
   ],
   "source": [
    "dataset"
   ]
  },
  {
   "cell_type": "code",
   "execution_count": 18,
   "metadata": {
    "execution": {
     "iopub.status.busy": "2023-08-01T00:22:03.886464Z",
     "iopub.status.idle": "2023-08-01T00:22:03.887219Z",
     "shell.execute_reply": "2023-08-01T00:22:03.887032Z",
     "shell.execute_reply.started": "2023-08-01T00:22:03.887011Z"
    }
   },
   "outputs": [],
   "source": [
    "# %%script false\n",
    "# dataset.to_csv('processed_data.csv')"
   ]
  },
  {
   "cell_type": "code",
   "execution_count": 18,
   "metadata": {},
   "outputs": [],
   "source": [
    "dataset = pd.read_csv('data/processed_data copy.csv')"
   ]
  },
  {
   "cell_type": "code",
   "execution_count": 19,
   "metadata": {},
   "outputs": [
    {
     "name": "stdout",
     "output_type": "stream",
     "text": [
      "   Unnamed: 0                                               data  target  \\\n",
      "0           0  This show is a great history story. It's has e...      10   \n",
      "1           1  A few years ago, a friend got from one of his ...      10   \n",
      "2           2  I like this movie a lot, but it's a fact, that...      10   \n",
      "3           3  A brilliant movie about family, guilt, sacrifi...       9   \n",
      "4           4  One of the many Merrie Melodies cartoons that ...       7   \n",
      "\n",
      "                                        cleaned text  \\\n",
      "0  This show is a great history story It s has ev...   \n",
      "1  A few years ago a friend got from one of his o...   \n",
      "2  I like this movie a lot but it s a fact that y...   \n",
      "3  A brilliant movie about family guilt sacrifice...   \n",
      "4  One of the many Merrie Melodies cartoons that ...   \n",
      "\n",
      "                                   preprocessed text  \n",
      "0  <bos> show great history story everything way ...  \n",
      "1  <bos> years ago friend got one friends video m...  \n",
      "2  <bos> like movie lot fact not understand unles...  \n",
      "3  <bos> brilliant movie family guilt sacrifice b...  \n",
      "4  <bos> one many melodies cartoons entertained a...  \n"
     ]
    }
   ],
   "source": [
    "print(dataset.head())"
   ]
  },
  {
   "cell_type": "code",
   "execution_count": 20,
   "metadata": {
    "execution": {
     "iopub.execute_input": "2023-07-31T16:25:40.313171Z",
     "iopub.status.busy": "2023-07-31T16:25:40.312750Z",
     "iopub.status.idle": "2023-07-31T16:25:40.324666Z",
     "shell.execute_reply": "2023-07-31T16:25:40.323553Z",
     "shell.execute_reply.started": "2023-07-31T16:25:40.313133Z"
    }
   },
   "outputs": [],
   "source": [
    "def get_vocabulary(data_column):\n",
    "    word_list_column = list(data_column.parallel_apply(split_tords_by_space))\n",
    "    vocabulary = sorted(list(set(nltk.flatten(word_list_column))))\n",
    "    return vocabulary"
   ]
  },
  {
   "cell_type": "code",
   "execution_count": 21,
   "metadata": {
    "execution": {
     "iopub.execute_input": "2023-07-31T16:25:40.329018Z",
     "iopub.status.busy": "2023-07-31T16:25:40.328549Z",
     "iopub.status.idle": "2023-07-31T16:25:41.070019Z",
     "shell.execute_reply": "2023-07-31T16:25:41.068657Z",
     "shell.execute_reply.started": "2023-07-31T16:25:40.328974Z"
    }
   },
   "outputs": [
    {
     "data": {
      "application/vnd.jupyter.widget-view+json": {
       "model_id": "b525e50b94a649e79c348457fc4a55b0",
       "version_major": 2,
       "version_minor": 0
      },
      "text/plain": [
       "VBox(children=(HBox(children=(IntProgress(value=0, description='0.00%', max=6250), Label(value='0 / 6250'))), …"
      ]
     },
     "metadata": {},
     "output_type": "display_data"
    }
   ],
   "source": [
    "vocabulary = get_vocabulary(dataset['preprocessed text'])"
   ]
  },
  {
   "cell_type": "code",
   "execution_count": 22,
   "metadata": {
    "execution": {
     "iopub.execute_input": "2023-07-31T16:25:41.103737Z",
     "iopub.status.busy": "2023-07-31T16:25:41.103384Z",
     "iopub.status.idle": "2023-07-31T16:25:41.115918Z",
     "shell.execute_reply": "2023-07-31T16:25:41.114251Z",
     "shell.execute_reply.started": "2023-07-31T16:25:41.103708Z"
    }
   },
   "outputs": [],
   "source": [
    "def word2int(vocabulary):\n",
    "    word2int_dict = {word : i for i, word in enumerate(vocabulary, 1)}\n",
    "    int2word_dict = {i : word for word, i in word2int_dict.items()}\n",
    "    return (word2int_dict, int2word_dict)\n",
    "        \n",
    "word2int_dict, int2word_dict = word2int(vocabulary)"
   ]
  },
  {
   "cell_type": "code",
   "execution_count": 23,
   "metadata": {
    "execution": {
     "iopub.execute_input": "2023-07-31T16:25:41.118144Z",
     "iopub.status.busy": "2023-07-31T16:25:41.117824Z",
     "iopub.status.idle": "2023-07-31T16:25:41.141038Z",
     "shell.execute_reply": "2023-07-31T16:25:41.139640Z",
     "shell.execute_reply.started": "2023-07-31T16:25:41.118118Z"
    },
    "scrolled": true
   },
   "outputs": [
    {
     "data": {
      "text/plain": [
       "['<bos>',\n",
       " 'aa',\n",
       " 'aaa',\n",
       " 'aag',\n",
       " 'aaliyah',\n",
       " 'aamir',\n",
       " 'aardman',\n",
       " 'aaron',\n",
       " 'ab',\n",
       " 'aback',\n",
       " 'abandon',\n",
       " 'abandoned',\n",
       " 'abandoning',\n",
       " 'abandonment',\n",
       " 'abandons',\n",
       " 'abba',\n",
       " 'abbey',\n",
       " 'abbie',\n",
       " 'abbot',\n",
       " 'abbott',\n",
       " 'abby',\n",
       " 'abc',\n",
       " 'abducted',\n",
       " 'abduction',\n",
       " 'abe',\n",
       " 'abel',\n",
       " 'abetted',\n",
       " 'abhay',\n",
       " 'abhishek',\n",
       " 'abhorrent',\n",
       " 'abiding',\n",
       " 'abigail',\n",
       " 'abilities',\n",
       " 'ability',\n",
       " 'abject',\n",
       " 'able',\n",
       " 'ably',\n",
       " 'abnormal',\n",
       " 'abo',\n",
       " 'aboard',\n",
       " 'abominable',\n",
       " 'abomination',\n",
       " 'aboriginal',\n",
       " 'aborigine',\n",
       " 'aborigines',\n",
       " 'aborted',\n",
       " 'abortion',\n",
       " 'abortions',\n",
       " 'abound',\n",
       " 'abounds',\n",
       " 'aboveaverage',\n",
       " 'abraham',\n",
       " 'abrahams',\n",
       " 'abrasive',\n",
       " 'abroad',\n",
       " 'abrupt',\n",
       " 'abruptly',\n",
       " 'absence',\n",
       " 'absent',\n",
       " 'absolute',\n",
       " 'absolutely',\n",
       " 'absorb',\n",
       " 'absorbed',\n",
       " 'absorbing',\n",
       " 'abstract',\n",
       " 'absurd',\n",
       " 'absurdist',\n",
       " 'absurdities',\n",
       " 'absurdity',\n",
       " 'absurdly',\n",
       " 'abu',\n",
       " 'abundance',\n",
       " 'abundant',\n",
       " 'abuse',\n",
       " 'abused',\n",
       " 'abuses',\n",
       " 'abusing',\n",
       " 'abusive',\n",
       " 'abysmal',\n",
       " 'abysmally',\n",
       " 'abyss',\n",
       " 'ac',\n",
       " 'academic',\n",
       " 'academy',\n",
       " 'accent',\n",
       " 'accented',\n",
       " 'accents',\n",
       " 'accentuate',\n",
       " 'accentuated',\n",
       " 'accept',\n",
       " 'acceptable',\n",
       " 'acceptance',\n",
       " 'accepted',\n",
       " 'accepting',\n",
       " 'accepts',\n",
       " 'access',\n",
       " 'accessible',\n",
       " 'accident',\n",
       " 'accidental',\n",
       " 'accidentally',\n",
       " 'accidents',\n",
       " 'acclaim',\n",
       " 'acclaimed',\n",
       " 'accolades',\n",
       " 'accommodate',\n",
       " 'accompanied',\n",
       " 'accompanies',\n",
       " 'accompaniment',\n",
       " 'accompany',\n",
       " 'accompanying',\n",
       " 'accomplice',\n",
       " 'accomplish',\n",
       " 'accomplished',\n",
       " 'accomplishes',\n",
       " 'accomplishment',\n",
       " 'accomplishments',\n",
       " 'accordance',\n",
       " 'according',\n",
       " 'accordingly',\n",
       " 'account',\n",
       " 'accountant',\n",
       " 'accounted',\n",
       " 'accounting',\n",
       " 'accounts',\n",
       " 'accuracy',\n",
       " 'accurate',\n",
       " 'accurately',\n",
       " 'accusation',\n",
       " 'accusations',\n",
       " 'accuse',\n",
       " 'accused',\n",
       " 'accuses',\n",
       " 'accusing',\n",
       " 'accustomed',\n",
       " 'ace',\n",
       " 'acerbic',\n",
       " 'ache',\n",
       " 'achieve',\n",
       " 'achieved',\n",
       " 'achievement',\n",
       " 'achievements',\n",
       " 'achieves',\n",
       " 'achieving',\n",
       " 'achilles',\n",
       " 'aching',\n",
       " 'achingly',\n",
       " 'acid',\n",
       " 'ackland',\n",
       " 'acknowledge',\n",
       " 'acknowledged',\n",
       " 'acknowledges',\n",
       " 'ackroyd',\n",
       " 'acoustic',\n",
       " 'acquaintance',\n",
       " 'acquaintances',\n",
       " 'acquainted',\n",
       " 'acquire',\n",
       " 'acquired',\n",
       " 'acquiring',\n",
       " 'acquit',\n",
       " 'acquits',\n",
       " 'acquitted',\n",
       " 'acres',\n",
       " 'acrobatic',\n",
       " 'acrobatics',\n",
       " 'across',\n",
       " 'act',\n",
       " 'acted',\n",
       " 'acting',\n",
       " 'action',\n",
       " 'actionadventure',\n",
       " 'actioner',\n",
       " 'actionpacked',\n",
       " 'actions',\n",
       " 'active',\n",
       " 'actively',\n",
       " 'activist',\n",
       " 'activists',\n",
       " 'activities',\n",
       " 'activity',\n",
       " 'actor',\n",
       " 'actors',\n",
       " 'actress',\n",
       " 'actresses',\n",
       " 'acts',\n",
       " 'actual',\n",
       " 'actuality',\n",
       " 'actually',\n",
       " 'acutely',\n",
       " 'ad',\n",
       " 'ada',\n",
       " 'adage',\n",
       " 'adam',\n",
       " 'adama',\n",
       " 'adamant',\n",
       " 'adams',\n",
       " 'adamson',\n",
       " 'adapt',\n",
       " 'adaptation',\n",
       " 'adaptations',\n",
       " 'adapted',\n",
       " 'adapting',\n",
       " 'adaption',\n",
       " 'add',\n",
       " 'added',\n",
       " 'addict',\n",
       " 'addicted',\n",
       " 'addiction',\n",
       " 'addictions',\n",
       " 'addictive',\n",
       " 'addicts',\n",
       " 'adding',\n",
       " 'addison',\n",
       " 'addition',\n",
       " 'additional',\n",
       " 'additionally',\n",
       " 'additions',\n",
       " 'address',\n",
       " 'addressed',\n",
       " 'addresses',\n",
       " 'addressing',\n",
       " 'adds',\n",
       " 'ade',\n",
       " 'adelaide',\n",
       " 'adele',\n",
       " 'adentro',\n",
       " 'adept',\n",
       " 'adequate',\n",
       " 'adequately',\n",
       " 'adhere',\n",
       " 'aditya',\n",
       " 'adjacent',\n",
       " 'adjani',\n",
       " 'adjective',\n",
       " 'adjectives',\n",
       " 'adjust',\n",
       " 'adjusted',\n",
       " 'adjusting',\n",
       " 'adjustment',\n",
       " 'adkins',\n",
       " 'adlibbed',\n",
       " 'administration',\n",
       " 'administrator',\n",
       " 'admirable',\n",
       " 'admirably',\n",
       " 'admiral',\n",
       " 'admiration',\n",
       " 'admire',\n",
       " 'admired',\n",
       " 'admirer',\n",
       " 'admirers',\n",
       " 'admires',\n",
       " 'admiring',\n",
       " 'admission',\n",
       " 'admit',\n",
       " 'admits',\n",
       " 'admitted',\n",
       " 'admittedly',\n",
       " 'admitting',\n",
       " 'ado',\n",
       " 'adolescence',\n",
       " 'adolescent',\n",
       " 'adolescents',\n",
       " 'adolf',\n",
       " 'adolph',\n",
       " 'adopt',\n",
       " 'adopted',\n",
       " 'adopting',\n",
       " 'adoption',\n",
       " 'adoptive',\n",
       " 'adopts',\n",
       " 'adorable',\n",
       " 'adoration',\n",
       " 'adore',\n",
       " 'adored',\n",
       " 'adores',\n",
       " 'adoring',\n",
       " 'adrenaline',\n",
       " 'adrian',\n",
       " 'adrien',\n",
       " 'adrienne',\n",
       " 'adrift',\n",
       " 'ads',\n",
       " 'adult',\n",
       " 'adulterous',\n",
       " 'adultery',\n",
       " 'adulthood',\n",
       " 'adults',\n",
       " 'adv',\n",
       " 'advance',\n",
       " 'advanced',\n",
       " 'advancement',\n",
       " 'advances',\n",
       " 'advancing',\n",
       " 'advani',\n",
       " 'advantage',\n",
       " 'advantages',\n",
       " 'advent',\n",
       " 'adventure',\n",
       " 'adventurer',\n",
       " 'adventurers',\n",
       " 'adventures',\n",
       " 'adventurous',\n",
       " 'adversaries',\n",
       " 'adversary',\n",
       " 'adverse',\n",
       " 'adversity',\n",
       " 'advert',\n",
       " 'advertise',\n",
       " 'advertised',\n",
       " 'advertisement',\n",
       " 'advertisements',\n",
       " 'advertising',\n",
       " 'adverts',\n",
       " 'advice',\n",
       " 'advise',\n",
       " 'advised',\n",
       " 'adviser',\n",
       " 'advises',\n",
       " 'advocate',\n",
       " 'aeon',\n",
       " 'aerial',\n",
       " 'aesthetic',\n",
       " 'aesthetically',\n",
       " 'aesthetics',\n",
       " 'afar',\n",
       " 'affable',\n",
       " 'affair',\n",
       " 'affairs',\n",
       " 'affect',\n",
       " 'affected',\n",
       " 'affecting',\n",
       " 'affection',\n",
       " 'affectionate',\n",
       " 'affectionately',\n",
       " 'affections',\n",
       " 'affects',\n",
       " 'affinity',\n",
       " 'affleck',\n",
       " 'afflicted',\n",
       " 'affliction',\n",
       " 'affluent',\n",
       " 'afford',\n",
       " 'affordable',\n",
       " 'afforded',\n",
       " 'affords',\n",
       " 'afghan',\n",
       " 'afghanistan',\n",
       " 'afi',\n",
       " 'aficionado',\n",
       " 'aficionados',\n",
       " 'afloat',\n",
       " 'afoot',\n",
       " 'aforementioned',\n",
       " 'afoul',\n",
       " 'afraid',\n",
       " 'africa',\n",
       " 'african',\n",
       " 'africanamerican',\n",
       " 'africanamericans',\n",
       " 'africans',\n",
       " 'afro',\n",
       " 'afroamerican',\n",
       " 'afroreggae',\n",
       " 'afterall',\n",
       " 'afterlife',\n",
       " 'aftermath',\n",
       " 'afternoon',\n",
       " 'afternoons',\n",
       " 'afterschool',\n",
       " 'aftertaste',\n",
       " 'afterthought',\n",
       " 'afterward',\n",
       " 'afterwards',\n",
       " 'afterwords',\n",
       " 'agar',\n",
       " 'agatha',\n",
       " 'age',\n",
       " 'aged',\n",
       " 'ageing',\n",
       " 'agencies',\n",
       " 'agency',\n",
       " 'agenda',\n",
       " 'agendas',\n",
       " 'agent',\n",
       " 'agents',\n",
       " 'ageold',\n",
       " 'ages',\n",
       " 'aggravating',\n",
       " 'aggression',\n",
       " 'aggressive',\n",
       " 'aggressively',\n",
       " 'aghast',\n",
       " 'aging',\n",
       " 'agitated',\n",
       " 'agnes',\n",
       " 'ago',\n",
       " 'agonizing',\n",
       " 'agonizingly',\n",
       " 'agony',\n",
       " 'agree',\n",
       " 'agreeable',\n",
       " 'agreed',\n",
       " 'agreeing',\n",
       " 'agreement',\n",
       " 'agrees',\n",
       " 'agutter',\n",
       " 'ah',\n",
       " 'aha',\n",
       " 'ahead',\n",
       " 'ahem',\n",
       " 'ahh',\n",
       " 'ahmad',\n",
       " 'ai',\n",
       " 'aid',\n",
       " 'aidan',\n",
       " 'aide',\n",
       " 'aided',\n",
       " 'aiden',\n",
       " 'aiding',\n",
       " 'aids',\n",
       " 'aiello',\n",
       " 'ailing',\n",
       " 'aim',\n",
       " 'aime',\n",
       " 'aimed',\n",
       " 'aimee',\n",
       " 'aiming',\n",
       " 'aimless',\n",
       " 'aimlessly',\n",
       " 'aims',\n",
       " 'air',\n",
       " 'aircraft',\n",
       " 'aired',\n",
       " 'airhead',\n",
       " 'airing',\n",
       " 'airline',\n",
       " 'airliner',\n",
       " 'airplane',\n",
       " 'airplanes',\n",
       " 'airport',\n",
       " 'airs',\n",
       " 'airwaves',\n",
       " 'airwolf',\n",
       " 'aishwarya',\n",
       " 'aisle',\n",
       " 'aisles',\n",
       " 'aj',\n",
       " 'ajay',\n",
       " 'ak',\n",
       " 'aka',\n",
       " 'akasha',\n",
       " 'akhnaton',\n",
       " 'akin',\n",
       " 'akira',\n",
       " 'akroyd',\n",
       " 'akshay',\n",
       " 'akshaye',\n",
       " 'al',\n",
       " 'ala',\n",
       " 'alabama',\n",
       " 'aladdin',\n",
       " 'alain',\n",
       " 'alamo',\n",
       " 'alan',\n",
       " 'alarm',\n",
       " 'alarming',\n",
       " 'alarms',\n",
       " 'alas',\n",
       " 'alaska',\n",
       " 'alastair',\n",
       " 'alba',\n",
       " 'albeit',\n",
       " 'albert',\n",
       " 'alberto',\n",
       " 'album',\n",
       " 'albums',\n",
       " 'alcatraz',\n",
       " 'alcohol',\n",
       " 'alcoholic',\n",
       " 'alcoholics',\n",
       " 'alcoholism',\n",
       " 'alda',\n",
       " 'aldo',\n",
       " 'ale',\n",
       " 'alec',\n",
       " 'alejandro',\n",
       " 'alert',\n",
       " 'alex',\n",
       " 'alexander',\n",
       " 'alexandra',\n",
       " 'alexandre',\n",
       " 'alexis',\n",
       " 'alfonso',\n",
       " 'alfre',\n",
       " 'alfred',\n",
       " 'ali',\n",
       " 'alias',\n",
       " 'alibi',\n",
       " 'alice',\n",
       " 'alicia',\n",
       " 'alien',\n",
       " 'alienate',\n",
       " 'alienated',\n",
       " 'alienating',\n",
       " 'alienation',\n",
       " 'aliens',\n",
       " 'alike',\n",
       " 'alison',\n",
       " 'alist',\n",
       " 'alistair',\n",
       " 'alive',\n",
       " 'allamerican',\n",
       " 'allan',\n",
       " 'allaround',\n",
       " 'alleged',\n",
       " 'allegedly',\n",
       " 'allegiance',\n",
       " 'allegorical',\n",
       " 'allegory',\n",
       " 'allegra',\n",
       " 'allen',\n",
       " 'allende',\n",
       " 'allergic',\n",
       " 'alley',\n",
       " 'alleys',\n",
       " 'alliance',\n",
       " 'alliances',\n",
       " 'allied',\n",
       " 'allies',\n",
       " 'alligator',\n",
       " 'allinall',\n",
       " 'allison',\n",
       " 'allout',\n",
       " 'allow',\n",
       " 'allowed',\n",
       " 'allowing',\n",
       " 'allows',\n",
       " 'allstar',\n",
       " 'allthe',\n",
       " 'alltime',\n",
       " 'alluded',\n",
       " 'alludes',\n",
       " 'allure',\n",
       " 'alluring',\n",
       " 'allusion',\n",
       " 'allusions',\n",
       " 'ally',\n",
       " 'allyson',\n",
       " 'alma',\n",
       " 'almasy',\n",
       " 'almighty',\n",
       " 'almodovar',\n",
       " 'almost',\n",
       " 'alone',\n",
       " 'along',\n",
       " 'alongside',\n",
       " 'aloof',\n",
       " 'alot',\n",
       " 'aloud',\n",
       " 'alpha',\n",
       " 'alphabet',\n",
       " 'already',\n",
       " 'alright',\n",
       " 'also',\n",
       " 'altar',\n",
       " 'alter',\n",
       " 'altered',\n",
       " 'alterego',\n",
       " 'altering',\n",
       " 'alternate',\n",
       " 'alternately',\n",
       " 'alternates',\n",
       " 'alternating',\n",
       " 'alternative',\n",
       " 'alters',\n",
       " 'although',\n",
       " 'altman',\n",
       " 'altogether',\n",
       " 'aluminum',\n",
       " 'alumni',\n",
       " 'alvin',\n",
       " 'always',\n",
       " 'alyson',\n",
       " 'alyssa',\n",
       " 'amadeus',\n",
       " 'amalgam',\n",
       " 'amanda',\n",
       " 'amar',\n",
       " 'amateur',\n",
       " 'amateurish',\n",
       " 'amateurishly',\n",
       " 'amateurs',\n",
       " 'amato',\n",
       " 'amaze',\n",
       " 'amazed',\n",
       " 'amazement',\n",
       " 'amazes',\n",
       " 'amazing',\n",
       " 'amazingly',\n",
       " 'amazon',\n",
       " 'amazoncom',\n",
       " 'ambassador',\n",
       " 'amber',\n",
       " 'ambiance',\n",
       " 'ambient',\n",
       " 'ambiguities',\n",
       " 'ambiguity',\n",
       " 'ambiguous',\n",
       " 'ambition',\n",
       " 'ambitions',\n",
       " 'ambitious',\n",
       " 'ambivalence',\n",
       " 'ambivalent',\n",
       " 'ambulance',\n",
       " 'ambush',\n",
       " 'ambushed',\n",
       " 'amc',\n",
       " 'ameche',\n",
       " 'amelia',\n",
       " 'amelie',\n",
       " 'amelio',\n",
       " 'amen',\n",
       " 'amenabar',\n",
       " 'amenbar',\n",
       " 'amends',\n",
       " 'america',\n",
       " 'american',\n",
       " 'americana',\n",
       " 'americanized',\n",
       " 'americans',\n",
       " 'americas',\n",
       " 'ames',\n",
       " 'ami',\n",
       " 'amiable',\n",
       " 'amicus',\n",
       " 'amid',\n",
       " 'amidst',\n",
       " 'amin',\n",
       " 'amir',\n",
       " 'amiss',\n",
       " 'amitabh',\n",
       " 'amityville',\n",
       " 'ammo',\n",
       " 'ammunition',\n",
       " 'amnesia',\n",
       " 'amnesiac',\n",
       " 'amok',\n",
       " 'among',\n",
       " 'amongst',\n",
       " 'amoral',\n",
       " 'amore',\n",
       " 'amorous',\n",
       " 'amos',\n",
       " 'amount',\n",
       " 'amounts',\n",
       " 'amour',\n",
       " 'ample',\n",
       " 'amplified',\n",
       " 'amrita',\n",
       " 'amsterdam',\n",
       " 'amudha',\n",
       " 'amulet',\n",
       " 'amuse',\n",
       " 'amused',\n",
       " 'amusement',\n",
       " 'amuses',\n",
       " 'amusing',\n",
       " 'amusingly',\n",
       " 'amy',\n",
       " 'ana',\n",
       " 'anachronism',\n",
       " 'anachronisms',\n",
       " 'anachronistic',\n",
       " 'anaconda',\n",
       " 'anakin',\n",
       " 'anal',\n",
       " 'analogy',\n",
       " 'analyse',\n",
       " 'analysis',\n",
       " 'analyst',\n",
       " 'analyze',\n",
       " 'analyzed',\n",
       " 'analyzing',\n",
       " 'anamorphic',\n",
       " 'anand',\n",
       " 'anarchic',\n",
       " 'anarchy',\n",
       " 'anastasia',\n",
       " 'anatomy',\n",
       " 'ancestor',\n",
       " 'ancestors',\n",
       " 'ancestry',\n",
       " 'anchor',\n",
       " 'anchorman',\n",
       " 'anchors',\n",
       " 'ancient',\n",
       " 'andaz',\n",
       " 'anders',\n",
       " 'andersen',\n",
       " 'anderson',\n",
       " 'andersson',\n",
       " 'andie',\n",
       " 'andr',\n",
       " 'andre',\n",
       " 'andrea',\n",
       " 'andreas',\n",
       " 'andrei',\n",
       " 'andrew',\n",
       " 'andrews',\n",
       " 'android',\n",
       " 'andy',\n",
       " 'anecdote',\n",
       " 'anecdotes',\n",
       " 'anemic',\n",
       " 'anew',\n",
       " 'ang',\n",
       " 'angel',\n",
       " 'angela',\n",
       " 'angeles',\n",
       " 'angelic',\n",
       " 'angelica',\n",
       " 'angelina',\n",
       " 'angelo',\n",
       " 'angelopoulos',\n",
       " 'angels',\n",
       " 'anger',\n",
       " 'angered',\n",
       " 'angers',\n",
       " 'angie',\n",
       " 'angle',\n",
       " 'angles',\n",
       " 'angrily',\n",
       " 'angry',\n",
       " 'angst',\n",
       " 'anguish',\n",
       " 'anguished',\n",
       " 'angus',\n",
       " 'anil',\n",
       " 'animal',\n",
       " 'animals',\n",
       " 'animate',\n",
       " 'animated',\n",
       " 'animation',\n",
       " 'animations',\n",
       " 'animator',\n",
       " 'animators',\n",
       " 'animatrix',\n",
       " 'animatronics',\n",
       " 'anime',\n",
       " 'animosity',\n",
       " 'aniston',\n",
       " 'anita',\n",
       " 'anjelica',\n",
       " 'ankle',\n",
       " 'ann',\n",
       " 'anna',\n",
       " 'annabelle',\n",
       " 'annals',\n",
       " 'anne',\n",
       " 'annemarie',\n",
       " 'annette',\n",
       " 'annie',\n",
       " 'anniversary',\n",
       " 'annmargret',\n",
       " 'announce',\n",
       " 'announced',\n",
       " 'announcement',\n",
       " 'announcer',\n",
       " 'announces',\n",
       " 'announcing',\n",
       " 'annoy',\n",
       " 'annoyance',\n",
       " 'annoyed',\n",
       " 'annoying',\n",
       " 'annoyingly',\n",
       " 'annoys',\n",
       " 'annual',\n",
       " 'anomaly',\n",
       " 'anonymous',\n",
       " 'anorexic',\n",
       " 'another',\n",
       " 'answer',\n",
       " 'answered',\n",
       " 'answering',\n",
       " 'answers',\n",
       " 'ant',\n",
       " 'antagonist',\n",
       " 'antagonistic',\n",
       " 'antagonists',\n",
       " 'antarctica',\n",
       " 'antena',\n",
       " 'anthem',\n",
       " 'anthologies',\n",
       " 'anthology',\n",
       " 'anthony',\n",
       " 'anthropologist',\n",
       " 'anti',\n",
       " 'antiamerican',\n",
       " 'antichrist',\n",
       " 'anticipate',\n",
       " 'anticipated',\n",
       " 'anticipates',\n",
       " 'anticipating',\n",
       " 'anticipation',\n",
       " 'anticlimactic',\n",
       " 'anticlimatic',\n",
       " 'anticlimax',\n",
       " 'antics',\n",
       " 'antidote',\n",
       " 'antidrug',\n",
       " 'antiestablishment',\n",
       " 'antifreeze',\n",
       " 'antihero',\n",
       " 'antiheroes',\n",
       " 'antimatter',\n",
       " 'antiquated',\n",
       " 'antique',\n",
       " 'antiques',\n",
       " 'antisemitic',\n",
       " 'antisemitism',\n",
       " 'antisocial',\n",
       " 'antithesis',\n",
       " 'antiwar',\n",
       " 'antoine',\n",
       " 'anton',\n",
       " 'antonio',\n",
       " 'antonioni',\n",
       " 'antony',\n",
       " 'ants',\n",
       " 'antwerp',\n",
       " 'antwone',\n",
       " 'antz',\n",
       " 'anu',\n",
       " 'anupam',\n",
       " 'anwar',\n",
       " 'anxiety',\n",
       " 'anxious',\n",
       " 'anxiously',\n",
       " 'anybody',\n",
       " 'anyhow',\n",
       " 'anymore',\n",
       " 'anyone',\n",
       " 'anything',\n",
       " 'anytime',\n",
       " 'anyway',\n",
       " 'anyways',\n",
       " 'anywhere',\n",
       " 'ap',\n",
       " 'apache',\n",
       " 'aparna',\n",
       " 'apart',\n",
       " 'apartheid',\n",
       " 'apartment',\n",
       " 'apartments',\n",
       " 'apathetic',\n",
       " 'apathy',\n",
       " 'ape',\n",
       " 'apes',\n",
       " 'aplenty',\n",
       " 'aplomb',\n",
       " 'apna',\n",
       " 'apocalypse',\n",
       " 'apocalyptic',\n",
       " 'apollo',\n",
       " 'apologies',\n",
       " 'apologise',\n",
       " 'apologize',\n",
       " 'apologizes',\n",
       " 'apologizing',\n",
       " 'apology',\n",
       " 'appalled',\n",
       " 'appalling',\n",
       " 'appallingly',\n",
       " 'apparent',\n",
       " 'apparently',\n",
       " 'appeal',\n",
       " 'appealed',\n",
       " 'appealing',\n",
       " 'appeals',\n",
       " 'appear',\n",
       " 'appearance',\n",
       " 'appearances',\n",
       " 'appeared',\n",
       " 'appearing',\n",
       " 'appears',\n",
       " 'appease',\n",
       " 'appetite',\n",
       " 'applaud',\n",
       " 'applauded',\n",
       " 'applause',\n",
       " 'apple',\n",
       " 'applegate',\n",
       " 'apples',\n",
       " 'appliances',\n",
       " 'applicable',\n",
       " 'application',\n",
       " 'applied',\n",
       " 'applies',\n",
       " 'apply',\n",
       " 'applying',\n",
       " 'appointed',\n",
       " 'appointment',\n",
       " 'appreciate',\n",
       " 'appreciated',\n",
       " 'appreciates',\n",
       " 'appreciating',\n",
       " 'appreciation',\n",
       " 'appreciative',\n",
       " 'apprehensive',\n",
       " 'apprentice',\n",
       " 'approach',\n",
       " 'approached',\n",
       " 'approaches',\n",
       " 'approaching',\n",
       " 'appropriate',\n",
       " 'appropriately',\n",
       " 'approval',\n",
       " 'approve',\n",
       " 'approved',\n",
       " 'approx',\n",
       " 'approximately',\n",
       " 'april',\n",
       " 'apt',\n",
       " 'aptly',\n",
       " 'aquarium',\n",
       " 'ar',\n",
       " 'arab',\n",
       " 'arabia',\n",
       " 'arabian',\n",
       " 'arabic',\n",
       " 'arabs',\n",
       " 'aragorn',\n",
       " 'aranda',\n",
       " 'arbitrary',\n",
       " 'arbuckle',\n",
       " 'arbus',\n",
       " 'arc',\n",
       " 'arcade',\n",
       " 'arcane',\n",
       " 'arch',\n",
       " 'archaeological',\n",
       " 'archaeologist',\n",
       " 'archaic',\n",
       " 'archer',\n",
       " 'archetypal',\n",
       " 'archetype',\n",
       " 'archetypes',\n",
       " 'archibald',\n",
       " 'archie',\n",
       " 'architect',\n",
       " 'architects',\n",
       " 'architecture',\n",
       " 'archival',\n",
       " 'archive',\n",
       " 'archives',\n",
       " 'arcs',\n",
       " 'arctic',\n",
       " 'arden',\n",
       " 'ardent',\n",
       " 'arduous',\n",
       " 'area',\n",
       " 'areas',\n",
       " 'arena',\n",
       " 'argentina',\n",
       " 'argentine',\n",
       " 'argentinian',\n",
       " 'argento',\n",
       " 'arguably',\n",
       " 'argue',\n",
       " 'argued',\n",
       " 'argues',\n",
       " 'arguing',\n",
       " 'argument',\n",
       " 'arguments',\n",
       " 'ariel',\n",
       " 'arise',\n",
       " 'arises',\n",
       " 'arising',\n",
       " 'aristocats',\n",
       " 'aristocracy',\n",
       " 'aristocrat',\n",
       " 'aristocratic',\n",
       " 'aristocrats',\n",
       " 'arizona',\n",
       " 'arjun',\n",
       " 'ark',\n",
       " 'arkin',\n",
       " 'arlington',\n",
       " 'arm',\n",
       " 'armageddon',\n",
       " 'armand',\n",
       " 'armed',\n",
       " 'armies',\n",
       " 'armin',\n",
       " 'armor',\n",
       " 'armored',\n",
       " 'armour',\n",
       " 'arms',\n",
       " 'armstrong',\n",
       " ...]"
      ]
     },
     "execution_count": 23,
     "metadata": {},
     "output_type": "execute_result"
    }
   ],
   "source": [
    "vocabulary"
   ]
  },
  {
   "cell_type": "code",
   "execution_count": 24,
   "metadata": {
    "execution": {
     "iopub.execute_input": "2023-07-31T16:25:41.143673Z",
     "iopub.status.busy": "2023-07-31T16:25:41.142854Z",
     "iopub.status.idle": "2023-07-31T16:25:41.857476Z",
     "shell.execute_reply": "2023-07-31T16:25:41.856190Z",
     "shell.execute_reply.started": "2023-07-31T16:25:41.143629Z"
    }
   },
   "outputs": [
    {
     "data": {
      "application/vnd.jupyter.widget-view+json": {
       "model_id": "721be41316524cd0942ed2f53780c444",
       "version_major": 2,
       "version_minor": 0
      },
      "text/plain": [
       "VBox(children=(HBox(children=(IntProgress(value=0, description='0.00%', max=6250), Label(value='0 / 6250'))), …"
      ]
     },
     "metadata": {},
     "output_type": "display_data"
    },
    {
     "data": {
      "text/plain": [
       "0        [1, 17608, 8460, 9226, 18775, 6681, 21350, 201...\n",
       "1        [1, 21874, 397, 7784, 8356, 13590, 7786, 21027...\n",
       "2        [1, 11330, 12816, 11566, 6972, 13337, 20534, 2...\n",
       "3        [1, 2419, 12816, 7033, 8613, 16762, 1834, 1158...\n",
       "4        [1, 13590, 11923, 12253, 2916, 6486, 628, 1282...\n",
       "                               ...                        \n",
       "49995    [1, 1939, 12038, 11330, 21317, 19843, 20304, 1...\n",
       "49996    [1, 15483, 21832, 13590, 7316, 17195, 554, 169...\n",
       "49997    [1, 16690, 5138, 13541, 4498, 10224, 2779, 189...\n",
       "49998    [1, 18700, 1004, 13590, 2404, 17321, 7316, 139...\n",
       "49999    [1, 1737, 6660, 20225, 21324, 7321, 1304, 1859...\n",
       "Name: encoded sequences, Length: 50000, dtype: object"
      ]
     },
     "execution_count": 24,
     "metadata": {},
     "output_type": "execute_result"
    }
   ],
   "source": [
    "def encode_sequence(sequence):\n",
    "    sequence = split_tords_by_space(sequence)\n",
    "    return [word2int_dict[word] for word in sequence]\n",
    "\n",
    "dataset['encoded sequences'] = dataset['preprocessed text'].parallel_apply(encode_sequence)\n",
    "dataset['encoded sequences']"
   ]
  },
  {
   "cell_type": "code",
   "execution_count": 25,
   "metadata": {
    "execution": {
     "iopub.execute_input": "2023-07-31T16:25:41.859614Z",
     "iopub.status.busy": "2023-07-31T16:25:41.859232Z",
     "iopub.status.idle": "2023-07-31T16:25:41.899932Z",
     "shell.execute_reply": "2023-07-31T16:25:41.899102Z",
     "shell.execute_reply.started": "2023-07-31T16:25:41.859579Z"
    },
    "scrolled": true
   },
   "outputs": [
    {
     "data": {
      "text/plain": [
       "0        [0, 0, 0, 0, 0, 0, 0, 0, 0, 0, 0, 0, 0, 0, 0, ...\n",
       "1        [0, 0, 0, 0, 0, 0, 0, 0, 0, 0, 0, 0, 0, 0, 0, ...\n",
       "2        [0, 0, 0, 0, 0, 0, 0, 0, 0, 0, 0, 0, 0, 0, 0, ...\n",
       "3        [0, 0, 0, 0, 0, 0, 0, 0, 0, 0, 0, 0, 0, 0, 0, ...\n",
       "4        [0, 0, 0, 0, 0, 0, 0, 0, 0, 0, 0, 0, 0, 0, 0, ...\n",
       "                               ...                        \n",
       "49995    [0, 0, 0, 0, 0, 0, 0, 0, 0, 0, 0, 0, 0, 0, 0, ...\n",
       "49996    [0, 0, 0, 0, 0, 0, 0, 0, 0, 0, 0, 0, 0, 0, 0, ...\n",
       "49997    [0, 0, 0, 0, 0, 0, 0, 0, 0, 0, 0, 0, 0, 0, 0, ...\n",
       "49998    [0, 0, 0, 0, 0, 0, 0, 0, 0, 0, 0, 0, 0, 0, 0, ...\n",
       "49999    [0, 0, 0, 0, 0, 0, 0, 0, 0, 0, 0, 0, 0, 0, 0, ...\n",
       "Name: padded sequences, Length: 50000, dtype: object"
      ]
     },
     "execution_count": 25,
     "metadata": {},
     "output_type": "execute_result"
    }
   ],
   "source": [
    "maxlen = max(text_lenth)\n",
    "dataset['padded sequences'] = list(pad_sequences(dataset['encoded sequences'], max_lenth, padding='pre', value=0))\n",
    "dataset['padded sequences']"
   ]
  },
  {
   "cell_type": "code",
   "execution_count": 26,
   "metadata": {},
   "outputs": [
    {
     "data": {
      "text/plain": [
       "13704"
      ]
     },
     "execution_count": 26,
     "metadata": {},
     "output_type": "execute_result"
    }
   ],
   "source": [
    "maxlen"
   ]
  },
  {
   "cell_type": "code",
   "execution_count": 27,
   "metadata": {
    "execution": {
     "iopub.execute_input": "2023-07-31T16:25:41.901318Z",
     "iopub.status.busy": "2023-07-31T16:25:41.901009Z",
     "iopub.status.idle": "2023-07-31T16:25:41.908413Z",
     "shell.execute_reply": "2023-07-31T16:25:41.907423Z",
     "shell.execute_reply.started": "2023-07-31T16:25:41.901292Z"
    }
   },
   "outputs": [],
   "source": [
    "one_hot_vector_lenth = len(vocabulary) + 1\n",
    "# one_hot_vector_lenth"
   ]
  },
  {
   "cell_type": "code",
   "execution_count": 28,
   "metadata": {
    "execution": {
     "iopub.execute_input": "2023-07-31T16:25:41.910310Z",
     "iopub.status.busy": "2023-07-31T16:25:41.909916Z",
     "iopub.status.idle": "2023-07-31T16:25:41.919794Z",
     "shell.execute_reply": "2023-07-31T16:25:41.918844Z",
     "shell.execute_reply.started": "2023-07-31T16:25:41.910282Z"
    }
   },
   "outputs": [],
   "source": [
    "def get_one_hot_vector_by_index(index, lenth):\n",
    "    vector = np.zeros((lenth))\n",
    "    vector[index] = 1\n",
    "    return vector\n",
    "\n",
    "def get_one_hot_vector_by_word(word, lenth):\n",
    "    index = word2int_dict[word]\n",
    "    return get_one_hot_vector_by_index(index, lenth)\n",
    "\n",
    "def get_index_by_one_hot_vector(vector):\n",
    "    return np.argmax(vector)\n",
    "\n",
    "def get_word_by_index_one_hot(index):\n",
    "    return int2word_dict[index]\n",
    "\n",
    "def encode_secquence_one_hot(sequence):\n",
    "    return np.array(list(map(lambda a: get_one_hot_vector_by_index(a, one_hot_vector_lenth), sequence)))"
   ]
  },
  {
   "cell_type": "code",
   "execution_count": 29,
   "metadata": {
    "execution": {
     "iopub.execute_input": "2023-07-31T16:25:41.928068Z",
     "iopub.status.busy": "2023-07-31T16:25:41.927729Z",
     "iopub.status.idle": "2023-07-31T16:25:43.288082Z",
     "shell.execute_reply": "2023-07-31T16:25:43.286434Z",
     "shell.execute_reply.started": "2023-07-31T16:25:41.928041Z"
    }
   },
   "outputs": [],
   "source": [
    "# dataset['one hot'] = dataset['padded sequences'].parallel_apply(encode_secquence_one_hot)\n",
    "# dataset['one hot']"
   ]
  },
  {
   "cell_type": "markdown",
   "metadata": {},
   "source": [
    "# WORD2VEC"
   ]
  },
  {
   "cell_type": "code",
   "execution_count": 30,
   "metadata": {},
   "outputs": [
    {
     "name": "stdout",
     "output_type": "stream",
     "text": [
      "Requirement already satisfied: torch in ./venv/lib/python3.10/site-packages (2.0.1)\n",
      "Requirement already satisfied: gensim in ./venv/lib/python3.10/site-packages (4.3.1)\n",
      "Requirement already satisfied: scikit-learn in ./venv/lib/python3.10/site-packages (1.3.0)\n",
      "Requirement already satisfied: filelock in ./venv/lib/python3.10/site-packages (from torch) (3.12.2)\n",
      "Requirement already satisfied: sympy in ./venv/lib/python3.10/site-packages (from torch) (1.12)\n",
      "Requirement already satisfied: nvidia-cusparse-cu11==11.7.4.91 in ./venv/lib/python3.10/site-packages (from torch) (11.7.4.91)\n",
      "Requirement already satisfied: networkx in ./venv/lib/python3.10/site-packages (from torch) (3.1)\n",
      "Requirement already satisfied: nvidia-cuda-cupti-cu11==11.7.101 in ./venv/lib/python3.10/site-packages (from torch) (11.7.101)\n",
      "Requirement already satisfied: nvidia-curand-cu11==10.2.10.91 in ./venv/lib/python3.10/site-packages (from torch) (10.2.10.91)\n",
      "Requirement already satisfied: nvidia-cudnn-cu11==8.5.0.96 in ./venv/lib/python3.10/site-packages (from torch) (8.5.0.96)\n",
      "Requirement already satisfied: jinja2 in ./venv/lib/python3.10/site-packages (from torch) (3.1.2)\n",
      "Requirement already satisfied: nvidia-cublas-cu11==11.10.3.66 in ./venv/lib/python3.10/site-packages (from torch) (11.10.3.66)\n",
      "Requirement already satisfied: nvidia-nvtx-cu11==11.7.91 in ./venv/lib/python3.10/site-packages (from torch) (11.7.91)\n",
      "Requirement already satisfied: nvidia-cuda-nvrtc-cu11==11.7.99 in ./venv/lib/python3.10/site-packages (from torch) (11.7.99)\n",
      "Requirement already satisfied: nvidia-cuda-runtime-cu11==11.7.99 in ./venv/lib/python3.10/site-packages (from torch) (11.7.99)\n",
      "Requirement already satisfied: typing-extensions in ./venv/lib/python3.10/site-packages (from torch) (4.5.0)\n",
      "Requirement already satisfied: nvidia-cusolver-cu11==11.4.0.1 in ./venv/lib/python3.10/site-packages (from torch) (11.4.0.1)\n",
      "Requirement already satisfied: triton==2.0.0 in ./venv/lib/python3.10/site-packages (from torch) (2.0.0)\n",
      "Requirement already satisfied: nvidia-cufft-cu11==10.9.0.58 in ./venv/lib/python3.10/site-packages (from torch) (10.9.0.58)\n",
      "Requirement already satisfied: nvidia-nccl-cu11==2.14.3 in ./venv/lib/python3.10/site-packages (from torch) (2.14.3)\n",
      "Requirement already satisfied: setuptools in ./venv/lib/python3.10/site-packages (from nvidia-cublas-cu11==11.10.3.66->torch) (59.6.0)\n",
      "Requirement already satisfied: wheel in ./venv/lib/python3.10/site-packages (from nvidia-cublas-cu11==11.10.3.66->torch) (0.41.1)\n",
      "Requirement already satisfied: lit in ./venv/lib/python3.10/site-packages (from triton==2.0.0->torch) (16.0.6)\n",
      "Requirement already satisfied: cmake in ./venv/lib/python3.10/site-packages (from triton==2.0.0->torch) (3.27.1)\n",
      "Requirement already satisfied: smart-open>=1.8.1 in ./venv/lib/python3.10/site-packages (from gensim) (6.3.0)\n",
      "Requirement already satisfied: numpy>=1.18.5 in ./venv/lib/python3.10/site-packages (from gensim) (1.24.3)\n",
      "Requirement already satisfied: scipy>=1.7.0 in ./venv/lib/python3.10/site-packages (from gensim) (1.11.1)\n",
      "Requirement already satisfied: threadpoolctl>=2.0.0 in ./venv/lib/python3.10/site-packages (from scikit-learn) (3.2.0)\n",
      "Requirement already satisfied: joblib>=1.1.1 in ./venv/lib/python3.10/site-packages (from scikit-learn) (1.3.1)\n",
      "Requirement already satisfied: MarkupSafe>=2.0 in ./venv/lib/python3.10/site-packages (from jinja2->torch) (2.1.3)\n",
      "Requirement already satisfied: mpmath>=0.19 in ./venv/lib/python3.10/site-packages (from sympy->torch) (1.3.0)\n"
     ]
    }
   ],
   "source": [
    "! pip install torch gensim scikit-learn"
   ]
  },
  {
   "cell_type": "code",
   "execution_count": 31,
   "metadata": {
    "execution": {
     "iopub.status.busy": "2023-07-31T16:25:43.289010Z",
     "iopub.status.idle": "2023-07-31T16:25:43.289486Z",
     "shell.execute_reply": "2023-07-31T16:25:43.289291Z",
     "shell.execute_reply.started": "2023-07-31T16:25:43.289269Z"
    }
   },
   "outputs": [],
   "source": [
    "from gensim.test.utils import common_texts\n",
    "from gensim.models import Word2Vec\n",
    "\n",
    "import torch.nn as nn\n",
    "from torch.utils.data import Dataset, DataLoader\n",
    "import torch\n",
    "\n",
    "\n",
    "from sklearn.model_selection import train_test_split\n",
    "from sklearn.metrics import accuracy_score"
   ]
  },
  {
   "cell_type": "code",
   "execution_count": 32,
   "metadata": {
    "execution": {
     "iopub.status.busy": "2023-07-31T16:25:43.291336Z",
     "iopub.status.idle": "2023-07-31T16:25:43.291815Z",
     "shell.execute_reply": "2023-07-31T16:25:43.291618Z",
     "shell.execute_reply.started": "2023-07-31T16:25:43.291589Z"
    }
   },
   "outputs": [],
   "source": [
    "corpus = dataset['encoded sequences']"
   ]
  },
  {
   "cell_type": "code",
   "execution_count": 33,
   "metadata": {},
   "outputs": [
    {
     "data": {
      "text/plain": [
       "0        [1, 17608, 8460, 9226, 18775, 6681, 21350, 201...\n",
       "1        [1, 21874, 397, 7784, 8356, 13590, 7786, 21027...\n",
       "2        [1, 11330, 12816, 11566, 6972, 13337, 20534, 2...\n",
       "3        [1, 2419, 12816, 7033, 8613, 16762, 1834, 1158...\n",
       "4        [1, 13590, 11923, 12253, 2916, 6486, 628, 1282...\n",
       "                               ...                        \n",
       "49995    [1, 1939, 12038, 11330, 21317, 19843, 20304, 1...\n",
       "49996    [1, 15483, 21832, 13590, 7316, 17195, 554, 169...\n",
       "49997    [1, 16690, 5138, 13541, 4498, 10224, 2779, 189...\n",
       "49998    [1, 18700, 1004, 13590, 2404, 17321, 7316, 139...\n",
       "49999    [1, 1737, 6660, 20225, 21324, 7321, 1304, 1859...\n",
       "Name: encoded sequences, Length: 50000, dtype: object"
      ]
     },
     "execution_count": 33,
     "metadata": {},
     "output_type": "execute_result"
    }
   ],
   "source": [
    "corpus"
   ]
  },
  {
   "cell_type": "code",
   "execution_count": 34,
   "metadata": {
    "execution": {
     "iopub.status.busy": "2023-07-31T16:25:43.293176Z",
     "iopub.status.idle": "2023-07-31T16:25:43.293655Z",
     "shell.execute_reply": "2023-07-31T16:25:43.293438Z",
     "shell.execute_reply.started": "2023-07-31T16:25:43.293419Z"
    }
   },
   "outputs": [],
   "source": [
    "embed_dim = 300\n",
    "w2v_model = Word2Vec(sentences=corpus, vector_size=embed_dim, window=3, min_count=0, workers=4)"
   ]
  },
  {
   "cell_type": "code",
   "execution_count": 35,
   "metadata": {
    "execution": {
     "iopub.status.busy": "2023-07-31T16:25:43.296441Z",
     "iopub.status.idle": "2023-07-31T16:25:43.297035Z",
     "shell.execute_reply": "2023-07-31T16:25:43.296833Z",
     "shell.execute_reply.started": "2023-07-31T16:25:43.296812Z"
    },
    "scrolled": true
   },
   "outputs": [
    {
     "name": "stderr",
     "output_type": "stream",
     "text": [
      "/tmp/ipykernel_22680/3650545437.py:3: UserWarning: The given NumPy array is not writable, and PyTorch does not support non-writable tensors. This means writing to this tensor will result in undefined behavior. You may want to copy the array to protect its data or make it writable before converting it to a tensor. This type of warning will be suppressed for the rest of this program. (Triggered internally at ../torch/csrc/utils/tensor_numpy.cpp:206.)\n",
      "  vec = torch.FloatTensor(w2v_model.wv.get_vector(word)).view((embed_dim))\n"
     ]
    }
   ],
   "source": [
    "w2v_matrix = np.zeros((one_hot_vector_lenth, embed_dim))\n",
    "for index, word in enumerate(sorted(w2v_model.wv.index_to_key), 1):\n",
    "    vec = torch.FloatTensor(w2v_model.wv.get_vector(word)).view((embed_dim))\n",
    "\n",
    "    w2v_matrix[index] = vec"
   ]
  },
  {
   "cell_type": "code",
   "execution_count": null,
   "metadata": {},
   "outputs": [],
   "source": []
  },
  {
   "cell_type": "code",
   "execution_count": 37,
   "metadata": {},
   "outputs": [
    {
     "data": {
      "text/plain": [
       "300"
      ]
     },
     "execution_count": 37,
     "metadata": {},
     "output_type": "execute_result"
    }
   ],
   "source": [
    "w2v_matrix.shape[1]"
   ]
  },
  {
   "cell_type": "code",
   "execution_count": 38,
   "metadata": {
    "execution": {
     "iopub.status.busy": "2023-07-31T16:25:43.299102Z",
     "iopub.status.idle": "2023-07-31T16:25:43.299561Z",
     "shell.execute_reply": "2023-07-31T16:25:43.299373Z",
     "shell.execute_reply.started": "2023-07-31T16:25:43.299352Z"
    }
   },
   "outputs": [],
   "source": [
    "def split_data(data, labels, test_size=0.2, random_state=None):\n",
    "    train_data, test_data, train_labels, test_labels = train_test_split(\n",
    "        data, labels, test_size=test_size, random_state=random_state\n",
    "    )\n",
    "    return train_data, test_data, train_labels, test_labels\n"
   ]
  },
  {
   "cell_type": "code",
   "execution_count": 39,
   "metadata": {
    "execution": {
     "iopub.status.busy": "2023-07-31T16:25:43.302109Z",
     "iopub.status.idle": "2023-07-31T16:25:43.302666Z",
     "shell.execute_reply": "2023-07-31T16:25:43.302426Z",
     "shell.execute_reply.started": "2023-07-31T16:25:43.302405Z"
    }
   },
   "outputs": [],
   "source": [
    "class TextDataset(Dataset):\n",
    "    def __init__(self, data, labels):\n",
    "        self.data = data\n",
    "        self.labels = labels\n",
    "        \n",
    "    def __len__(self):\n",
    "        return len(self.data)\n",
    "    \n",
    "    def __getitem__(self, index):\n",
    "        text = self.data[index]\n",
    "        label = self.labels[index]\n",
    "        return torch.tensor(text), torch.tensor(label)\n"
   ]
  },
  {
   "cell_type": "code",
   "execution_count": 40,
   "metadata": {},
   "outputs": [],
   "source": [
    "device = 'cuda' if torch.cuda.is_available() else 'cpu'"
   ]
  },
  {
   "cell_type": "code",
   "execution_count": null,
   "metadata": {
    "scrolled": true
   },
   "outputs": [],
   "source": []
  },
  {
   "cell_type": "code",
   "execution_count": 41,
   "metadata": {
    "execution": {
     "iopub.status.busy": "2023-07-31T16:25:43.304036Z",
     "iopub.status.idle": "2023-07-31T16:25:43.304506Z",
     "shell.execute_reply": "2023-07-31T16:25:43.304315Z",
     "shell.execute_reply.started": "2023-07-31T16:25:43.304295Z"
    }
   },
   "outputs": [],
   "source": [
    "data = np.array(dataset['padded sequences'])\n",
    "labels = np.array(dataset['target'] > 5).astype(int)\n",
    "\n",
    "train_data, test_data, train_labels, test_labels = split_data(data[:], labels[:], test_size=0.2, random_state=42)"
   ]
  },
  {
   "cell_type": "code",
   "execution_count": 42,
   "metadata": {},
   "outputs": [
    {
     "data": {
      "text/plain": [
       "array([1, 1, 1, ..., 0, 0, 0])"
      ]
     },
     "execution_count": 42,
     "metadata": {},
     "output_type": "execute_result"
    }
   ],
   "source": [
    "labels"
   ]
  },
  {
   "cell_type": "code",
   "execution_count": 43,
   "metadata": {
    "execution": {
     "iopub.status.busy": "2023-07-31T16:25:43.307530Z",
     "iopub.status.idle": "2023-07-31T16:25:43.308055Z",
     "shell.execute_reply": "2023-07-31T16:25:43.307862Z",
     "shell.execute_reply.started": "2023-07-31T16:25:43.307841Z"
    }
   },
   "outputs": [],
   "source": [
    "batch_size = 128\n",
    "hidden_dim = 300\n",
    "output_labels = 1\n",
    "n_epochs = 100\n",
    "learning_rate = 0.001\n"
   ]
  },
  {
   "cell_type": "code",
   "execution_count": 44,
   "metadata": {
    "execution": {
     "iopub.status.busy": "2023-07-31T16:25:43.309936Z",
     "iopub.status.idle": "2023-07-31T16:25:43.310471Z",
     "shell.execute_reply": "2023-07-31T16:25:43.310278Z",
     "shell.execute_reply.started": "2023-07-31T16:25:43.310257Z"
    }
   },
   "outputs": [],
   "source": [
    "train_dataset = TextDataset(train_data, train_labels)\n",
    "test_dataset = TextDataset(test_data, test_labels)\n",
    "train_dataloader = DataLoader(train_dataset, batch_size=batch_size, shuffle=True)\n",
    "test_dataloader = DataLoader(test_dataset, batch_size=1, shuffle=True)"
   ]
  },
  {
   "cell_type": "code",
   "execution_count": 45,
   "metadata": {
    "execution": {
     "iopub.status.busy": "2023-07-31T16:25:43.312789Z",
     "iopub.status.idle": "2023-07-31T16:25:43.313247Z",
     "shell.execute_reply": "2023-07-31T16:25:43.313056Z",
     "shell.execute_reply.started": "2023-07-31T16:25:43.313035Z"
    }
   },
   "outputs": [],
   "source": [
    "class BinaryTextClassifier(nn.Module):\n",
    "    def __init__(self, embedding_matrix, hidden_dim, output_labels):\n",
    "        super(BinaryTextClassifier, self).__init__()\n",
    "        self.embedding = nn.Embedding.from_pretrained(torch.FloatTensor(embedding_matrix), freeze=True)\n",
    "        self.lstm = nn.LSTM(input_size=embed_dim, hidden_size=hidden_dim, batch_first=True)\n",
    "        self.fc = nn.Linear(hidden_dim, 1)\n",
    "        \n",
    "    def forward(self, text):\n",
    "        embedded = self.embedding(text) \n",
    "        lstm_out, _ = self.lstm(embedded)\n",
    "        lstm_avg = torch.mean(lstm_out, dim=1)\n",
    "        output = self.fc(lstm_avg).squeeze(1)  # Squeeze to make the shape (batch_size,)\n",
    "        return output"
   ]
  },
  {
   "cell_type": "code",
   "execution_count": 46,
   "metadata": {
    "execution": {
     "iopub.status.busy": "2023-07-31T16:25:43.315301Z",
     "iopub.status.idle": "2023-07-31T16:25:43.315838Z",
     "shell.execute_reply": "2023-07-31T16:25:43.315641Z",
     "shell.execute_reply.started": "2023-07-31T16:25:43.315619Z"
    },
    "scrolled": true
   },
   "outputs": [],
   "source": [
    "device = torch.device(\"cuda:0\" if torch.cuda.is_available() else \"cpu\")\n",
    "model = BinaryTextClassifier(w2v_matrix, hidden_dim, output_labels)\n",
    "model = model.to(device)\n",
    "\n",
    "\n",
    "criterion = nn.BCEWithLogitsLoss()\n",
    "optimizer = torch.optim.Adam(model.parameters(), lr=learning_rate)\n"
   ]
  },
  {
   "cell_type": "code",
   "execution_count": 47,
   "metadata": {},
   "outputs": [],
   "source": [
    "def get_accuracy(preds, labels) -> float:\n",
    "    preds = (torch.sigmoid(preds) > 0.5).float() \n",
    "#     print('torch.sigmoid(preds)', torch.sigmoid(preds))\n",
    "#     print()\n",
    "#     print('preds', preds)\n",
    "#     print()\n",
    "    accuracy = accuracy_score(labels.cpu(), preds.cpu())\n",
    "    return accuracy"
   ]
  },
  {
   "cell_type": "code",
   "execution_count": 48,
   "metadata": {},
   "outputs": [],
   "source": [
    "def train_step(model, texts, labels, optimizer, criterion) -> tuple:\n",
    "    texts, labels = texts.to(device), labels.to(device)\n",
    "\n",
    "    optimizer.zero_grad()\n",
    "\n",
    "    preds = model(texts)\n",
    "    loss = criterion(preds, labels.float())\n",
    "    loss.backward()\n",
    "    acc = get_accuracy(preds, labels)\n",
    "#     print('preds', preds)\n",
    "#     print()\n",
    "#     print('labels', labels)\n",
    "#     print()\n",
    "#     print('acc', acc)\n",
    "    optimizer.step()\n",
    "    return float(loss.cpu().detach().numpy()), float(acc)"
   ]
  },
  {
   "cell_type": "code",
   "execution_count": 49,
   "metadata": {},
   "outputs": [],
   "source": [
    "def train_epoch(model, optimizer, criterion, data):\n",
    "    epoch_loss = []\n",
    "    epoch_acc = []\n",
    "    \n",
    "    for texts, labels in data:\n",
    "        loss, acc = train_step(model, texts.to(device), labels.to(device), optimizer, criterion)\n",
    "        epoch_loss.append(loss)\n",
    "        epoch_acc.append(acc)\n",
    "        \n",
    "    return epoch_loss, epoch_acc"
   ]
  },
  {
   "cell_type": "code",
   "execution_count": 50,
   "metadata": {},
   "outputs": [],
   "source": [
    "def test_epoch(model, optimizer, criterion, data):\n",
    "    model.eval()\n",
    "    \n",
    "    epoch_loss = []\n",
    "    epoch_acc = []\n",
    "    \n",
    "    with torch.no_grad():\n",
    "        for texts, labels in data:\n",
    "            loss, acc = train_step(model, texts, labels, optimizer, criterion)\n",
    "            epoch_loss.append(loss)\n",
    "            epoch_acc.append(acc)\n",
    "        \n",
    "    return epoch_loss, epoch_acc"
   ]
  },
  {
   "cell_type": "code",
   "execution_count": 51,
   "metadata": {},
   "outputs": [],
   "source": [
    "def loop(model, optimizer, criterion, train_dataloader, test_dataloader, n_epochs):\n",
    "    train_epoch_losses = []\n",
    "    test_epoch_losses = []\n",
    "    train_epoch_acces = []\n",
    "    test_epoch_acces = []\n",
    "    \n",
    "    for epoch in range(n_epochs):\n",
    "        for loader, is_train in zip([train_dataloader, test_dataloader], [True, False]):\n",
    "            batch_iterator = tqdm(loader, unit=\"batch\", leave=True)\n",
    "            \n",
    "            epoch_loss, epoch_acc = train_epoch(model, optimizer, criterion, batch_iterator)\n",
    "\n",
    "            train_str = f\"Epoch {epoch+1}/{n_epochs} \" + f\"{'Train' if is_train else 'Test'} Loss: {np.mean(epoch_loss)/(batch_iterator.n+1):.4f} \" +f\"{'Train' if is_train else 'Test'} Accuracy: {np.mean(epoch_acc)/(batch_iterator.n+1):.4f}\" \n",
    "\n",
    "            if is_train:\n",
    "                train_epoch_losses.append(epoch_loss)\n",
    "                train_epoch_acces.append(epoch_acc)\n",
    "            else: \n",
    "                test_epoch_losses.append(epoch_loss)\n",
    "                test_epoch_acces.append(epoch_acc)\n",
    "\n",
    "#                 batch_iterator.set_description(train_str)\n",
    "            batch_iterator.set_postfix_str({\n",
    "                'epoch' : f'{epoch+1}/{n_epochs}',\n",
    "                'stage' : 'train' if is_train else 'test',\n",
    "                'loss'  : f'{np.mean(epoch_loss):.4f}',\n",
    "                'acc'   : f'{np.mean(epoch_acc):.4f}'\n",
    "            })\n",
    "            batch_iterator.update()\n",
    "#                 break\n",
    "#         break\n",
    "    history = [\n",
    "        train_epoch_losses, test_epoch_losses, train_epoch_acces, test_epoch_acces\n",
    "    ]\n",
    "    return history   "
   ]
  },
  {
   "cell_type": "code",
   "execution_count": 52,
   "metadata": {
    "scrolled": false
   },
   "outputs": [
    {
     "name": "stderr",
     "output_type": "stream",
     "text": [
      "100%|██████████████████████████████████████| 313/313 [01:51<00:00,  2.80batch/s]\n",
      "100%|██████████████████████████████████| 10000/10000 [08:48<00:00, 18.91batch/s]\n",
      "100%|██████████████████████████████████████| 313/313 [01:56<00:00,  2.70batch/s]\n",
      "100%|██████████████████████████████████| 10000/10000 [08:54<00:00, 18.72batch/s]\n",
      "100%|██████████████████████████████████████| 313/313 [02:01<00:00,  2.57batch/s]\n",
      "100%|██████████████████████████████████| 10000/10000 [09:09<00:00, 18.21batch/s]\n",
      "100%|██████████████████████████████████████| 313/313 [02:04<00:00,  2.52batch/s]\n",
      "100%|██████████████████████████████████| 10000/10000 [09:28<00:00, 17.60batch/s]\n",
      "100%|██████████████████████████████████████| 313/313 [02:01<00:00,  2.57batch/s]\n",
      "100%|██████████████████████████████████| 10000/10000 [08:52<00:00, 18.76batch/s]\n",
      "100%|██████████████████████████████████████| 313/313 [01:55<00:00,  2.71batch/s]\n",
      "100%|██████████████████████████████████| 10000/10000 [08:42<00:00, 19.13batch/s]\n",
      "100%|██████████████████████████████████████| 313/313 [01:47<00:00,  2.92batch/s]\n",
      "100%|██████████████████████████████████| 10000/10000 [09:01<00:00, 18.47batch/s]\n",
      "100%|██████████████████████████████████████| 313/313 [01:46<00:00,  2.93batch/s]\n",
      "100%|██████████████████████████████████| 10000/10000 [08:49<00:00, 18.89batch/s]\n",
      "100%|██████████████████████████████████████| 313/313 [01:49<00:00,  2.85batch/s]\n",
      "100%|██████████████████████████████████| 10000/10000 [08:58<00:00, 18.56batch/s]\n",
      "100%|██████████████████████████████████████| 313/313 [01:50<00:00,  2.84batch/s]\n",
      "100%|██████████████████████████████████| 10000/10000 [08:45<00:00, 19.05batch/s]\n",
      "100%|██████████████████████████████████████| 313/313 [01:46<00:00,  2.93batch/s]\n",
      "100%|██████████████████████████████████| 10000/10000 [08:44<00:00, 19.08batch/s]\n",
      "100%|██████████████████████████████████████| 313/313 [01:47<00:00,  2.92batch/s]\n",
      "100%|██████████████████████████████████| 10000/10000 [09:01<00:00, 18.45batch/s]\n",
      "100%|██████████████████████████████████████| 313/313 [01:46<00:00,  2.93batch/s]\n",
      "100%|██████████████████████████████████| 10000/10000 [09:03<00:00, 18.40batch/s]\n",
      "100%|██████████████████████████████████████| 313/313 [01:46<00:00,  2.94batch/s]\n",
      "100%|██████████████████████████████████| 10000/10000 [08:56<00:00, 18.64batch/s]\n",
      "100%|██████████████████████████████████████| 313/313 [01:46<00:00,  2.94batch/s]\n",
      "100%|██████████████████████████████████| 10000/10000 [09:05<00:00, 18.34batch/s]\n",
      "100%|██████████████████████████████████████| 313/313 [01:46<00:00,  2.94batch/s]\n",
      "100%|██████████████████████████████████| 10000/10000 [08:57<00:00, 18.61batch/s]\n",
      "100%|██████████████████████████████████████| 313/313 [01:47<00:00,  2.92batch/s]\n",
      "100%|██████████████████████████████████| 10000/10000 [09:03<00:00, 18.40batch/s]\n",
      "100%|██████████████████████████████████████| 313/313 [01:46<00:00,  2.94batch/s]\n",
      "100%|██████████████████████████████████| 10000/10000 [09:01<00:00, 18.46batch/s]\n",
      "100%|██████████████████████████████████████| 313/313 [01:49<00:00,  2.85batch/s]\n",
      "100%|██████████████████████████████████| 10000/10000 [08:56<00:00, 18.66batch/s]\n",
      "100%|██████████████████████████████████████| 313/313 [01:49<00:00,  2.85batch/s]\n",
      "100%|██████████████████████████████████| 10000/10000 [09:03<00:00, 18.39batch/s]\n",
      "100%|██████████████████████████████████████| 313/313 [01:46<00:00,  2.93batch/s]\n",
      "100%|██████████████████████████████████| 10000/10000 [09:01<00:00, 18.48batch/s]\n",
      "100%|██████████████████████████████████████| 313/313 [01:46<00:00,  2.94batch/s]\n",
      " 55%|███████████████████▎               | 5523/10000 [04:55<03:40, 20.27batch/s]"
     ]
    }
   ],
   "source": [
    "history = loop(model, optimizer, criterion, train_dataloader, test_dataloader, n_epochs)"
   ]
  },
  {
   "cell_type": "code",
   "execution_count": null,
   "metadata": {
    "scrolled": true
   },
   "outputs": [],
   "source": [
    "history = [\n",
    "    list\n",
    "    (map(lambda b: list(map(float, b)), a)) for a in history\n",
    "]"
   ]
  },
  {
   "cell_type": "code",
   "execution_count": null,
   "metadata": {},
   "outputs": [],
   "source": [
    "history"
   ]
  },
  {
   "cell_type": "code",
   "execution_count": 55,
   "metadata": {},
   "outputs": [],
   "source": [
    "# with open('history.txt', 'w') as file:\n",
    "#     file.write(history)"
   ]
  },
  {
   "cell_type": "code",
   "execution_count": 61,
   "metadata": {},
   "outputs": [],
   "source": [
    "import json\n",
    "with open('history300.json', 'w', encoding='utf-8') as file:\n",
    "    json.dump(history, file, ensure_ascii=False, indent=4)"
   ]
  },
  {
   "cell_type": "code",
   "execution_count": 57,
   "metadata": {},
   "outputs": [],
   "source": [
    "# plt.figure(figsize=[15, 10])\n",
    "plt.plot(list(map(np.mean, history[2])))\n",
    "plt.plot(list(map(np.mean, history[3])))\n"
   ]
  },
  {
   "cell_type": "code",
   "execution_count": 58,
   "metadata": {},
   "outputs": [],
   "source": [
    "plt.figure(figsize=[20, 10])\n",
    "plt.plot(nltk.flatten(history[0])[::5])\n",
    "# plt.plot(list(map(np.mean, history[0])))\n",
    "# plt.plot(history[3][0])"
   ]
  },
  {
   "cell_type": "code",
   "execution_count": null,
   "metadata": {},
   "outputs": [],
   "source": []
  },
  {
   "cell_type": "code",
   "execution_count": 59,
   "metadata": {
    "execution": {
     "iopub.status.busy": "2023-07-31T16:25:43.319915Z",
     "iopub.status.idle": "2023-07-31T16:25:43.320336Z",
     "shell.execute_reply": "2023-07-31T16:25:43.320160Z",
     "shell.execute_reply.started": "2023-07-31T16:25:43.320140Z"
    }
   },
   "outputs": [],
   "source": [
    "from matplotlib import pyplot as plt"
   ]
  },
  {
   "cell_type": "code",
   "execution_count": 60,
   "metadata": {
    "execution": {
     "iopub.status.busy": "2023-07-31T16:25:43.322330Z",
     "iopub.status.idle": "2023-07-31T16:25:43.322789Z",
     "shell.execute_reply": "2023-07-31T16:25:43.322585Z",
     "shell.execute_reply.started": "2023-07-31T16:25:43.322545Z"
    }
   },
   "outputs": [],
   "source": [
    "plt.plot(train_accuracies)\n",
    "plt.plot(test_accuracies)"
   ]
  },
  {
   "cell_type": "code",
   "execution_count": null,
   "metadata": {
    "execution": {
     "iopub.status.busy": "2023-07-31T16:25:43.324674Z",
     "iopub.status.idle": "2023-07-31T16:25:43.325091Z",
     "shell.execute_reply": "2023-07-31T16:25:43.324916Z",
     "shell.execute_reply.started": "2023-07-31T16:25:43.324897Z"
    }
   },
   "outputs": [],
   "source": [
    "plt.plot(train_losses)\n",
    "plt.plot(test_losses)"
   ]
  },
  {
   "cell_type": "code",
   "execution_count": null,
   "metadata": {
    "execution": {
     "iopub.status.busy": "2023-07-31T16:25:43.326997Z",
     "iopub.status.idle": "2023-07-31T16:25:43.327456Z",
     "shell.execute_reply": "2023-07-31T16:25:43.327244Z",
     "shell.execute_reply.started": "2023-07-31T16:25:43.327224Z"
    }
   },
   "outputs": [],
   "source": [
    "print(model(torch.tensor(dataset['Padded sequences'][0]).unsqueeze(0)), dataset['Sentiment'][0])"
   ]
  },
  {
   "cell_type": "code",
   "execution_count": null,
   "metadata": {
    "execution": {
     "iopub.status.busy": "2023-07-31T16:25:43.328675Z",
     "iopub.status.idle": "2023-07-31T16:25:43.329098Z",
     "shell.execute_reply": "2023-07-31T16:25:43.328916Z",
     "shell.execute_reply.started": "2023-07-31T16:25:43.328896Z"
    }
   },
   "outputs": [],
   "source": [
    "dataset['Padded sequences'][0]"
   ]
  }
 ],
 "metadata": {
  "kernelspec": {
   "display_name": "Python 3 (ipykernel)",
   "language": "python",
   "name": "python3"
  },
  "language_info": {
   "codemirror_mode": {
    "name": "ipython",
    "version": 3
   },
   "file_extension": ".py",
   "mimetype": "text/x-python",
   "name": "python",
   "nbconvert_exporter": "python",
   "pygments_lexer": "ipython3",
   "version": "3.10.6"
  },
  "widgets": {
   "application/vnd.jupyter.widget-state+json": {
    "state": {
     "0338f9ef15fd4d9ea7951cc651777ff3": {
      "model_module": "jupyter-js-widgets",
      "model_module_version": "~2.1.4",
      "model_name": "ProgressStyleModel",
      "state": {
       "_model_module_version": "~2.1.4",
       "_view_module_version": "~2.1.4"
      }
     },
     "04afa8f9986049e796a6a4aeae0c034e": {
      "model_module": "jupyter-js-widgets",
      "model_module_version": "~2.1.4",
      "model_name": "LayoutModel",
      "state": {
       "_model_module_version": "~2.1.4",
       "_view_module_version": "~2.1.4"
      }
     },
     "0524a42ef6574c02b07f17da3273e65c": {
      "model_module": "jupyter-js-widgets",
      "model_module_version": "~2.1.4",
      "model_name": "HBoxModel",
      "state": {
       "_model_module_version": "~2.1.4",
       "_view_module_version": "~2.1.4",
       "children": [
        "IPY_MODEL_3ed2f6d215444b53b8ba8bae399b4ac5",
        "IPY_MODEL_8cdce4c583ab4415807b4e705199ccb3"
       ],
       "layout": "IPY_MODEL_eeecc80cfa114f30a8b1a0c6d8df28f9"
      }
     },
     "062b66fa28194588aa719aa8ee2456f7": {
      "model_module": "jupyter-js-widgets",
      "model_module_version": "~2.1.4",
      "model_name": "HBoxModel",
      "state": {
       "_model_module_version": "~2.1.4",
       "_view_module_version": "~2.1.4",
       "children": [
        "IPY_MODEL_f5fddbcaa2b544b2b50cded4da15ec09",
        "IPY_MODEL_09cf87381f3c4f608ec562fdf743e1cc"
       ],
       "layout": "IPY_MODEL_0eb205ae650347b08d90eeb0be1793ab"
      }
     },
     "0661d7f1e5b7447199865b375c1351cd": {
      "model_module": "jupyter-js-widgets",
      "model_module_version": "~2.1.4",
      "model_name": "HBoxModel",
      "state": {
       "_model_module_version": "~2.1.4",
       "_view_module_version": "~2.1.4",
       "children": [
        "IPY_MODEL_dcc0bbc32e574e89ab1cfa0aa6cf7015",
        "IPY_MODEL_4554a4150ab44d62a0de894f0f08cae5"
       ],
       "layout": "IPY_MODEL_d28b7fd796f045a38969b7c2100b6184"
      }
     },
     "068291d3c7744970949b6435c8537b79": {
      "model_module": "jupyter-js-widgets",
      "model_module_version": "~2.1.4",
      "model_name": "ProgressStyleModel",
      "state": {
       "_model_module_version": "~2.1.4",
       "_view_module_version": "~2.1.4"
      }
     },
     "09cf87381f3c4f608ec562fdf743e1cc": {
      "model_module": "jupyter-js-widgets",
      "model_module_version": "~2.1.4",
      "model_name": "LabelModel",
      "state": {
       "_model_module_version": "~2.1.4",
       "_view_module_version": "~2.1.4",
       "layout": "IPY_MODEL_969a32d94f0a451aae31d7761154f60a",
       "value": "6250 / 6250"
      }
     },
     "0a22c79437334b9eb5c2ddfc09f78304": {
      "model_module": "jupyter-js-widgets",
      "model_module_version": "~2.1.4",
      "model_name": "LayoutModel",
      "state": {
       "_model_module_version": "~2.1.4",
       "_view_module_version": "~2.1.4"
      }
     },
     "0b6d84f78c71421eb90977db1308dd2c": {
      "model_module": "jupyter-js-widgets",
      "model_module_version": "~2.1.4",
      "model_name": "LayoutModel",
      "state": {
       "_model_module_version": "~2.1.4",
       "_view_module_version": "~2.1.4"
      }
     },
     "0bf918fab9f144e9ae1828bcb594050a": {
      "model_module": "jupyter-js-widgets",
      "model_module_version": "~2.1.4",
      "model_name": "HBoxModel",
      "state": {
       "_model_module_version": "~2.1.4",
       "_view_module_version": "~2.1.4",
       "children": [
        "IPY_MODEL_2b89f6b29d484292bdd3ae9689ba8c6a",
        "IPY_MODEL_d56ce66abfdf4035ad37bd6945e5b8ec"
       ],
       "layout": "IPY_MODEL_04afa8f9986049e796a6a4aeae0c034e"
      }
     },
     "0cfa8cd193d3496bb60f3a7b6c5387ab": {
      "model_module": "jupyter-js-widgets",
      "model_module_version": "~2.1.4",
      "model_name": "ProgressModel",
      "state": {
       "_model_module_version": "~2.1.4",
       "_view_module_version": "~2.1.4",
       "bar_style": "success",
       "description": "100.00%",
       "layout": "IPY_MODEL_8866d0177eae45088e830858b2f10d25",
       "max": 6250,
       "style": "IPY_MODEL_dd5de5ac8862494e82f82b0950997aa4",
       "value": 6250
      }
     },
     "0d40f7d1af3b460797a67b8a36645579": {
      "model_module": "jupyter-js-widgets",
      "model_module_version": "~2.1.4",
      "model_name": "LayoutModel",
      "state": {
       "_model_module_version": "~2.1.4",
       "_view_module_version": "~2.1.4"
      }
     },
     "0df171b06c3b4282904df6b4e3d8f249": {
      "model_module": "jupyter-js-widgets",
      "model_module_version": "~2.1.4",
      "model_name": "ProgressModel",
      "state": {
       "_model_module_version": "~2.1.4",
       "_view_module_version": "~2.1.4",
       "bar_style": "success",
       "description": "100.00%",
       "layout": "IPY_MODEL_552e63d85adc4803bdbf1553fbd5a37c",
       "max": 6250,
       "style": "IPY_MODEL_b94db27574824a37bf152f80aba6e94e",
       "value": 6250
      }
     },
     "0eb205ae650347b08d90eeb0be1793ab": {
      "model_module": "jupyter-js-widgets",
      "model_module_version": "~2.1.4",
      "model_name": "LayoutModel",
      "state": {
       "_model_module_version": "~2.1.4",
       "_view_module_version": "~2.1.4"
      }
     },
     "0eba65775eaa4d2e96df96a77314091d": {
      "model_module": "jupyter-js-widgets",
      "model_module_version": "~2.1.4",
      "model_name": "ProgressModel",
      "state": {
       "_model_module_version": "~2.1.4",
       "_view_module_version": "~2.1.4",
       "bar_style": "success",
       "description": "100.00%",
       "layout": "IPY_MODEL_229fc976993640059b560d63f1a9b0b2",
       "max": 6250,
       "style": "IPY_MODEL_c7c39906bebb4641a5cef99722d247e2",
       "value": 6250
      }
     },
     "11d74b1845f84a43aae9ae2c8c9be485": {
      "model_module": "jupyter-js-widgets",
      "model_module_version": "~2.1.4",
      "model_name": "ProgressStyleModel",
      "state": {
       "_model_module_version": "~2.1.4",
       "_view_module_version": "~2.1.4"
      }
     },
     "12f00b300c0e4e17a4e6382d9cff5e3e": {
      "model_module": "jupyter-js-widgets",
      "model_module_version": "~2.1.4",
      "model_name": "ProgressModel",
      "state": {
       "_model_module_version": "~2.1.4",
       "_view_module_version": "~2.1.4",
       "bar_style": "success",
       "description": "100.00%",
       "layout": "IPY_MODEL_68c15ac621c54ffe837dc1289263ae21",
       "max": 6250,
       "style": "IPY_MODEL_d3a668ad1cc9484e9bb4427fd9c78ca9",
       "value": 6250
      }
     },
     "1411f92127734f2b81daa1145b0ea8cc": {
      "model_module": "jupyter-js-widgets",
      "model_module_version": "~2.1.4",
      "model_name": "LabelModel",
      "state": {
       "_model_module_version": "~2.1.4",
       "_view_module_version": "~2.1.4",
       "layout": "IPY_MODEL_9cb25ba1467d40bb94b58867972905e7",
       "value": "6250 / 6250"
      }
     },
     "141899495de940d68797ea7eccd2d4cf": {
      "model_module": "jupyter-js-widgets",
      "model_module_version": "~2.1.4",
      "model_name": "HBoxModel",
      "state": {
       "_model_module_version": "~2.1.4",
       "_view_module_version": "~2.1.4",
       "children": [
        "IPY_MODEL_d736839efb8146c99d17ff6324b052a8",
        "IPY_MODEL_8f95a726e61a45c893a0120dde36d623"
       ],
       "layout": "IPY_MODEL_3097543e54464412b085d5b76cc4fc38"
      }
     },
     "157911e2dfb94b14b0ee2fe71d40002d": {
      "model_module": "jupyter-js-widgets",
      "model_module_version": "~2.1.4",
      "model_name": "ProgressModel",
      "state": {
       "_model_module_version": "~2.1.4",
       "_view_module_version": "~2.1.4",
       "bar_style": "success",
       "description": "100.00%",
       "layout": "IPY_MODEL_654a80decb934f4ca485298ad57a38f7",
       "max": 6250,
       "style": "IPY_MODEL_65c230c533b1424a929c4e1a165954e6",
       "value": 6250
      }
     },
     "1a41fdc522e84e1182f1e00eb918ad4c": {
      "model_module": "jupyter-js-widgets",
      "model_module_version": "~2.1.4",
      "model_name": "LabelModel",
      "state": {
       "_model_module_version": "~2.1.4",
       "_view_module_version": "~2.1.4",
       "layout": "IPY_MODEL_75af8daafbc649a0a27bf39e5a3739fc",
       "value": "6250 / 6250"
      }
     },
     "1a5408ddcc12464c8806f20d99d78af1": {
      "model_module": "jupyter-js-widgets",
      "model_module_version": "~2.1.4",
      "model_name": "LayoutModel",
      "state": {
       "_model_module_version": "~2.1.4",
       "_view_module_version": "~2.1.4"
      }
     },
     "1ab9ad9e5c3d40a7900d832f70f11c9c": {
      "model_module": "jupyter-js-widgets",
      "model_module_version": "~2.1.4",
      "model_name": "LayoutModel",
      "state": {
       "_model_module_version": "~2.1.4",
       "_view_module_version": "~2.1.4"
      }
     },
     "1da04d6e29164d3b9a2f98fa44b307f3": {
      "model_module": "jupyter-js-widgets",
      "model_module_version": "~2.1.4",
      "model_name": "LayoutModel",
      "state": {
       "_model_module_version": "~2.1.4",
       "_view_module_version": "~2.1.4"
      }
     },
     "2075bf7f9e66473f8c23e20dd8c4a802": {
      "model_module": "jupyter-js-widgets",
      "model_module_version": "~2.1.4",
      "model_name": "LayoutModel",
      "state": {
       "_model_module_version": "~2.1.4",
       "_view_module_version": "~2.1.4"
      }
     },
     "229fc976993640059b560d63f1a9b0b2": {
      "model_module": "jupyter-js-widgets",
      "model_module_version": "~2.1.4",
      "model_name": "LayoutModel",
      "state": {
       "_model_module_version": "~2.1.4",
       "_view_module_version": "~2.1.4"
      }
     },
     "23ebf8134b16476da683c3250cbed05e": {
      "model_module": "jupyter-js-widgets",
      "model_module_version": "~2.1.4",
      "model_name": "HBoxModel",
      "state": {
       "_model_module_version": "~2.1.4",
       "_view_module_version": "~2.1.4",
       "children": [
        "IPY_MODEL_0df171b06c3b4282904df6b4e3d8f249",
        "IPY_MODEL_44a32f70f39f464e950e112ed6a86c63"
       ],
       "layout": "IPY_MODEL_919377ce029b4d1184c0020b15b0d9c3"
      }
     },
     "2427dde2097c40cfa11c66bc669a37cc": {
      "model_module": "jupyter-js-widgets",
      "model_module_version": "~2.1.4",
      "model_name": "ProgressModel",
      "state": {
       "_model_module_version": "~2.1.4",
       "_view_module_version": "~2.1.4",
       "bar_style": "success",
       "description": "100.00%",
       "layout": "IPY_MODEL_b57c87ad607345c98297e041783f6603",
       "max": 6250,
       "style": "IPY_MODEL_4b3fe1713a4d410d9366ea6e401d958f",
       "value": 6250
      }
     },
     "260c2b82b9484b758c1a4263e8f74aba": {
      "model_module": "jupyter-js-widgets",
      "model_module_version": "~2.1.4",
      "model_name": "HBoxModel",
      "state": {
       "_model_module_version": "~2.1.4",
       "_view_module_version": "~2.1.4",
       "children": [
        "IPY_MODEL_33acaae9a33a4d549acd867e6e9c6fa8",
        "IPY_MODEL_1411f92127734f2b81daa1145b0ea8cc"
       ],
       "layout": "IPY_MODEL_87c98b75584744fabed97546db8c29ad"
      }
     },
     "268d5cc27cc5455e820c92def59874b7": {
      "model_module": "jupyter-js-widgets",
      "model_module_version": "~2.1.4",
      "model_name": "LayoutModel",
      "state": {
       "_model_module_version": "~2.1.4",
       "_view_module_version": "~2.1.4"
      }
     },
     "274c7ee834e141dbbf7b58bdd69fe6e2": {
      "model_module": "jupyter-js-widgets",
      "model_module_version": "~2.1.4",
      "model_name": "LayoutModel",
      "state": {
       "_model_module_version": "~2.1.4",
       "_view_module_version": "~2.1.4"
      }
     },
     "28941cda635442f0bc38a9274158ab5c": {
      "model_module": "jupyter-js-widgets",
      "model_module_version": "~2.1.4",
      "model_name": "ProgressModel",
      "state": {
       "_model_module_version": "~2.1.4",
       "_view_module_version": "~2.1.4",
       "bar_style": "success",
       "description": "100.00%",
       "layout": "IPY_MODEL_50e09d1b9a9f4483b5d663754155381e",
       "max": 6250,
       "style": "IPY_MODEL_d3e84870deb74eb3b6c8ef1b235f92b0",
       "value": 6250
      }
     },
     "2a2414bdc6dd4b35b2797303171a236c": {
      "model_module": "jupyter-js-widgets",
      "model_module_version": "~2.1.4",
      "model_name": "ProgressStyleModel",
      "state": {
       "_model_module_version": "~2.1.4",
       "_view_module_version": "~2.1.4"
      }
     },
     "2b89f6b29d484292bdd3ae9689ba8c6a": {
      "model_module": "jupyter-js-widgets",
      "model_module_version": "~2.1.4",
      "model_name": "ProgressModel",
      "state": {
       "_model_module_version": "~2.1.4",
       "_view_module_version": "~2.1.4",
       "bar_style": "success",
       "description": "100.00%",
       "layout": "IPY_MODEL_82ad48e039f248dabf1e52f28846c39a",
       "max": 6250,
       "style": "IPY_MODEL_f326f90ed32c4272b309816578204515",
       "value": 6250
      }
     },
     "2c7fd3dff787432aaf53648a21306768": {
      "model_module": "jupyter-js-widgets",
      "model_module_version": "~2.1.4",
      "model_name": "ProgressModel",
      "state": {
       "_model_module_version": "~2.1.4",
       "_view_module_version": "~2.1.4",
       "bar_style": "success",
       "description": "100.00%",
       "layout": "IPY_MODEL_e23f9cfbe8ec452bb306dbf75bc03307",
       "max": 6250,
       "style": "IPY_MODEL_f7e21433c2344523849d3e14633ce17b",
       "value": 6250
      }
     },
     "2d3211316e9f4537bd2dd364e9a98fe0": {
      "model_module": "jupyter-js-widgets",
      "model_module_version": "~2.1.4",
      "model_name": "LayoutModel",
      "state": {
       "_model_module_version": "~2.1.4",
       "_view_module_version": "~2.1.4"
      }
     },
     "2e11b860909043fc9dc1af187cade14b": {
      "model_module": "jupyter-js-widgets",
      "model_module_version": "~2.1.4",
      "model_name": "LayoutModel",
      "state": {
       "_model_module_version": "~2.1.4",
       "_view_module_version": "~2.1.4"
      }
     },
     "2f4abb13115f44ecb67770ad7dfda7ed": {
      "model_module": "jupyter-js-widgets",
      "model_module_version": "~2.1.4",
      "model_name": "LabelModel",
      "state": {
       "_model_module_version": "~2.1.4",
       "_view_module_version": "~2.1.4",
       "layout": "IPY_MODEL_e2ae1c4bbb734a6aa7e6c544b6fc1c62",
       "value": "6250 / 6250"
      }
     },
     "2fcfc80fb07840068ed3c1f6ffedfd90": {
      "model_module": "jupyter-js-widgets",
      "model_module_version": "~2.1.4",
      "model_name": "LayoutModel",
      "state": {
       "_model_module_version": "~2.1.4",
       "_view_module_version": "~2.1.4"
      }
     },
     "3097543e54464412b085d5b76cc4fc38": {
      "model_module": "jupyter-js-widgets",
      "model_module_version": "~2.1.4",
      "model_name": "LayoutModel",
      "state": {
       "_model_module_version": "~2.1.4",
       "_view_module_version": "~2.1.4"
      }
     },
     "32c3435522a249d0b630482c86cd8a29": {
      "model_module": "jupyter-js-widgets",
      "model_module_version": "~2.1.4",
      "model_name": "LayoutModel",
      "state": {
       "_model_module_version": "~2.1.4",
       "_view_module_version": "~2.1.4"
      }
     },
     "33685bfb8116406f93f1e716652296e3": {
      "model_module": "jupyter-js-widgets",
      "model_module_version": "~2.1.4",
      "model_name": "LayoutModel",
      "state": {
       "_model_module_version": "~2.1.4",
       "_view_module_version": "~2.1.4"
      }
     },
     "33acaae9a33a4d549acd867e6e9c6fa8": {
      "model_module": "jupyter-js-widgets",
      "model_module_version": "~2.1.4",
      "model_name": "ProgressModel",
      "state": {
       "_model_module_version": "~2.1.4",
       "_view_module_version": "~2.1.4",
       "bar_style": "success",
       "description": "100.00%",
       "layout": "IPY_MODEL_1ab9ad9e5c3d40a7900d832f70f11c9c",
       "max": 6250,
       "style": "IPY_MODEL_34c8bdfb8fa4436dbf1a2ace8ee9f6d7",
       "value": 6250
      }
     },
     "34c8bdfb8fa4436dbf1a2ace8ee9f6d7": {
      "model_module": "jupyter-js-widgets",
      "model_module_version": "~2.1.4",
      "model_name": "ProgressStyleModel",
      "state": {
       "_model_module_version": "~2.1.4",
       "_view_module_version": "~2.1.4"
      }
     },
     "35bd6fadd08c4a6a8ac51f6059fbf991": {
      "model_module": "jupyter-js-widgets",
      "model_module_version": "~2.1.4",
      "model_name": "LayoutModel",
      "state": {
       "_model_module_version": "~2.1.4",
       "_view_module_version": "~2.1.4"
      }
     },
     "35ce159e792248b992f688fcae686dab": {
      "model_module": "jupyter-js-widgets",
      "model_module_version": "~2.1.4",
      "model_name": "LayoutModel",
      "state": {
       "_model_module_version": "~2.1.4",
       "_view_module_version": "~2.1.4"
      }
     },
     "36266051c58945ecbfbce6d7e1d765a0": {
      "model_module": "jupyter-js-widgets",
      "model_module_version": "~2.1.4",
      "model_name": "ProgressModel",
      "state": {
       "_model_module_version": "~2.1.4",
       "_view_module_version": "~2.1.4",
       "bar_style": "success",
       "description": "100.00%",
       "layout": "IPY_MODEL_e4366c6ddb1e4aebb74c5d16647b5ff0",
       "max": 6250,
       "style": "IPY_MODEL_fdbfdade02574ed4b580e1921004d753",
       "value": 6250
      }
     },
     "36d6748182754aabbb9916289d9a894a": {
      "model_module": "jupyter-js-widgets",
      "model_module_version": "~2.1.4",
      "model_name": "LayoutModel",
      "state": {
       "_model_module_version": "~2.1.4",
       "_view_module_version": "~2.1.4"
      }
     },
     "37ed393f7bb747f99505c3e964ca0b98": {
      "model_module": "jupyter-js-widgets",
      "model_module_version": "~2.1.4",
      "model_name": "HBoxModel",
      "state": {
       "_model_module_version": "~2.1.4",
       "_view_module_version": "~2.1.4",
       "children": [
        "IPY_MODEL_a92c6a1c0b08487a8e0d587c2a216115",
        "IPY_MODEL_b99a31592d964f7bafc41d68cbc6f3c4"
       ],
       "layout": "IPY_MODEL_9222d886aad045b28fca6efd9bff58c8"
      }
     },
     "386dfc4378fa4a9b9e8dd99b9681ff0f": {
      "model_module": "jupyter-js-widgets",
      "model_module_version": "~2.1.4",
      "model_name": "LabelModel",
      "state": {
       "_model_module_version": "~2.1.4",
       "_view_module_version": "~2.1.4",
       "layout": "IPY_MODEL_35bd6fadd08c4a6a8ac51f6059fbf991",
       "value": "6250 / 6250"
      }
     },
     "3b29280d270443b7a61752ba410aee69": {
      "model_module": "jupyter-js-widgets",
      "model_module_version": "~2.1.4",
      "model_name": "LabelModel",
      "state": {
       "_model_module_version": "~2.1.4",
       "_view_module_version": "~2.1.4",
       "layout": "IPY_MODEL_48ae898a59da4faab736fbea084573e4",
       "value": "6250 / 6250"
      }
     },
     "3c996d645a91486199ebd00b638fe13d": {
      "model_module": "jupyter-js-widgets",
      "model_module_version": "~2.1.4",
      "model_name": "HBoxModel",
      "state": {
       "_model_module_version": "~2.1.4",
       "_view_module_version": "~2.1.4",
       "children": [
        "IPY_MODEL_596602baf27645f28cd8f9782659b284",
        "IPY_MODEL_aec2ad8d54bf4bb5be62b6eba4ecc472"
       ],
       "layout": "IPY_MODEL_86c448768f15462cbcf7f0d71d4a2bfe"
      }
     },
     "3ed2f6d215444b53b8ba8bae399b4ac5": {
      "model_module": "jupyter-js-widgets",
      "model_module_version": "~2.1.4",
      "model_name": "ProgressModel",
      "state": {
       "_model_module_version": "~2.1.4",
       "_view_module_version": "~2.1.4",
       "bar_style": "success",
       "description": "100.00%",
       "layout": "IPY_MODEL_36d6748182754aabbb9916289d9a894a",
       "max": 6250,
       "style": "IPY_MODEL_e0e64dd097304decbfd04ff97419bc34",
       "value": 6250
      }
     },
     "3ef28c48aed84c789936dc75b4164568": {
      "model_module": "jupyter-js-widgets",
      "model_module_version": "~2.1.4",
      "model_name": "ProgressModel",
      "state": {
       "_model_module_version": "~2.1.4",
       "_view_module_version": "~2.1.4",
       "bar_style": "success",
       "description": "100.00%",
       "layout": "IPY_MODEL_0d40f7d1af3b460797a67b8a36645579",
       "max": 6250,
       "style": "IPY_MODEL_5a733c91f47442a9b4852c0bcaa49532",
       "value": 6250
      }
     },
     "3f7e842b518e47d8bcdd8a2bfc71f44d": {
      "model_module": "jupyter-js-widgets",
      "model_module_version": "~2.1.4",
      "model_name": "LayoutModel",
      "state": {
       "_model_module_version": "~2.1.4",
       "_view_module_version": "~2.1.4"
      }
     },
     "404646b9af5948dab2c0e9f4b40692f3": {
      "model_module": "jupyter-js-widgets",
      "model_module_version": "~2.1.4",
      "model_name": "ProgressStyleModel",
      "state": {
       "_model_module_version": "~2.1.4",
       "_view_module_version": "~2.1.4"
      }
     },
     "430fd9862f5c413d86f2840acd9645df": {
      "model_module": "jupyter-js-widgets",
      "model_module_version": "~2.1.4",
      "model_name": "LayoutModel",
      "state": {
       "_model_module_version": "~2.1.4",
       "_view_module_version": "~2.1.4"
      }
     },
     "44a32f70f39f464e950e112ed6a86c63": {
      "model_module": "jupyter-js-widgets",
      "model_module_version": "~2.1.4",
      "model_name": "LabelModel",
      "state": {
       "_model_module_version": "~2.1.4",
       "_view_module_version": "~2.1.4",
       "layout": "IPY_MODEL_ad5d3027d3c649eab5d8075f312c9ad4",
       "value": "6250 / 6250"
      }
     },
     "4554a4150ab44d62a0de894f0f08cae5": {
      "model_module": "jupyter-js-widgets",
      "model_module_version": "~2.1.4",
      "model_name": "LabelModel",
      "state": {
       "_model_module_version": "~2.1.4",
       "_view_module_version": "~2.1.4",
       "layout": "IPY_MODEL_a43db2d4e7cc4c05a928986ad50a2b4d",
       "value": "6250 / 6250"
      }
     },
     "48ae898a59da4faab736fbea084573e4": {
      "model_module": "jupyter-js-widgets",
      "model_module_version": "~2.1.4",
      "model_name": "LayoutModel",
      "state": {
       "_model_module_version": "~2.1.4",
       "_view_module_version": "~2.1.4"
      }
     },
     "498f54246e234ed7ac6d5f898a5b2655": {
      "model_module": "jupyter-js-widgets",
      "model_module_version": "~2.1.4",
      "model_name": "HBoxModel",
      "state": {
       "_model_module_version": "~2.1.4",
       "_view_module_version": "~2.1.4",
       "children": [
        "IPY_MODEL_157911e2dfb94b14b0ee2fe71d40002d",
        "IPY_MODEL_1a41fdc522e84e1182f1e00eb918ad4c"
       ],
       "layout": "IPY_MODEL_35ce159e792248b992f688fcae686dab"
      }
     },
     "4af5b2d69b53415f8c8716307f60cf48": {
      "model_module": "jupyter-js-widgets",
      "model_module_version": "~2.1.4",
      "model_name": "LayoutModel",
      "state": {
       "_model_module_version": "~2.1.4",
       "_view_module_version": "~2.1.4"
      }
     },
     "4b3fe1713a4d410d9366ea6e401d958f": {
      "model_module": "jupyter-js-widgets",
      "model_module_version": "~2.1.4",
      "model_name": "ProgressStyleModel",
      "state": {
       "_model_module_version": "~2.1.4",
       "_view_module_version": "~2.1.4"
      }
     },
     "4e336f2499454458ae2b25061966a01d": {
      "model_module": "jupyter-js-widgets",
      "model_module_version": "~2.1.4",
      "model_name": "LayoutModel",
      "state": {
       "_model_module_version": "~2.1.4",
       "_view_module_version": "~2.1.4"
      }
     },
     "50e09d1b9a9f4483b5d663754155381e": {
      "model_module": "jupyter-js-widgets",
      "model_module_version": "~2.1.4",
      "model_name": "LayoutModel",
      "state": {
       "_model_module_version": "~2.1.4",
       "_view_module_version": "~2.1.4"
      }
     },
     "525d7cdea82d4e04aeef508b12d8ce4f": {
      "model_module": "jupyter-js-widgets",
      "model_module_version": "~2.1.4",
      "model_name": "LayoutModel",
      "state": {
       "_model_module_version": "~2.1.4",
       "_view_module_version": "~2.1.4"
      }
     },
     "552e63d85adc4803bdbf1553fbd5a37c": {
      "model_module": "jupyter-js-widgets",
      "model_module_version": "~2.1.4",
      "model_name": "LayoutModel",
      "state": {
       "_model_module_version": "~2.1.4",
       "_view_module_version": "~2.1.4"
      }
     },
     "55c6612945ee4715aed1167aee94ddb1": {
      "model_module": "jupyter-js-widgets",
      "model_module_version": "~2.1.4",
      "model_name": "LayoutModel",
      "state": {
       "_model_module_version": "~2.1.4",
       "_view_module_version": "~2.1.4"
      }
     },
     "596602baf27645f28cd8f9782659b284": {
      "model_module": "jupyter-js-widgets",
      "model_module_version": "~2.1.4",
      "model_name": "ProgressModel",
      "state": {
       "_model_module_version": "~2.1.4",
       "_view_module_version": "~2.1.4",
       "bar_style": "success",
       "description": "100.00%",
       "layout": "IPY_MODEL_55c6612945ee4715aed1167aee94ddb1",
       "max": 6250,
       "style": "IPY_MODEL_0338f9ef15fd4d9ea7951cc651777ff3",
       "value": 6250
      }
     },
     "59d248e16d1a45ac9efa367b0497d58e": {
      "model_module": "jupyter-js-widgets",
      "model_module_version": "~2.1.4",
      "model_name": "ProgressStyleModel",
      "state": {
       "_model_module_version": "~2.1.4",
       "_view_module_version": "~2.1.4"
      }
     },
     "5a733c91f47442a9b4852c0bcaa49532": {
      "model_module": "jupyter-js-widgets",
      "model_module_version": "~2.1.4",
      "model_name": "ProgressStyleModel",
      "state": {
       "_model_module_version": "~2.1.4",
       "_view_module_version": "~2.1.4"
      }
     },
     "5a9abc3936cc488296867a8f5bd6cb01": {
      "model_module": "jupyter-js-widgets",
      "model_module_version": "~2.1.4",
      "model_name": "HBoxModel",
      "state": {
       "_model_module_version": "~2.1.4",
       "_view_module_version": "~2.1.4",
       "children": [
        "IPY_MODEL_28941cda635442f0bc38a9274158ab5c",
        "IPY_MODEL_6a89a6a743254145b1529178ef0eabdc"
       ],
       "layout": "IPY_MODEL_ec29b896bdb64291b3a3a266c2378b36"
      }
     },
     "5c238e32ab05471da83cd0092ec36095": {
      "model_module": "jupyter-js-widgets",
      "model_module_version": "~2.1.4",
      "model_name": "LayoutModel",
      "state": {
       "_model_module_version": "~2.1.4",
       "_view_module_version": "~2.1.4"
      }
     },
     "5cd05136918d4edba8dcce338ab09cb3": {
      "model_module": "jupyter-js-widgets",
      "model_module_version": "~2.1.4",
      "model_name": "LayoutModel",
      "state": {
       "_model_module_version": "~2.1.4",
       "_view_module_version": "~2.1.4"
      }
     },
     "654a80decb934f4ca485298ad57a38f7": {
      "model_module": "jupyter-js-widgets",
      "model_module_version": "~2.1.4",
      "model_name": "LayoutModel",
      "state": {
       "_model_module_version": "~2.1.4",
       "_view_module_version": "~2.1.4"
      }
     },
     "65c230c533b1424a929c4e1a165954e6": {
      "model_module": "jupyter-js-widgets",
      "model_module_version": "~2.1.4",
      "model_name": "ProgressStyleModel",
      "state": {
       "_model_module_version": "~2.1.4",
       "_view_module_version": "~2.1.4"
      }
     },
     "67fdeb202dd64ec29279f4b2befdb893": {
      "model_module": "jupyter-js-widgets",
      "model_module_version": "~2.1.4",
      "model_name": "HBoxModel",
      "state": {
       "_model_module_version": "~2.1.4",
       "_view_module_version": "~2.1.4",
       "children": [
        "IPY_MODEL_3ef28c48aed84c789936dc75b4164568",
        "IPY_MODEL_386dfc4378fa4a9b9e8dd99b9681ff0f"
       ],
       "layout": "IPY_MODEL_6d489d32cf214b6a99929f5eb10fc32c"
      }
     },
     "68c15ac621c54ffe837dc1289263ae21": {
      "model_module": "jupyter-js-widgets",
      "model_module_version": "~2.1.4",
      "model_name": "LayoutModel",
      "state": {
       "_model_module_version": "~2.1.4",
       "_view_module_version": "~2.1.4"
      }
     },
     "68d8c29299c34e759ef3e2d99eb06e72": {
      "model_module": "jupyter-js-widgets",
      "model_module_version": "~2.1.4",
      "model_name": "HBoxModel",
      "state": {
       "_model_module_version": "~2.1.4",
       "_view_module_version": "~2.1.4",
       "children": [
        "IPY_MODEL_b9060efce7f74db4863a619894c852fe",
        "IPY_MODEL_89f0375df1e746b28e720c30951b082c"
       ],
       "layout": "IPY_MODEL_aa7763c2350547fcaea4a68884a2cb59"
      }
     },
     "69d31b3e0e654e3bb42223bee557d0b3": {
      "model_module": "jupyter-js-widgets",
      "model_module_version": "~2.1.4",
      "model_name": "VBoxModel",
      "state": {
       "_model_module_version": "~2.1.4",
       "_view_module_version": "~2.1.4",
       "children": [
        "IPY_MODEL_260c2b82b9484b758c1a4263e8f74aba",
        "IPY_MODEL_0661d7f1e5b7447199865b375c1351cd",
        "IPY_MODEL_b8bc0541007341f1b196666b09528ed8",
        "IPY_MODEL_5a9abc3936cc488296867a8f5bd6cb01",
        "IPY_MODEL_b5fbd07bb8604aae9ce3448dc5b90182",
        "IPY_MODEL_23ebf8134b16476da683c3250cbed05e",
        "IPY_MODEL_0524a42ef6574c02b07f17da3273e65c",
        "IPY_MODEL_498f54246e234ed7ac6d5f898a5b2655"
       ],
       "layout": "IPY_MODEL_2d3211316e9f4537bd2dd364e9a98fe0"
      }
     },
     "6a89a6a743254145b1529178ef0eabdc": {
      "model_module": "jupyter-js-widgets",
      "model_module_version": "~2.1.4",
      "model_name": "LabelModel",
      "state": {
       "_model_module_version": "~2.1.4",
       "_view_module_version": "~2.1.4",
       "layout": "IPY_MODEL_32c3435522a249d0b630482c86cd8a29",
       "value": "6250 / 6250"
      }
     },
     "6c7c985fef994ea6a20dd3b1b482aa40": {
      "model_module": "jupyter-js-widgets",
      "model_module_version": "~2.1.4",
      "model_name": "LabelModel",
      "state": {
       "_model_module_version": "~2.1.4",
       "_view_module_version": "~2.1.4",
       "layout": "IPY_MODEL_33685bfb8116406f93f1e716652296e3",
       "value": "6250 / 6250"
      }
     },
     "6d489d32cf214b6a99929f5eb10fc32c": {
      "model_module": "jupyter-js-widgets",
      "model_module_version": "~2.1.4",
      "model_name": "LayoutModel",
      "state": {
       "_model_module_version": "~2.1.4",
       "_view_module_version": "~2.1.4"
      }
     },
     "6e9dbbe6ccd841158f084e188bf49015": {
      "model_module": "jupyter-js-widgets",
      "model_module_version": "~2.1.4",
      "model_name": "LayoutModel",
      "state": {
       "_model_module_version": "~2.1.4",
       "_view_module_version": "~2.1.4"
      }
     },
     "75af8daafbc649a0a27bf39e5a3739fc": {
      "model_module": "jupyter-js-widgets",
      "model_module_version": "~2.1.4",
      "model_name": "LayoutModel",
      "state": {
       "_model_module_version": "~2.1.4",
       "_view_module_version": "~2.1.4"
      }
     },
     "77b6430527c041ddb39b2a79314c67b1": {
      "model_module": "jupyter-js-widgets",
      "model_module_version": "~2.1.4",
      "model_name": "ProgressStyleModel",
      "state": {
       "_model_module_version": "~2.1.4",
       "_view_module_version": "~2.1.4"
      }
     },
     "7e88c8c55943445d85a2481f6a658ecc": {
      "model_module": "jupyter-js-widgets",
      "model_module_version": "~2.1.4",
      "model_name": "LayoutModel",
      "state": {
       "_model_module_version": "~2.1.4",
       "_view_module_version": "~2.1.4"
      }
     },
     "82472874c2c848db87a1ae5e697a8d23": {
      "model_module": "jupyter-js-widgets",
      "model_module_version": "~2.1.4",
      "model_name": "HBoxModel",
      "state": {
       "_model_module_version": "~2.1.4",
       "_view_module_version": "~2.1.4",
       "children": [
        "IPY_MODEL_88d1f2d926bb434986977ca54ac0cab7",
        "IPY_MODEL_bc6d283270104e3a8f57dcbad208e26a"
       ],
       "layout": "IPY_MODEL_cb0f60d292f14c4c95c0e445b933492a"
      }
     },
     "82ad48e039f248dabf1e52f28846c39a": {
      "model_module": "jupyter-js-widgets",
      "model_module_version": "~2.1.4",
      "model_name": "LayoutModel",
      "state": {
       "_model_module_version": "~2.1.4",
       "_view_module_version": "~2.1.4"
      }
     },
     "862ca87a770741b8a5e09c17e2f4f059": {
      "model_module": "jupyter-js-widgets",
      "model_module_version": "~2.1.4",
      "model_name": "LabelModel",
      "state": {
       "_model_module_version": "~2.1.4",
       "_view_module_version": "~2.1.4",
       "layout": "IPY_MODEL_ffe7bdffcf844396aad21b53c2d30e44",
       "value": "6250 / 6250"
      }
     },
     "86c448768f15462cbcf7f0d71d4a2bfe": {
      "model_module": "jupyter-js-widgets",
      "model_module_version": "~2.1.4",
      "model_name": "LayoutModel",
      "state": {
       "_model_module_version": "~2.1.4",
       "_view_module_version": "~2.1.4"
      }
     },
     "87c98b75584744fabed97546db8c29ad": {
      "model_module": "jupyter-js-widgets",
      "model_module_version": "~2.1.4",
      "model_name": "LayoutModel",
      "state": {
       "_model_module_version": "~2.1.4",
       "_view_module_version": "~2.1.4"
      }
     },
     "8866d0177eae45088e830858b2f10d25": {
      "model_module": "jupyter-js-widgets",
      "model_module_version": "~2.1.4",
      "model_name": "LayoutModel",
      "state": {
       "_model_module_version": "~2.1.4",
       "_view_module_version": "~2.1.4"
      }
     },
     "88d1f2d926bb434986977ca54ac0cab7": {
      "model_module": "jupyter-js-widgets",
      "model_module_version": "~2.1.4",
      "model_name": "ProgressModel",
      "state": {
       "_model_module_version": "~2.1.4",
       "_view_module_version": "~2.1.4",
       "bar_style": "success",
       "description": "100.00%",
       "layout": "IPY_MODEL_2fcfc80fb07840068ed3c1f6ffedfd90",
       "max": 6250,
       "style": "IPY_MODEL_404646b9af5948dab2c0e9f4b40692f3",
       "value": 6250
      }
     },
     "89f0375df1e746b28e720c30951b082c": {
      "model_module": "jupyter-js-widgets",
      "model_module_version": "~2.1.4",
      "model_name": "LabelModel",
      "state": {
       "_model_module_version": "~2.1.4",
       "_view_module_version": "~2.1.4",
       "layout": "IPY_MODEL_4e336f2499454458ae2b25061966a01d",
       "value": "6250 / 6250"
      }
     },
     "8c06e268d3bc49739105bafea2cfda60": {
      "model_module": "jupyter-js-widgets",
      "model_module_version": "~2.1.4",
      "model_name": "VBoxModel",
      "state": {
       "_model_module_version": "~2.1.4",
       "_view_module_version": "~2.1.4",
       "children": [
        "IPY_MODEL_b8d5822079e24170bcf8877553b22fb1",
        "IPY_MODEL_82472874c2c848db87a1ae5e697a8d23",
        "IPY_MODEL_e252c23cc1d34c69830ac0f3ddfc1275",
        "IPY_MODEL_37ed393f7bb747f99505c3e964ca0b98",
        "IPY_MODEL_0bf918fab9f144e9ae1828bcb594050a",
        "IPY_MODEL_141899495de940d68797ea7eccd2d4cf",
        "IPY_MODEL_ed086589e2104b949384f0981cb0ebbe",
        "IPY_MODEL_fcb9efaed25943a1a128fbace8e38f94"
       ],
       "layout": "IPY_MODEL_bf7557f1bf1e42c59d0405f380a9d2cf"
      }
     },
     "8cdce4c583ab4415807b4e705199ccb3": {
      "model_module": "jupyter-js-widgets",
      "model_module_version": "~2.1.4",
      "model_name": "LabelModel",
      "state": {
       "_model_module_version": "~2.1.4",
       "_view_module_version": "~2.1.4",
       "layout": "IPY_MODEL_d9f946d793a24721896b4fb43f65bc8c",
       "value": "6250 / 6250"
      }
     },
     "8f22b5b6a1a94280810593f7656d87bd": {
      "model_module": "jupyter-js-widgets",
      "model_module_version": "~2.1.4",
      "model_name": "LabelModel",
      "state": {
       "_model_module_version": "~2.1.4",
       "_view_module_version": "~2.1.4",
       "layout": "IPY_MODEL_b117a217a1b9466db75c8c145dc24d49",
       "value": "6250 / 6250"
      }
     },
     "8f95a726e61a45c893a0120dde36d623": {
      "model_module": "jupyter-js-widgets",
      "model_module_version": "~2.1.4",
      "model_name": "LabelModel",
      "state": {
       "_model_module_version": "~2.1.4",
       "_view_module_version": "~2.1.4",
       "layout": "IPY_MODEL_e19f0ad63d724c1cb09c7b495d51daef",
       "value": "6250 / 6250"
      }
     },
     "919377ce029b4d1184c0020b15b0d9c3": {
      "model_module": "jupyter-js-widgets",
      "model_module_version": "~2.1.4",
      "model_name": "LayoutModel",
      "state": {
       "_model_module_version": "~2.1.4",
       "_view_module_version": "~2.1.4"
      }
     },
     "9222d886aad045b28fca6efd9bff58c8": {
      "model_module": "jupyter-js-widgets",
      "model_module_version": "~2.1.4",
      "model_name": "LayoutModel",
      "state": {
       "_model_module_version": "~2.1.4",
       "_view_module_version": "~2.1.4"
      }
     },
     "93e8906276724bc7a4bdb1351c81209e": {
      "model_module": "jupyter-js-widgets",
      "model_module_version": "~2.1.4",
      "model_name": "ProgressStyleModel",
      "state": {
       "_model_module_version": "~2.1.4",
       "_view_module_version": "~2.1.4"
      }
     },
     "940d89a3c4e549659d5379181bed819d": {
      "model_module": "jupyter-js-widgets",
      "model_module_version": "~2.1.4",
      "model_name": "LayoutModel",
      "state": {
       "_model_module_version": "~2.1.4",
       "_view_module_version": "~2.1.4"
      }
     },
     "953ccaffccba45e89c88bcdf89b8dafd": {
      "model_module": "jupyter-js-widgets",
      "model_module_version": "~2.1.4",
      "model_name": "ProgressStyleModel",
      "state": {
       "_model_module_version": "~2.1.4",
       "_view_module_version": "~2.1.4"
      }
     },
     "969a32d94f0a451aae31d7761154f60a": {
      "model_module": "jupyter-js-widgets",
      "model_module_version": "~2.1.4",
      "model_name": "LayoutModel",
      "state": {
       "_model_module_version": "~2.1.4",
       "_view_module_version": "~2.1.4"
      }
     },
     "9cb25ba1467d40bb94b58867972905e7": {
      "model_module": "jupyter-js-widgets",
      "model_module_version": "~2.1.4",
      "model_name": "LayoutModel",
      "state": {
       "_model_module_version": "~2.1.4",
       "_view_module_version": "~2.1.4"
      }
     },
     "a43db2d4e7cc4c05a928986ad50a2b4d": {
      "model_module": "jupyter-js-widgets",
      "model_module_version": "~2.1.4",
      "model_name": "LayoutModel",
      "state": {
       "_model_module_version": "~2.1.4",
       "_view_module_version": "~2.1.4"
      }
     },
     "a8157c9961154f808791f8b48afd43c2": {
      "model_module": "jupyter-js-widgets",
      "model_module_version": "~2.1.4",
      "model_name": "LayoutModel",
      "state": {
       "_model_module_version": "~2.1.4",
       "_view_module_version": "~2.1.4"
      }
     },
     "a92c6a1c0b08487a8e0d587c2a216115": {
      "model_module": "jupyter-js-widgets",
      "model_module_version": "~2.1.4",
      "model_name": "ProgressModel",
      "state": {
       "_model_module_version": "~2.1.4",
       "_view_module_version": "~2.1.4",
       "bar_style": "success",
       "description": "100.00%",
       "layout": "IPY_MODEL_fc9d3b08b8aa4ab795db88d3be4a3a56",
       "max": 6250,
       "style": "IPY_MODEL_068291d3c7744970949b6435c8537b79",
       "value": 6250
      }
     },
     "a955ae3edd8b4883b432829e76c5c436": {
      "model_module": "jupyter-js-widgets",
      "model_module_version": "~2.1.4",
      "model_name": "LayoutModel",
      "state": {
       "_model_module_version": "~2.1.4",
       "_view_module_version": "~2.1.4"
      }
     },
     "aa7763c2350547fcaea4a68884a2cb59": {
      "model_module": "jupyter-js-widgets",
      "model_module_version": "~2.1.4",
      "model_name": "LayoutModel",
      "state": {
       "_model_module_version": "~2.1.4",
       "_view_module_version": "~2.1.4"
      }
     },
     "ad5d3027d3c649eab5d8075f312c9ad4": {
      "model_module": "jupyter-js-widgets",
      "model_module_version": "~2.1.4",
      "model_name": "LayoutModel",
      "state": {
       "_model_module_version": "~2.1.4",
       "_view_module_version": "~2.1.4"
      }
     },
     "aec2ad8d54bf4bb5be62b6eba4ecc472": {
      "model_module": "jupyter-js-widgets",
      "model_module_version": "~2.1.4",
      "model_name": "LabelModel",
      "state": {
       "_model_module_version": "~2.1.4",
       "_view_module_version": "~2.1.4",
       "layout": "IPY_MODEL_e1a5e1d85f3d411ebe89fa1bad92a2ea",
       "value": "6250 / 6250"
      }
     },
     "af9fa311c2664723ae2b96c97f6fc8d0": {
      "model_module": "jupyter-js-widgets",
      "model_module_version": "~2.1.4",
      "model_name": "VBoxModel",
      "state": {
       "_model_module_version": "~2.1.4",
       "_view_module_version": "~2.1.4",
       "children": [
        "IPY_MODEL_c431522cdf7d4d639ddf8ee823aa9b9e",
        "IPY_MODEL_ce38360f6f064c65a52da04db2ad33c8",
        "IPY_MODEL_67fdeb202dd64ec29279f4b2befdb893",
        "IPY_MODEL_68d8c29299c34e759ef3e2d99eb06e72",
        "IPY_MODEL_de790a9cd7174e3385e4c105904ab12c",
        "IPY_MODEL_e41484cf51464cfcb4f943d546d84f00",
        "IPY_MODEL_062b66fa28194588aa719aa8ee2456f7",
        "IPY_MODEL_3c996d645a91486199ebd00b638fe13d"
       ],
       "layout": "IPY_MODEL_e883736d5e94497089fded53fdd58563"
      }
     },
     "b117a217a1b9466db75c8c145dc24d49": {
      "model_module": "jupyter-js-widgets",
      "model_module_version": "~2.1.4",
      "model_name": "LayoutModel",
      "state": {
       "_model_module_version": "~2.1.4",
       "_view_module_version": "~2.1.4"
      }
     },
     "b2bc364a909d4f4b97489e911d729ea1": {
      "model_module": "jupyter-js-widgets",
      "model_module_version": "~2.1.4",
      "model_name": "LayoutModel",
      "state": {
       "_model_module_version": "~2.1.4",
       "_view_module_version": "~2.1.4"
      }
     },
     "b4e21d965b4a455c8ad675c0cb7cc0e7": {
      "model_module": "jupyter-js-widgets",
      "model_module_version": "~2.1.4",
      "model_name": "LayoutModel",
      "state": {
       "_model_module_version": "~2.1.4",
       "_view_module_version": "~2.1.4"
      }
     },
     "b57c87ad607345c98297e041783f6603": {
      "model_module": "jupyter-js-widgets",
      "model_module_version": "~2.1.4",
      "model_name": "LayoutModel",
      "state": {
       "_model_module_version": "~2.1.4",
       "_view_module_version": "~2.1.4"
      }
     },
     "b5d329b6728d452f9b33b49678c26a8e": {
      "model_module": "jupyter-js-widgets",
      "model_module_version": "~2.1.4",
      "model_name": "LayoutModel",
      "state": {
       "_model_module_version": "~2.1.4",
       "_view_module_version": "~2.1.4"
      }
     },
     "b5fbd07bb8604aae9ce3448dc5b90182": {
      "model_module": "jupyter-js-widgets",
      "model_module_version": "~2.1.4",
      "model_name": "HBoxModel",
      "state": {
       "_model_module_version": "~2.1.4",
       "_view_module_version": "~2.1.4",
       "children": [
        "IPY_MODEL_2c7fd3dff787432aaf53648a21306768",
        "IPY_MODEL_d20652e7d2694260a17811727d3b24ab"
       ],
       "layout": "IPY_MODEL_a8157c9961154f808791f8b48afd43c2"
      }
     },
     "b8bc0541007341f1b196666b09528ed8": {
      "model_module": "jupyter-js-widgets",
      "model_module_version": "~2.1.4",
      "model_name": "HBoxModel",
      "state": {
       "_model_module_version": "~2.1.4",
       "_view_module_version": "~2.1.4",
       "children": [
        "IPY_MODEL_0eba65775eaa4d2e96df96a77314091d",
        "IPY_MODEL_3b29280d270443b7a61752ba410aee69"
       ],
       "layout": "IPY_MODEL_b4e21d965b4a455c8ad675c0cb7cc0e7"
      }
     },
     "b8d5822079e24170bcf8877553b22fb1": {
      "model_module": "jupyter-js-widgets",
      "model_module_version": "~2.1.4",
      "model_name": "HBoxModel",
      "state": {
       "_model_module_version": "~2.1.4",
       "_view_module_version": "~2.1.4",
       "children": [
        "IPY_MODEL_d5eafa02c9b54ff9894e82c61c094382",
        "IPY_MODEL_cadec291e8254c0183bc391068bc1d28"
       ],
       "layout": "IPY_MODEL_525d7cdea82d4e04aeef508b12d8ce4f"
      }
     },
     "b9060efce7f74db4863a619894c852fe": {
      "model_module": "jupyter-js-widgets",
      "model_module_version": "~2.1.4",
      "model_name": "ProgressModel",
      "state": {
       "_model_module_version": "~2.1.4",
       "_view_module_version": "~2.1.4",
       "bar_style": "success",
       "description": "100.00%",
       "layout": "IPY_MODEL_a955ae3edd8b4883b432829e76c5c436",
       "max": 6250,
       "style": "IPY_MODEL_11d74b1845f84a43aae9ae2c8c9be485",
       "value": 6250
      }
     },
     "b94db27574824a37bf152f80aba6e94e": {
      "model_module": "jupyter-js-widgets",
      "model_module_version": "~2.1.4",
      "model_name": "ProgressStyleModel",
      "state": {
       "_model_module_version": "~2.1.4",
       "_view_module_version": "~2.1.4"
      }
     },
     "b99a31592d964f7bafc41d68cbc6f3c4": {
      "model_module": "jupyter-js-widgets",
      "model_module_version": "~2.1.4",
      "model_name": "LabelModel",
      "state": {
       "_model_module_version": "~2.1.4",
       "_view_module_version": "~2.1.4",
       "layout": "IPY_MODEL_1a5408ddcc12464c8806f20d99d78af1",
       "value": "6250 / 6250"
      }
     },
     "bbf44822d5ee41f084710304bb818edd": {
      "model_module": "jupyter-js-widgets",
      "model_module_version": "~2.1.4",
      "model_name": "ProgressModel",
      "state": {
       "_model_module_version": "~2.1.4",
       "_view_module_version": "~2.1.4",
       "bar_style": "success",
       "description": "100.00%",
       "layout": "IPY_MODEL_5c238e32ab05471da83cd0092ec36095",
       "max": 6250,
       "style": "IPY_MODEL_cf4e4a15c3874c51b871a5027f7faa36",
       "value": 6250
      }
     },
     "bc1c6fee2f6143fcb881369f66177bbd": {
      "model_module": "jupyter-js-widgets",
      "model_module_version": "~2.1.4",
      "model_name": "LabelModel",
      "state": {
       "_model_module_version": "~2.1.4",
       "_view_module_version": "~2.1.4",
       "layout": "IPY_MODEL_2075bf7f9e66473f8c23e20dd8c4a802",
       "value": "6250 / 6250"
      }
     },
     "bc6d283270104e3a8f57dcbad208e26a": {
      "model_module": "jupyter-js-widgets",
      "model_module_version": "~2.1.4",
      "model_name": "LabelModel",
      "state": {
       "_model_module_version": "~2.1.4",
       "_view_module_version": "~2.1.4",
       "layout": "IPY_MODEL_3f7e842b518e47d8bcdd8a2bfc71f44d",
       "value": "6250 / 6250"
      }
     },
     "bf7557f1bf1e42c59d0405f380a9d2cf": {
      "model_module": "jupyter-js-widgets",
      "model_module_version": "~2.1.4",
      "model_name": "LayoutModel",
      "state": {
       "_model_module_version": "~2.1.4",
       "_view_module_version": "~2.1.4"
      }
     },
     "c153877e2967428fb099303710d39e20": {
      "model_module": "jupyter-js-widgets",
      "model_module_version": "~2.1.4",
      "model_name": "LayoutModel",
      "state": {
       "_model_module_version": "~2.1.4",
       "_view_module_version": "~2.1.4"
      }
     },
     "c3bd2a7701d74594ab373944e21af3fc": {
      "model_module": "jupyter-js-widgets",
      "model_module_version": "~2.1.4",
      "model_name": "LabelModel",
      "state": {
       "_model_module_version": "~2.1.4",
       "_view_module_version": "~2.1.4",
       "layout": "IPY_MODEL_0b6d84f78c71421eb90977db1308dd2c",
       "value": "6250 / 6250"
      }
     },
     "c431522cdf7d4d639ddf8ee823aa9b9e": {
      "model_module": "jupyter-js-widgets",
      "model_module_version": "~2.1.4",
      "model_name": "HBoxModel",
      "state": {
       "_model_module_version": "~2.1.4",
       "_view_module_version": "~2.1.4",
       "children": [
        "IPY_MODEL_bbf44822d5ee41f084710304bb818edd",
        "IPY_MODEL_862ca87a770741b8a5e09c17e2f4f059"
       ],
       "layout": "IPY_MODEL_d9030bc776e74e4f80d861b774b9e41d"
      }
     },
     "c43bec418bee4dc9ab946dccee51608e": {
      "model_module": "jupyter-js-widgets",
      "model_module_version": "~2.1.4",
      "model_name": "LayoutModel",
      "state": {
       "_model_module_version": "~2.1.4",
       "_view_module_version": "~2.1.4"
      }
     },
     "c6208146b8974702870c8e7dee3c8c95": {
      "model_module": "jupyter-js-widgets",
      "model_module_version": "~2.1.4",
      "model_name": "LayoutModel",
      "state": {
       "_model_module_version": "~2.1.4",
       "_view_module_version": "~2.1.4"
      }
     },
     "c7c39906bebb4641a5cef99722d247e2": {
      "model_module": "jupyter-js-widgets",
      "model_module_version": "~2.1.4",
      "model_name": "ProgressStyleModel",
      "state": {
       "_model_module_version": "~2.1.4",
       "_view_module_version": "~2.1.4"
      }
     },
     "cadec291e8254c0183bc391068bc1d28": {
      "model_module": "jupyter-js-widgets",
      "model_module_version": "~2.1.4",
      "model_name": "LabelModel",
      "state": {
       "_model_module_version": "~2.1.4",
       "_view_module_version": "~2.1.4",
       "layout": "IPY_MODEL_2e11b860909043fc9dc1af187cade14b",
       "value": "6250 / 6250"
      }
     },
     "cb0f60d292f14c4c95c0e445b933492a": {
      "model_module": "jupyter-js-widgets",
      "model_module_version": "~2.1.4",
      "model_name": "LayoutModel",
      "state": {
       "_model_module_version": "~2.1.4",
       "_view_module_version": "~2.1.4"
      }
     },
     "ce38360f6f064c65a52da04db2ad33c8": {
      "model_module": "jupyter-js-widgets",
      "model_module_version": "~2.1.4",
      "model_name": "HBoxModel",
      "state": {
       "_model_module_version": "~2.1.4",
       "_view_module_version": "~2.1.4",
       "children": [
        "IPY_MODEL_eacf6570cd1b412c8ac43a5ed6fee63d",
        "IPY_MODEL_6c7c985fef994ea6a20dd3b1b482aa40"
       ],
       "layout": "IPY_MODEL_274c7ee834e141dbbf7b58bdd69fe6e2"
      }
     },
     "cf4e4a15c3874c51b871a5027f7faa36": {
      "model_module": "jupyter-js-widgets",
      "model_module_version": "~2.1.4",
      "model_name": "ProgressStyleModel",
      "state": {
       "_model_module_version": "~2.1.4",
       "_view_module_version": "~2.1.4"
      }
     },
     "d20652e7d2694260a17811727d3b24ab": {
      "model_module": "jupyter-js-widgets",
      "model_module_version": "~2.1.4",
      "model_name": "LabelModel",
      "state": {
       "_model_module_version": "~2.1.4",
       "_view_module_version": "~2.1.4",
       "layout": "IPY_MODEL_0a22c79437334b9eb5c2ddfc09f78304",
       "value": "6250 / 6250"
      }
     },
     "d28b7fd796f045a38969b7c2100b6184": {
      "model_module": "jupyter-js-widgets",
      "model_module_version": "~2.1.4",
      "model_name": "LayoutModel",
      "state": {
       "_model_module_version": "~2.1.4",
       "_view_module_version": "~2.1.4"
      }
     },
     "d3a668ad1cc9484e9bb4427fd9c78ca9": {
      "model_module": "jupyter-js-widgets",
      "model_module_version": "~2.1.4",
      "model_name": "ProgressStyleModel",
      "state": {
       "_model_module_version": "~2.1.4",
       "_view_module_version": "~2.1.4"
      }
     },
     "d3e84870deb74eb3b6c8ef1b235f92b0": {
      "model_module": "jupyter-js-widgets",
      "model_module_version": "~2.1.4",
      "model_name": "ProgressStyleModel",
      "state": {
       "_model_module_version": "~2.1.4",
       "_view_module_version": "~2.1.4"
      }
     },
     "d56ce66abfdf4035ad37bd6945e5b8ec": {
      "model_module": "jupyter-js-widgets",
      "model_module_version": "~2.1.4",
      "model_name": "LabelModel",
      "state": {
       "_model_module_version": "~2.1.4",
       "_view_module_version": "~2.1.4",
       "layout": "IPY_MODEL_c153877e2967428fb099303710d39e20",
       "value": "6250 / 6250"
      }
     },
     "d5eafa02c9b54ff9894e82c61c094382": {
      "model_module": "jupyter-js-widgets",
      "model_module_version": "~2.1.4",
      "model_name": "ProgressModel",
      "state": {
       "_model_module_version": "~2.1.4",
       "_view_module_version": "~2.1.4",
       "bar_style": "success",
       "description": "100.00%",
       "layout": "IPY_MODEL_268d5cc27cc5455e820c92def59874b7",
       "max": 6250,
       "style": "IPY_MODEL_93e8906276724bc7a4bdb1351c81209e",
       "value": 6250
      }
     },
     "d736839efb8146c99d17ff6324b052a8": {
      "model_module": "jupyter-js-widgets",
      "model_module_version": "~2.1.4",
      "model_name": "ProgressModel",
      "state": {
       "_model_module_version": "~2.1.4",
       "_view_module_version": "~2.1.4",
       "bar_style": "success",
       "description": "100.00%",
       "layout": "IPY_MODEL_b5d329b6728d452f9b33b49678c26a8e",
       "max": 6250,
       "style": "IPY_MODEL_953ccaffccba45e89c88bcdf89b8dafd",
       "value": 6250
      }
     },
     "d9030bc776e74e4f80d861b774b9e41d": {
      "model_module": "jupyter-js-widgets",
      "model_module_version": "~2.1.4",
      "model_name": "LayoutModel",
      "state": {
       "_model_module_version": "~2.1.4",
       "_view_module_version": "~2.1.4"
      }
     },
     "d9f946d793a24721896b4fb43f65bc8c": {
      "model_module": "jupyter-js-widgets",
      "model_module_version": "~2.1.4",
      "model_name": "LayoutModel",
      "state": {
       "_model_module_version": "~2.1.4",
       "_view_module_version": "~2.1.4"
      }
     },
     "dabb4a28c6a548789ff7ae9aca3e4246": {
      "model_module": "jupyter-js-widgets",
      "model_module_version": "~2.1.4",
      "model_name": "ProgressStyleModel",
      "state": {
       "_model_module_version": "~2.1.4",
       "_view_module_version": "~2.1.4"
      }
     },
     "dcc0bbc32e574e89ab1cfa0aa6cf7015": {
      "model_module": "jupyter-js-widgets",
      "model_module_version": "~2.1.4",
      "model_name": "ProgressModel",
      "state": {
       "_model_module_version": "~2.1.4",
       "_view_module_version": "~2.1.4",
       "bar_style": "success",
       "description": "100.00%",
       "layout": "IPY_MODEL_6e9dbbe6ccd841158f084e188bf49015",
       "max": 6250,
       "style": "IPY_MODEL_59d248e16d1a45ac9efa367b0497d58e",
       "value": 6250
      }
     },
     "dd5de5ac8862494e82f82b0950997aa4": {
      "model_module": "jupyter-js-widgets",
      "model_module_version": "~2.1.4",
      "model_name": "ProgressStyleModel",
      "state": {
       "_model_module_version": "~2.1.4",
       "_view_module_version": "~2.1.4"
      }
     },
     "de790a9cd7174e3385e4c105904ab12c": {
      "model_module": "jupyter-js-widgets",
      "model_module_version": "~2.1.4",
      "model_name": "HBoxModel",
      "state": {
       "_model_module_version": "~2.1.4",
       "_view_module_version": "~2.1.4",
       "children": [
        "IPY_MODEL_2427dde2097c40cfa11c66bc669a37cc",
        "IPY_MODEL_bc1c6fee2f6143fcb881369f66177bbd"
       ],
       "layout": "IPY_MODEL_b2bc364a909d4f4b97489e911d729ea1"
      }
     },
     "e0e64dd097304decbfd04ff97419bc34": {
      "model_module": "jupyter-js-widgets",
      "model_module_version": "~2.1.4",
      "model_name": "ProgressStyleModel",
      "state": {
       "_model_module_version": "~2.1.4",
       "_view_module_version": "~2.1.4"
      }
     },
     "e19f0ad63d724c1cb09c7b495d51daef": {
      "model_module": "jupyter-js-widgets",
      "model_module_version": "~2.1.4",
      "model_name": "LayoutModel",
      "state": {
       "_model_module_version": "~2.1.4",
       "_view_module_version": "~2.1.4"
      }
     },
     "e1a5e1d85f3d411ebe89fa1bad92a2ea": {
      "model_module": "jupyter-js-widgets",
      "model_module_version": "~2.1.4",
      "model_name": "LayoutModel",
      "state": {
       "_model_module_version": "~2.1.4",
       "_view_module_version": "~2.1.4"
      }
     },
     "e23f9cfbe8ec452bb306dbf75bc03307": {
      "model_module": "jupyter-js-widgets",
      "model_module_version": "~2.1.4",
      "model_name": "LayoutModel",
      "state": {
       "_model_module_version": "~2.1.4",
       "_view_module_version": "~2.1.4"
      }
     },
     "e252c23cc1d34c69830ac0f3ddfc1275": {
      "model_module": "jupyter-js-widgets",
      "model_module_version": "~2.1.4",
      "model_name": "HBoxModel",
      "state": {
       "_model_module_version": "~2.1.4",
       "_view_module_version": "~2.1.4",
       "children": [
        "IPY_MODEL_0cfa8cd193d3496bb60f3a7b6c5387ab",
        "IPY_MODEL_c3bd2a7701d74594ab373944e21af3fc"
       ],
       "layout": "IPY_MODEL_c6208146b8974702870c8e7dee3c8c95"
      }
     },
     "e2ae1c4bbb734a6aa7e6c544b6fc1c62": {
      "model_module": "jupyter-js-widgets",
      "model_module_version": "~2.1.4",
      "model_name": "LayoutModel",
      "state": {
       "_model_module_version": "~2.1.4",
       "_view_module_version": "~2.1.4"
      }
     },
     "e41484cf51464cfcb4f943d546d84f00": {
      "model_module": "jupyter-js-widgets",
      "model_module_version": "~2.1.4",
      "model_name": "HBoxModel",
      "state": {
       "_model_module_version": "~2.1.4",
       "_view_module_version": "~2.1.4",
       "children": [
        "IPY_MODEL_ea29456b8ff5432c9d27b34de9937338",
        "IPY_MODEL_2f4abb13115f44ecb67770ad7dfda7ed"
       ],
       "layout": "IPY_MODEL_940d89a3c4e549659d5379181bed819d"
      }
     },
     "e4366c6ddb1e4aebb74c5d16647b5ff0": {
      "model_module": "jupyter-js-widgets",
      "model_module_version": "~2.1.4",
      "model_name": "LayoutModel",
      "state": {
       "_model_module_version": "~2.1.4",
       "_view_module_version": "~2.1.4"
      }
     },
     "e883736d5e94497089fded53fdd58563": {
      "model_module": "jupyter-js-widgets",
      "model_module_version": "~2.1.4",
      "model_name": "LayoutModel",
      "state": {
       "_model_module_version": "~2.1.4",
       "_view_module_version": "~2.1.4"
      }
     },
     "ea29456b8ff5432c9d27b34de9937338": {
      "model_module": "jupyter-js-widgets",
      "model_module_version": "~2.1.4",
      "model_name": "ProgressModel",
      "state": {
       "_model_module_version": "~2.1.4",
       "_view_module_version": "~2.1.4",
       "bar_style": "success",
       "description": "100.00%",
       "layout": "IPY_MODEL_7e88c8c55943445d85a2481f6a658ecc",
       "max": 6250,
       "style": "IPY_MODEL_77b6430527c041ddb39b2a79314c67b1",
       "value": 6250
      }
     },
     "eacf6570cd1b412c8ac43a5ed6fee63d": {
      "model_module": "jupyter-js-widgets",
      "model_module_version": "~2.1.4",
      "model_name": "ProgressModel",
      "state": {
       "_model_module_version": "~2.1.4",
       "_view_module_version": "~2.1.4",
       "bar_style": "success",
       "description": "100.00%",
       "layout": "IPY_MODEL_1da04d6e29164d3b9a2f98fa44b307f3",
       "max": 6250,
       "style": "IPY_MODEL_2a2414bdc6dd4b35b2797303171a236c",
       "value": 6250
      }
     },
     "ec29b896bdb64291b3a3a266c2378b36": {
      "model_module": "jupyter-js-widgets",
      "model_module_version": "~2.1.4",
      "model_name": "LayoutModel",
      "state": {
       "_model_module_version": "~2.1.4",
       "_view_module_version": "~2.1.4"
      }
     },
     "ed086589e2104b949384f0981cb0ebbe": {
      "model_module": "jupyter-js-widgets",
      "model_module_version": "~2.1.4",
      "model_name": "HBoxModel",
      "state": {
       "_model_module_version": "~2.1.4",
       "_view_module_version": "~2.1.4",
       "children": [
        "IPY_MODEL_36266051c58945ecbfbce6d7e1d765a0",
        "IPY_MODEL_8f22b5b6a1a94280810593f7656d87bd"
       ],
       "layout": "IPY_MODEL_5cd05136918d4edba8dcce338ab09cb3"
      }
     },
     "eeecc80cfa114f30a8b1a0c6d8df28f9": {
      "model_module": "jupyter-js-widgets",
      "model_module_version": "~2.1.4",
      "model_name": "LayoutModel",
      "state": {
       "_model_module_version": "~2.1.4",
       "_view_module_version": "~2.1.4"
      }
     },
     "f326f90ed32c4272b309816578204515": {
      "model_module": "jupyter-js-widgets",
      "model_module_version": "~2.1.4",
      "model_name": "ProgressStyleModel",
      "state": {
       "_model_module_version": "~2.1.4",
       "_view_module_version": "~2.1.4"
      }
     },
     "f5fddbcaa2b544b2b50cded4da15ec09": {
      "model_module": "jupyter-js-widgets",
      "model_module_version": "~2.1.4",
      "model_name": "ProgressModel",
      "state": {
       "_model_module_version": "~2.1.4",
       "_view_module_version": "~2.1.4",
       "bar_style": "success",
       "description": "100.00%",
       "layout": "IPY_MODEL_c43bec418bee4dc9ab946dccee51608e",
       "max": 6250,
       "style": "IPY_MODEL_dabb4a28c6a548789ff7ae9aca3e4246",
       "value": 6250
      }
     },
     "f7e21433c2344523849d3e14633ce17b": {
      "model_module": "jupyter-js-widgets",
      "model_module_version": "~2.1.4",
      "model_name": "ProgressStyleModel",
      "state": {
       "_model_module_version": "~2.1.4",
       "_view_module_version": "~2.1.4"
      }
     },
     "fc9d3b08b8aa4ab795db88d3be4a3a56": {
      "model_module": "jupyter-js-widgets",
      "model_module_version": "~2.1.4",
      "model_name": "LayoutModel",
      "state": {
       "_model_module_version": "~2.1.4",
       "_view_module_version": "~2.1.4"
      }
     },
     "fcb9efaed25943a1a128fbace8e38f94": {
      "model_module": "jupyter-js-widgets",
      "model_module_version": "~2.1.4",
      "model_name": "HBoxModel",
      "state": {
       "_model_module_version": "~2.1.4",
       "_view_module_version": "~2.1.4",
       "children": [
        "IPY_MODEL_12f00b300c0e4e17a4e6382d9cff5e3e",
        "IPY_MODEL_ff2ec10f0a23473f8af4e78fd928e97c"
       ],
       "layout": "IPY_MODEL_4af5b2d69b53415f8c8716307f60cf48"
      }
     },
     "fdbfdade02574ed4b580e1921004d753": {
      "model_module": "jupyter-js-widgets",
      "model_module_version": "~2.1.4",
      "model_name": "ProgressStyleModel",
      "state": {
       "_model_module_version": "~2.1.4",
       "_view_module_version": "~2.1.4"
      }
     },
     "ff2ec10f0a23473f8af4e78fd928e97c": {
      "model_module": "jupyter-js-widgets",
      "model_module_version": "~2.1.4",
      "model_name": "LabelModel",
      "state": {
       "_model_module_version": "~2.1.4",
       "_view_module_version": "~2.1.4",
       "layout": "IPY_MODEL_430fd9862f5c413d86f2840acd9645df",
       "value": "6250 / 6250"
      }
     },
     "ffe7bdffcf844396aad21b53c2d30e44": {
      "model_module": "jupyter-js-widgets",
      "model_module_version": "~2.1.4",
      "model_name": "LayoutModel",
      "state": {
       "_model_module_version": "~2.1.4",
       "_view_module_version": "~2.1.4"
      }
     }
    },
    "version_major": 1,
    "version_minor": 0
   }
  }
 },
 "nbformat": 4,
 "nbformat_minor": 4
}
